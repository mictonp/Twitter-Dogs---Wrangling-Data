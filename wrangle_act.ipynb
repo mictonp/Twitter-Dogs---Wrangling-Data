{
 "cells": [
  {
   "cell_type": "markdown",
   "metadata": {},
   "source": [
    "# Wrangling Data Project - Udacity 2021"
   ]
  },
  {
   "cell_type": "markdown",
   "metadata": {},
   "source": [
    "Project by Victor Pham\n",
    "\n",
    "Date: April 18, 2021\n",
    "\n",
    "Data wrangling, which consists of:\n",
    "- Gathering data \n",
    "- Assessing data\n",
    "- Cleaning Data\n",
    "- Storing, analyzing and visualizing your wrangled data.\n",
    "\n",
    "Details about the project requirements and analysis can be reviewed in the coupled \"Wraggle Report\" and \"Act Report\""
   ]
  },
  {
   "cell_type": "markdown",
   "metadata": {},
   "source": [
    "# Table of Contents\n",
    "\n",
    "1.0 [Gathering Data](#gather) <br>\n",
    "&emsp;1.1 [Twitter API](#twitter) <br>\n",
    "2.0 [Assessing Date for this Project](#assess) <br>\n",
    "&emsp;2.1 [Quality Issues](#quality) <br>\n",
    "&emsp;2.2 [Tidiness Issues](#tidiness) <br>\n",
    "3.0 [Data Cleaning](#clean) <br>\n",
    "4.0 [Analysis](#analysis)\n"
   ]
  },
  {
   "cell_type": "markdown",
   "metadata": {},
   "source": [
    "## <u> 1.0 Gathering Data </u>\n",
    "<a id = \"gather\"> </a>"
   ]
  },
  {
   "cell_type": "code",
   "execution_count": 1,
   "metadata": {},
   "outputs": [],
   "source": [
    "import pandas as pd\n",
    "import wptools\n",
    "import os\n",
    "import requests\n",
    "\n",
    "from timeit import default_timer as timer\n",
    "import json\n",
    "\n",
    "from PIL import Image\n",
    "from io import BytesIO"
   ]
  },
  {
   "cell_type": "code",
   "execution_count": 2,
   "metadata": {},
   "outputs": [],
   "source": [
    "df_twitter = pd.read_csv(\"twitter-archive-enhanced.csv\")\n"
   ]
  },
  {
   "cell_type": "code",
   "execution_count": 3,
   "metadata": {},
   "outputs": [
    {
     "data": {
      "text/html": [
       "<div>\n",
       "<style scoped>\n",
       "    .dataframe tbody tr th:only-of-type {\n",
       "        vertical-align: middle;\n",
       "    }\n",
       "\n",
       "    .dataframe tbody tr th {\n",
       "        vertical-align: top;\n",
       "    }\n",
       "\n",
       "    .dataframe thead th {\n",
       "        text-align: right;\n",
       "    }\n",
       "</style>\n",
       "<table border=\"1\" class=\"dataframe\">\n",
       "  <thead>\n",
       "    <tr style=\"text-align: right;\">\n",
       "      <th></th>\n",
       "      <th>tweet_id</th>\n",
       "      <th>in_reply_to_status_id</th>\n",
       "      <th>in_reply_to_user_id</th>\n",
       "      <th>timestamp</th>\n",
       "      <th>source</th>\n",
       "      <th>text</th>\n",
       "      <th>retweeted_status_id</th>\n",
       "      <th>retweeted_status_user_id</th>\n",
       "      <th>retweeted_status_timestamp</th>\n",
       "      <th>expanded_urls</th>\n",
       "      <th>rating_numerator</th>\n",
       "      <th>rating_denominator</th>\n",
       "      <th>name</th>\n",
       "      <th>doggo</th>\n",
       "      <th>floofer</th>\n",
       "      <th>pupper</th>\n",
       "      <th>puppo</th>\n",
       "    </tr>\n",
       "  </thead>\n",
       "  <tbody>\n",
       "    <tr>\n",
       "      <th>2291</th>\n",
       "      <td>667165590075940865</td>\n",
       "      <td>NaN</td>\n",
       "      <td>NaN</td>\n",
       "      <td>2015-11-19 02:20:46 +0000</td>\n",
       "      <td>&lt;a href=\"http://twitter.com/download/iphone\" r...</td>\n",
       "      <td>This is Churlie. AKA Fetty Woof. Lost eye savi...</td>\n",
       "      <td>NaN</td>\n",
       "      <td>NaN</td>\n",
       "      <td>NaN</td>\n",
       "      <td>https://twitter.com/dog_rates/status/667165590...</td>\n",
       "      <td>10</td>\n",
       "      <td>10</td>\n",
       "      <td>Churlie</td>\n",
       "      <td>None</td>\n",
       "      <td>None</td>\n",
       "      <td>None</td>\n",
       "      <td>None</td>\n",
       "    </tr>\n",
       "  </tbody>\n",
       "</table>\n",
       "</div>"
      ],
      "text/plain": [
       "                tweet_id  in_reply_to_status_id  in_reply_to_user_id  \\\n",
       "2291  667165590075940865                    NaN                  NaN   \n",
       "\n",
       "                      timestamp  \\\n",
       "2291  2015-11-19 02:20:46 +0000   \n",
       "\n",
       "                                                 source  \\\n",
       "2291  <a href=\"http://twitter.com/download/iphone\" r...   \n",
       "\n",
       "                                                   text  retweeted_status_id  \\\n",
       "2291  This is Churlie. AKA Fetty Woof. Lost eye savi...                  NaN   \n",
       "\n",
       "      retweeted_status_user_id retweeted_status_timestamp  \\\n",
       "2291                       NaN                        NaN   \n",
       "\n",
       "                                          expanded_urls  rating_numerator  \\\n",
       "2291  https://twitter.com/dog_rates/status/667165590...                10   \n",
       "\n",
       "      rating_denominator     name doggo floofer pupper puppo  \n",
       "2291                  10  Churlie  None    None   None  None  "
      ]
     },
     "execution_count": 3,
     "metadata": {},
     "output_type": "execute_result"
    }
   ],
   "source": [
    "df_twitter.sample()"
   ]
  },
  {
   "cell_type": "markdown",
   "metadata": {},
   "source": [
    "## The Three Datasets to Gather ##\n",
    "Use the request from the url provided to grab the images?\n",
    "\n",
    "1) Using requests and the url to obtain the \"image-predictions.tsv\" file\n",
    "  - Import this file using pd.read_csv\n",
    "\n",
    "2) Use the twitter API to grab the specific tweets, using the same tweet_id from \"twitter_archive_enhanced.csv\" to grab extra info from each twitter page directly, this will help us flesh out the data. The API is then used to grab each Twitter ID into a JSON file format. From there we can query (json.loads) the specific information we need using text extraction. It is important our encoding is in UTF-8 and write = 'r'  \n",
    "\n",
    "3) We now have three of our databases and we can start the Assessing Data for this project:\n",
    "\n",
    "    - Image Predictions File\n",
    "    - Twitter_Archive_Enhanced.csv\n",
    "    - Twitter API file\n"
   ]
  },
  {
   "cell_type": "markdown",
   "metadata": {},
   "source": [
    "### Obtaining the Twitter Photos File "
   ]
  },
  {
   "cell_type": "code",
   "execution_count": 4,
   "metadata": {},
   "outputs": [],
   "source": [
    "folder_name = 'twitter_photos'\n",
    "if not os.path.exists(folder_name):\n",
    "    os.makedirs(folder_name)"
   ]
  },
  {
   "cell_type": "code",
   "execution_count": 5,
   "metadata": {},
   "outputs": [],
   "source": [
    "#for url in image_prediction_url:\n",
    "url = 'https://d17h27t6h515a5.cloudfront.net/topher/2017/August/599fd2ad_image-predictions/image-predictions.tsv'\n",
    "response = requests.get(url)\n",
    "\n",
    "with open(os.path.join(folder_name,\n",
    "                    url.split('/')[-1]), mode = 'wb') as file:\n",
    "    file.write(response.content)"
   ]
  },
  {
   "cell_type": "code",
   "execution_count": 6,
   "metadata": {},
   "outputs": [
    {
     "data": {
      "text/plain": [
       "['image-predictions.tsv']"
      ]
     },
     "execution_count": 6,
     "metadata": {},
     "output_type": "execute_result"
    }
   ],
   "source": [
    "os.listdir(folder_name)"
   ]
  },
  {
   "cell_type": "code",
   "execution_count": 7,
   "metadata": {},
   "outputs": [],
   "source": [
    "image_predictions = pd.read_csv('image-predictions.tsv', sep='\\t')"
   ]
  },
  {
   "cell_type": "code",
   "execution_count": 8,
   "metadata": {},
   "outputs": [
    {
     "data": {
      "text/html": [
       "<div>\n",
       "<style scoped>\n",
       "    .dataframe tbody tr th:only-of-type {\n",
       "        vertical-align: middle;\n",
       "    }\n",
       "\n",
       "    .dataframe tbody tr th {\n",
       "        vertical-align: top;\n",
       "    }\n",
       "\n",
       "    .dataframe thead th {\n",
       "        text-align: right;\n",
       "    }\n",
       "</style>\n",
       "<table border=\"1\" class=\"dataframe\">\n",
       "  <thead>\n",
       "    <tr style=\"text-align: right;\">\n",
       "      <th></th>\n",
       "      <th>tweet_id</th>\n",
       "      <th>jpg_url</th>\n",
       "      <th>img_num</th>\n",
       "      <th>p1</th>\n",
       "      <th>p1_conf</th>\n",
       "      <th>p1_dog</th>\n",
       "      <th>p2</th>\n",
       "      <th>p2_conf</th>\n",
       "      <th>p2_dog</th>\n",
       "      <th>p3</th>\n",
       "      <th>p3_conf</th>\n",
       "      <th>p3_dog</th>\n",
       "    </tr>\n",
       "  </thead>\n",
       "  <tbody>\n",
       "    <tr>\n",
       "      <th>1994</th>\n",
       "      <td>874057562936811520</td>\n",
       "      <td>https://pbs.twimg.com/media/DCFGtdoXkAEsqIw.jpg</td>\n",
       "      <td>1</td>\n",
       "      <td>flat-coated_retriever</td>\n",
       "      <td>0.832177</td>\n",
       "      <td>True</td>\n",
       "      <td>black-and-tan_coonhound</td>\n",
       "      <td>0.040437</td>\n",
       "      <td>True</td>\n",
       "      <td>Newfoundland</td>\n",
       "      <td>0.028228</td>\n",
       "      <td>True</td>\n",
       "    </tr>\n",
       "  </tbody>\n",
       "</table>\n",
       "</div>"
      ],
      "text/plain": [
       "                tweet_id                                          jpg_url  \\\n",
       "1994  874057562936811520  https://pbs.twimg.com/media/DCFGtdoXkAEsqIw.jpg   \n",
       "\n",
       "      img_num                     p1   p1_conf  p1_dog  \\\n",
       "1994        1  flat-coated_retriever  0.832177    True   \n",
       "\n",
       "                           p2   p2_conf  p2_dog            p3   p3_conf  \\\n",
       "1994  black-and-tan_coonhound  0.040437    True  Newfoundland  0.028228   \n",
       "\n",
       "      p3_dog  \n",
       "1994    True  "
      ]
     },
     "execution_count": 8,
     "metadata": {},
     "output_type": "execute_result"
    }
   ],
   "source": [
    "image_predictions.sample()"
   ]
  },
  {
   "cell_type": "markdown",
   "metadata": {},
   "source": [
    "###  1.1 Twitter API\n",
    "<a id = \"twitter\"> </a>\n",
    "\n",
    "As reference the Twitter API code was included as if it was run, however as per the project requirements, the consumer_key, consumer_secret, access_token and access_secret were not included. The following code was not run, as it needs the proper keys to run properly. This creates a \"tweet_json.txt\" file from the twitter API which will be parsed for the specific information."
   ]
  },
  {
   "cell_type": "markdown",
   "metadata": {},
   "source": [
    "## This is grabbing the twitter API using the keys from the twitter development page once a project has beenr requested\n",
    "\n",
    "import tweepy\n",
    "\n",
    "consumer_key = '60lmCL7Jtk5ZtvdkBOvlqGBCx'\n",
    "consumer_secret = 'MYsUAef7MqQf8pAMOPh3agWu0qtEPI656iZdgyTXqMyPUWqKlc'\n",
    "access_token = '18559826-EFH4poaJOnREZLa9tRvYlqwUOBRRvGbWr2Use4q2H'\n",
    "access_secret = '8DhXagwJDbCLJq1JDuOpmvzTxPMH321AL6YjzkRqG3ZkM'\n",
    "\n",
    "auth = tweepy.OAuthHandler(consumer_key, consumer_secret)\n",
    "auth.set_access_token(access_token, access_secret)\n",
    "\n",
    "api = tweepy.API(auth)"
   ]
  },
  {
   "cell_type": "markdown",
   "metadata": {},
   "source": [
    "api.me()"
   ]
  },
  {
   "cell_type": "markdown",
   "metadata": {},
   "source": [
    "#### The point of this code is to use the twitter_id and the twitter API to grab the text data from each of the twitter pages.\n",
    "#### This is possible as each twitter page uses the twitter_id to parse each page.\n",
    "#### We can use api.get_status and the tweet_id to dump the content into a json file (outfile)\n",
    "\n",
    "from timeit import default_timer as timer\n",
    "import json\n",
    "\n",
    "tweet_ids = df_twitter.tweet_id.values\n",
    "len(tweet_ids)\n",
    "\n",
    "#### Query Twitter's API for JSON data for each tweet ID in the Twitter archive\n",
    "count = 0\n",
    "fails_dict = {}\n",
    "start = timer()\n",
    "### Save each tweet's returned JSON as a new line in a .txt file\n",
    "with open('tweet_json.txt', 'w') as outfile:\n",
    "    ### This loop will likely take 20-30 minutes to run because of Twitter's rate limit\n",
    "    for tweet_id in tweet_ids:\n",
    "        count += 1\n",
    "        print(str(count) + \": \" + str(tweet_id))\n",
    "        try:\n",
    "            tweet = api.get_status(tweet_id, tweet_mode='extended')\n",
    "            print(\"Success\")\n",
    "            json.dump(tweet._json, outfile)\n",
    "            outfile.write('\\n')\n",
    "        except tweepy.TweepError as e:\n",
    "            print(\"Fail\")\n",
    "            fails_dict[tweet_id] = e\n",
    "            pass\n",
    "end = timer()\n",
    "print(end - start)\n",
    "print(fails_dict)"
   ]
  },
  {
   "cell_type": "markdown",
   "metadata": {},
   "source": [
    "### Gathering Data for this Project\n",
    "\n",
    "Project Details: Then read this tweet_json.txt file line by line into a pandas Datafram with (at minimum) tweet ID, retweet count and favorite count\n",
    "\n",
    "In the code below it should be noted we are using \"json.loads\" instead of \"json.load\". This is because the variable tweet is a str and not a file\n",
    "\n",
    "\n",
    "From the official documentation https://docs.python.org/3/library/json.html:\n",
    "json.load - Deserialize fp (a .read()-supporting text file or binary file containing a JSON document) to a Python object using this conversion table.\n",
    "\n",
    "json.loads - Deserialize s (a str, bytes or bytearray instance containing a JSON document) to a Python object using this conversion table."
   ]
  },
  {
   "cell_type": "code",
   "execution_count": 9,
   "metadata": {},
   "outputs": [],
   "source": [
    "#Using the tweet_json.txt file, extract the intended data into a new dataframe, in this case we will be \n",
    "# extracting the retweet_count, favorite_count and the tweet_id.\n",
    "# Refer to this link for terminology on using json.loads - https://stackabuse.com/reading-and-writing-json-to-a-file-in-python/\n",
    "# \n",
    "df_list = []\n",
    "with open('tweet_json.txt', encoding='utf-8', mode='r') as file:\n",
    "    for tweet in file:\n",
    "        data = json.loads(tweet)\n",
    "        tweet_id = data['id']\n",
    "        retweet_count = data['retweet_count']\n",
    "        favorite_count = data['favorite_count']\n",
    "        df_list.append({'tweet_id': int(tweet_id),\n",
    "                        'retweet_count': int(retweet_count),\n",
    "                        'favorite_count': int(favorite_count)})\n",
    "twitter_json = pd.DataFrame(df_list, columns=['tweet_id', 'retweet_count', 'favorite_count'])"
   ]
  },
  {
   "cell_type": "code",
   "execution_count": 10,
   "metadata": {},
   "outputs": [
    {
     "data": {
      "text/html": [
       "<div>\n",
       "<style scoped>\n",
       "    .dataframe tbody tr th:only-of-type {\n",
       "        vertical-align: middle;\n",
       "    }\n",
       "\n",
       "    .dataframe tbody tr th {\n",
       "        vertical-align: top;\n",
       "    }\n",
       "\n",
       "    .dataframe thead th {\n",
       "        text-align: right;\n",
       "    }\n",
       "</style>\n",
       "<table border=\"1\" class=\"dataframe\">\n",
       "  <thead>\n",
       "    <tr style=\"text-align: right;\">\n",
       "      <th></th>\n",
       "      <th>tweet_id</th>\n",
       "      <th>retweet_count</th>\n",
       "      <th>favorite_count</th>\n",
       "    </tr>\n",
       "  </thead>\n",
       "  <tbody>\n",
       "    <tr>\n",
       "      <th>0</th>\n",
       "      <td>892420643555336193</td>\n",
       "      <td>7323</td>\n",
       "      <td>34902</td>\n",
       "    </tr>\n",
       "    <tr>\n",
       "      <th>1</th>\n",
       "      <td>892177421306343426</td>\n",
       "      <td>5468</td>\n",
       "      <td>30227</td>\n",
       "    </tr>\n",
       "    <tr>\n",
       "      <th>2</th>\n",
       "      <td>891815181378084864</td>\n",
       "      <td>3616</td>\n",
       "      <td>22753</td>\n",
       "    </tr>\n",
       "    <tr>\n",
       "      <th>3</th>\n",
       "      <td>891689557279858688</td>\n",
       "      <td>7516</td>\n",
       "      <td>38174</td>\n",
       "    </tr>\n",
       "    <tr>\n",
       "      <th>4</th>\n",
       "      <td>891327558926688256</td>\n",
       "      <td>8074</td>\n",
       "      <td>36444</td>\n",
       "    </tr>\n",
       "  </tbody>\n",
       "</table>\n",
       "</div>"
      ],
      "text/plain": [
       "             tweet_id  retweet_count  favorite_count\n",
       "0  892420643555336193           7323           34902\n",
       "1  892177421306343426           5468           30227\n",
       "2  891815181378084864           3616           22753\n",
       "3  891689557279858688           7516           38174\n",
       "4  891327558926688256           8074           36444"
      ]
     },
     "execution_count": 10,
     "metadata": {},
     "output_type": "execute_result"
    }
   ],
   "source": [
    "twitter_json.head(5)"
   ]
  },
  {
   "cell_type": "markdown",
   "metadata": {},
   "source": [
    "# <u> 2.0 Assessing Data for this Project <u> \n",
    "  <a id = \"assess\"> </a>"
   ]
  },
  {
   "cell_type": "markdown",
   "metadata": {},
   "source": [
    "The three databases are twitter_json, df_twitter and images_predictions.\n",
    "\n",
    "After gathering each of the above pieces of data, assess them visually and programmatically for quality and tidiness issues. Detect and document at least eight (8) quality issues and two (2) tidiness issues in your wrangle_act.ipynb Jupyter Notebook. To meet specifications, the issues that satisfy the Project Motivation (see the Key Points header on the previous page) must be assessed."
   ]
  },
  {
   "cell_type": "markdown",
   "metadata": {},
   "source": [
    "## 2.1 Quality Issues ##\n",
    "<a id = \"quality\"> </a>\n",
    "\n",
    "1.\tTweet IDs need to be converted into strings, to not be consider in numerical analysis for all three databases.\n",
    "\n",
    "2.\tThe “timestamp” column should be converted into a datetime format in case this column needs to be analyzed.\n",
    "\n",
    "3.\tRemove any entries in the tweet archive that were either retweeted by using the “retweeted_status_id”, otherwise they will be treated as duplicated IDs.\n",
    "\n",
    "4. Remove any entries in the tweet archive that were replied using the \"in_reply_to_status_id\" to identify these ones, otherwise they will be treated as duplicated IDs.\n",
    "\n",
    "4.\tRemove the “retweeted_status_id” and “in_reply_to_status_id” columns.\n",
    "\n",
    "5.\tSome of the tweets do not have proper dog names, the string parsing, grabbed names as “None”, “a”, “an” and “the.”. Essentially any lowercase names should be removed and replaced by NaN.\n",
    "\n",
    "6.\tTweet ID 666287406224695000 has a rating of “1/2” which was mis-interpreted from the tweet, it should instead be 9/10.\n",
    "\n",
    "7.\tThe dog types labelled as None were converted as a blank string ‘’ to help in combining them later in one of the tidiness steps.\n",
    "\n",
    "\n",
    "\n",
    "## 2.2 Tidiness Issues ##\n",
    "<a id = \"tidiness\"> </a>\n",
    "\n",
    "1. The type of dog (doggo, floofer, pupper, puppo) can be placed under one column as this type of variable is describe the type of dog, it does not need to be in four different columns. Each variable forms a column.\n",
    "\n",
    "2. Since we are not keeping tweets without images, we can combined the enhanced twitter archive tables with the image predictions table using the tweet_id. We can probably also combine the JSON table for the tweets that had the dog breed prediction performed on the specific tweets"
   ]
  },
  {
   "cell_type": "code",
   "execution_count": 11,
   "metadata": {},
   "outputs": [
    {
     "data": {
      "text/html": [
       "<div>\n",
       "<style scoped>\n",
       "    .dataframe tbody tr th:only-of-type {\n",
       "        vertical-align: middle;\n",
       "    }\n",
       "\n",
       "    .dataframe tbody tr th {\n",
       "        vertical-align: top;\n",
       "    }\n",
       "\n",
       "    .dataframe thead th {\n",
       "        text-align: right;\n",
       "    }\n",
       "</style>\n",
       "<table border=\"1\" class=\"dataframe\">\n",
       "  <thead>\n",
       "    <tr style=\"text-align: right;\">\n",
       "      <th></th>\n",
       "      <th>tweet_id</th>\n",
       "      <th>in_reply_to_status_id</th>\n",
       "      <th>in_reply_to_user_id</th>\n",
       "      <th>timestamp</th>\n",
       "      <th>source</th>\n",
       "      <th>text</th>\n",
       "      <th>retweeted_status_id</th>\n",
       "      <th>retweeted_status_user_id</th>\n",
       "      <th>retweeted_status_timestamp</th>\n",
       "      <th>expanded_urls</th>\n",
       "      <th>rating_numerator</th>\n",
       "      <th>rating_denominator</th>\n",
       "      <th>name</th>\n",
       "      <th>doggo</th>\n",
       "      <th>floofer</th>\n",
       "      <th>pupper</th>\n",
       "      <th>puppo</th>\n",
       "    </tr>\n",
       "  </thead>\n",
       "  <tbody>\n",
       "    <tr>\n",
       "      <th>0</th>\n",
       "      <td>892420643555336193</td>\n",
       "      <td>NaN</td>\n",
       "      <td>NaN</td>\n",
       "      <td>2017-08-01 16:23:56 +0000</td>\n",
       "      <td>&lt;a href=\"http://twitter.com/download/iphone\" r...</td>\n",
       "      <td>This is Phineas. He's a mystical boy. Only eve...</td>\n",
       "      <td>NaN</td>\n",
       "      <td>NaN</td>\n",
       "      <td>NaN</td>\n",
       "      <td>https://twitter.com/dog_rates/status/892420643...</td>\n",
       "      <td>13</td>\n",
       "      <td>10</td>\n",
       "      <td>Phineas</td>\n",
       "      <td>None</td>\n",
       "      <td>None</td>\n",
       "      <td>None</td>\n",
       "      <td>None</td>\n",
       "    </tr>\n",
       "    <tr>\n",
       "      <th>1</th>\n",
       "      <td>892177421306343426</td>\n",
       "      <td>NaN</td>\n",
       "      <td>NaN</td>\n",
       "      <td>2017-08-01 00:17:27 +0000</td>\n",
       "      <td>&lt;a href=\"http://twitter.com/download/iphone\" r...</td>\n",
       "      <td>This is Tilly. She's just checking pup on you....</td>\n",
       "      <td>NaN</td>\n",
       "      <td>NaN</td>\n",
       "      <td>NaN</td>\n",
       "      <td>https://twitter.com/dog_rates/status/892177421...</td>\n",
       "      <td>13</td>\n",
       "      <td>10</td>\n",
       "      <td>Tilly</td>\n",
       "      <td>None</td>\n",
       "      <td>None</td>\n",
       "      <td>None</td>\n",
       "      <td>None</td>\n",
       "    </tr>\n",
       "    <tr>\n",
       "      <th>2</th>\n",
       "      <td>891815181378084864</td>\n",
       "      <td>NaN</td>\n",
       "      <td>NaN</td>\n",
       "      <td>2017-07-31 00:18:03 +0000</td>\n",
       "      <td>&lt;a href=\"http://twitter.com/download/iphone\" r...</td>\n",
       "      <td>This is Archie. He is a rare Norwegian Pouncin...</td>\n",
       "      <td>NaN</td>\n",
       "      <td>NaN</td>\n",
       "      <td>NaN</td>\n",
       "      <td>https://twitter.com/dog_rates/status/891815181...</td>\n",
       "      <td>12</td>\n",
       "      <td>10</td>\n",
       "      <td>Archie</td>\n",
       "      <td>None</td>\n",
       "      <td>None</td>\n",
       "      <td>None</td>\n",
       "      <td>None</td>\n",
       "    </tr>\n",
       "    <tr>\n",
       "      <th>3</th>\n",
       "      <td>891689557279858688</td>\n",
       "      <td>NaN</td>\n",
       "      <td>NaN</td>\n",
       "      <td>2017-07-30 15:58:51 +0000</td>\n",
       "      <td>&lt;a href=\"http://twitter.com/download/iphone\" r...</td>\n",
       "      <td>This is Darla. She commenced a snooze mid meal...</td>\n",
       "      <td>NaN</td>\n",
       "      <td>NaN</td>\n",
       "      <td>NaN</td>\n",
       "      <td>https://twitter.com/dog_rates/status/891689557...</td>\n",
       "      <td>13</td>\n",
       "      <td>10</td>\n",
       "      <td>Darla</td>\n",
       "      <td>None</td>\n",
       "      <td>None</td>\n",
       "      <td>None</td>\n",
       "      <td>None</td>\n",
       "    </tr>\n",
       "    <tr>\n",
       "      <th>4</th>\n",
       "      <td>891327558926688256</td>\n",
       "      <td>NaN</td>\n",
       "      <td>NaN</td>\n",
       "      <td>2017-07-29 16:00:24 +0000</td>\n",
       "      <td>&lt;a href=\"http://twitter.com/download/iphone\" r...</td>\n",
       "      <td>This is Franklin. He would like you to stop ca...</td>\n",
       "      <td>NaN</td>\n",
       "      <td>NaN</td>\n",
       "      <td>NaN</td>\n",
       "      <td>https://twitter.com/dog_rates/status/891327558...</td>\n",
       "      <td>12</td>\n",
       "      <td>10</td>\n",
       "      <td>Franklin</td>\n",
       "      <td>None</td>\n",
       "      <td>None</td>\n",
       "      <td>None</td>\n",
       "      <td>None</td>\n",
       "    </tr>\n",
       "    <tr>\n",
       "      <th>...</th>\n",
       "      <td>...</td>\n",
       "      <td>...</td>\n",
       "      <td>...</td>\n",
       "      <td>...</td>\n",
       "      <td>...</td>\n",
       "      <td>...</td>\n",
       "      <td>...</td>\n",
       "      <td>...</td>\n",
       "      <td>...</td>\n",
       "      <td>...</td>\n",
       "      <td>...</td>\n",
       "      <td>...</td>\n",
       "      <td>...</td>\n",
       "      <td>...</td>\n",
       "      <td>...</td>\n",
       "      <td>...</td>\n",
       "      <td>...</td>\n",
       "    </tr>\n",
       "    <tr>\n",
       "      <th>2351</th>\n",
       "      <td>666049248165822465</td>\n",
       "      <td>NaN</td>\n",
       "      <td>NaN</td>\n",
       "      <td>2015-11-16 00:24:50 +0000</td>\n",
       "      <td>&lt;a href=\"http://twitter.com/download/iphone\" r...</td>\n",
       "      <td>Here we have a 1949 1st generation vulpix. Enj...</td>\n",
       "      <td>NaN</td>\n",
       "      <td>NaN</td>\n",
       "      <td>NaN</td>\n",
       "      <td>https://twitter.com/dog_rates/status/666049248...</td>\n",
       "      <td>5</td>\n",
       "      <td>10</td>\n",
       "      <td>None</td>\n",
       "      <td>None</td>\n",
       "      <td>None</td>\n",
       "      <td>None</td>\n",
       "      <td>None</td>\n",
       "    </tr>\n",
       "    <tr>\n",
       "      <th>2352</th>\n",
       "      <td>666044226329800704</td>\n",
       "      <td>NaN</td>\n",
       "      <td>NaN</td>\n",
       "      <td>2015-11-16 00:04:52 +0000</td>\n",
       "      <td>&lt;a href=\"http://twitter.com/download/iphone\" r...</td>\n",
       "      <td>This is a purebred Piers Morgan. Loves to Netf...</td>\n",
       "      <td>NaN</td>\n",
       "      <td>NaN</td>\n",
       "      <td>NaN</td>\n",
       "      <td>https://twitter.com/dog_rates/status/666044226...</td>\n",
       "      <td>6</td>\n",
       "      <td>10</td>\n",
       "      <td>a</td>\n",
       "      <td>None</td>\n",
       "      <td>None</td>\n",
       "      <td>None</td>\n",
       "      <td>None</td>\n",
       "    </tr>\n",
       "    <tr>\n",
       "      <th>2353</th>\n",
       "      <td>666033412701032449</td>\n",
       "      <td>NaN</td>\n",
       "      <td>NaN</td>\n",
       "      <td>2015-11-15 23:21:54 +0000</td>\n",
       "      <td>&lt;a href=\"http://twitter.com/download/iphone\" r...</td>\n",
       "      <td>Here is a very happy pup. Big fan of well-main...</td>\n",
       "      <td>NaN</td>\n",
       "      <td>NaN</td>\n",
       "      <td>NaN</td>\n",
       "      <td>https://twitter.com/dog_rates/status/666033412...</td>\n",
       "      <td>9</td>\n",
       "      <td>10</td>\n",
       "      <td>a</td>\n",
       "      <td>None</td>\n",
       "      <td>None</td>\n",
       "      <td>None</td>\n",
       "      <td>None</td>\n",
       "    </tr>\n",
       "    <tr>\n",
       "      <th>2354</th>\n",
       "      <td>666029285002620928</td>\n",
       "      <td>NaN</td>\n",
       "      <td>NaN</td>\n",
       "      <td>2015-11-15 23:05:30 +0000</td>\n",
       "      <td>&lt;a href=\"http://twitter.com/download/iphone\" r...</td>\n",
       "      <td>This is a western brown Mitsubishi terrier. Up...</td>\n",
       "      <td>NaN</td>\n",
       "      <td>NaN</td>\n",
       "      <td>NaN</td>\n",
       "      <td>https://twitter.com/dog_rates/status/666029285...</td>\n",
       "      <td>7</td>\n",
       "      <td>10</td>\n",
       "      <td>a</td>\n",
       "      <td>None</td>\n",
       "      <td>None</td>\n",
       "      <td>None</td>\n",
       "      <td>None</td>\n",
       "    </tr>\n",
       "    <tr>\n",
       "      <th>2355</th>\n",
       "      <td>666020888022790149</td>\n",
       "      <td>NaN</td>\n",
       "      <td>NaN</td>\n",
       "      <td>2015-11-15 22:32:08 +0000</td>\n",
       "      <td>&lt;a href=\"http://twitter.com/download/iphone\" r...</td>\n",
       "      <td>Here we have a Japanese Irish Setter. Lost eye...</td>\n",
       "      <td>NaN</td>\n",
       "      <td>NaN</td>\n",
       "      <td>NaN</td>\n",
       "      <td>https://twitter.com/dog_rates/status/666020888...</td>\n",
       "      <td>8</td>\n",
       "      <td>10</td>\n",
       "      <td>None</td>\n",
       "      <td>None</td>\n",
       "      <td>None</td>\n",
       "      <td>None</td>\n",
       "      <td>None</td>\n",
       "    </tr>\n",
       "  </tbody>\n",
       "</table>\n",
       "<p>2356 rows × 17 columns</p>\n",
       "</div>"
      ],
      "text/plain": [
       "                tweet_id  in_reply_to_status_id  in_reply_to_user_id  \\\n",
       "0     892420643555336193                    NaN                  NaN   \n",
       "1     892177421306343426                    NaN                  NaN   \n",
       "2     891815181378084864                    NaN                  NaN   \n",
       "3     891689557279858688                    NaN                  NaN   \n",
       "4     891327558926688256                    NaN                  NaN   \n",
       "...                  ...                    ...                  ...   \n",
       "2351  666049248165822465                    NaN                  NaN   \n",
       "2352  666044226329800704                    NaN                  NaN   \n",
       "2353  666033412701032449                    NaN                  NaN   \n",
       "2354  666029285002620928                    NaN                  NaN   \n",
       "2355  666020888022790149                    NaN                  NaN   \n",
       "\n",
       "                      timestamp  \\\n",
       "0     2017-08-01 16:23:56 +0000   \n",
       "1     2017-08-01 00:17:27 +0000   \n",
       "2     2017-07-31 00:18:03 +0000   \n",
       "3     2017-07-30 15:58:51 +0000   \n",
       "4     2017-07-29 16:00:24 +0000   \n",
       "...                         ...   \n",
       "2351  2015-11-16 00:24:50 +0000   \n",
       "2352  2015-11-16 00:04:52 +0000   \n",
       "2353  2015-11-15 23:21:54 +0000   \n",
       "2354  2015-11-15 23:05:30 +0000   \n",
       "2355  2015-11-15 22:32:08 +0000   \n",
       "\n",
       "                                                 source  \\\n",
       "0     <a href=\"http://twitter.com/download/iphone\" r...   \n",
       "1     <a href=\"http://twitter.com/download/iphone\" r...   \n",
       "2     <a href=\"http://twitter.com/download/iphone\" r...   \n",
       "3     <a href=\"http://twitter.com/download/iphone\" r...   \n",
       "4     <a href=\"http://twitter.com/download/iphone\" r...   \n",
       "...                                                 ...   \n",
       "2351  <a href=\"http://twitter.com/download/iphone\" r...   \n",
       "2352  <a href=\"http://twitter.com/download/iphone\" r...   \n",
       "2353  <a href=\"http://twitter.com/download/iphone\" r...   \n",
       "2354  <a href=\"http://twitter.com/download/iphone\" r...   \n",
       "2355  <a href=\"http://twitter.com/download/iphone\" r...   \n",
       "\n",
       "                                                   text  retweeted_status_id  \\\n",
       "0     This is Phineas. He's a mystical boy. Only eve...                  NaN   \n",
       "1     This is Tilly. She's just checking pup on you....                  NaN   \n",
       "2     This is Archie. He is a rare Norwegian Pouncin...                  NaN   \n",
       "3     This is Darla. She commenced a snooze mid meal...                  NaN   \n",
       "4     This is Franklin. He would like you to stop ca...                  NaN   \n",
       "...                                                 ...                  ...   \n",
       "2351  Here we have a 1949 1st generation vulpix. Enj...                  NaN   \n",
       "2352  This is a purebred Piers Morgan. Loves to Netf...                  NaN   \n",
       "2353  Here is a very happy pup. Big fan of well-main...                  NaN   \n",
       "2354  This is a western brown Mitsubishi terrier. Up...                  NaN   \n",
       "2355  Here we have a Japanese Irish Setter. Lost eye...                  NaN   \n",
       "\n",
       "      retweeted_status_user_id retweeted_status_timestamp  \\\n",
       "0                          NaN                        NaN   \n",
       "1                          NaN                        NaN   \n",
       "2                          NaN                        NaN   \n",
       "3                          NaN                        NaN   \n",
       "4                          NaN                        NaN   \n",
       "...                        ...                        ...   \n",
       "2351                       NaN                        NaN   \n",
       "2352                       NaN                        NaN   \n",
       "2353                       NaN                        NaN   \n",
       "2354                       NaN                        NaN   \n",
       "2355                       NaN                        NaN   \n",
       "\n",
       "                                          expanded_urls  rating_numerator  \\\n",
       "0     https://twitter.com/dog_rates/status/892420643...                13   \n",
       "1     https://twitter.com/dog_rates/status/892177421...                13   \n",
       "2     https://twitter.com/dog_rates/status/891815181...                12   \n",
       "3     https://twitter.com/dog_rates/status/891689557...                13   \n",
       "4     https://twitter.com/dog_rates/status/891327558...                12   \n",
       "...                                                 ...               ...   \n",
       "2351  https://twitter.com/dog_rates/status/666049248...                 5   \n",
       "2352  https://twitter.com/dog_rates/status/666044226...                 6   \n",
       "2353  https://twitter.com/dog_rates/status/666033412...                 9   \n",
       "2354  https://twitter.com/dog_rates/status/666029285...                 7   \n",
       "2355  https://twitter.com/dog_rates/status/666020888...                 8   \n",
       "\n",
       "      rating_denominator      name doggo floofer pupper puppo  \n",
       "0                     10   Phineas  None    None   None  None  \n",
       "1                     10     Tilly  None    None   None  None  \n",
       "2                     10    Archie  None    None   None  None  \n",
       "3                     10     Darla  None    None   None  None  \n",
       "4                     10  Franklin  None    None   None  None  \n",
       "...                  ...       ...   ...     ...    ...   ...  \n",
       "2351                  10      None  None    None   None  None  \n",
       "2352                  10         a  None    None   None  None  \n",
       "2353                  10         a  None    None   None  None  \n",
       "2354                  10         a  None    None   None  None  \n",
       "2355                  10      None  None    None   None  None  \n",
       "\n",
       "[2356 rows x 17 columns]"
      ]
     },
     "execution_count": 11,
     "metadata": {},
     "output_type": "execute_result"
    }
   ],
   "source": [
    "df_twitter"
   ]
  },
  {
   "cell_type": "code",
   "execution_count": 12,
   "metadata": {},
   "outputs": [
    {
     "data": {
      "text/html": [
       "<div>\n",
       "<style scoped>\n",
       "    .dataframe tbody tr th:only-of-type {\n",
       "        vertical-align: middle;\n",
       "    }\n",
       "\n",
       "    .dataframe tbody tr th {\n",
       "        vertical-align: top;\n",
       "    }\n",
       "\n",
       "    .dataframe thead th {\n",
       "        text-align: right;\n",
       "    }\n",
       "</style>\n",
       "<table border=\"1\" class=\"dataframe\">\n",
       "  <thead>\n",
       "    <tr style=\"text-align: right;\">\n",
       "      <th></th>\n",
       "      <th>tweet_id</th>\n",
       "      <th>in_reply_to_status_id</th>\n",
       "      <th>in_reply_to_user_id</th>\n",
       "      <th>timestamp</th>\n",
       "      <th>source</th>\n",
       "      <th>text</th>\n",
       "      <th>retweeted_status_id</th>\n",
       "      <th>retweeted_status_user_id</th>\n",
       "      <th>retweeted_status_timestamp</th>\n",
       "      <th>expanded_urls</th>\n",
       "      <th>rating_numerator</th>\n",
       "      <th>rating_denominator</th>\n",
       "      <th>name</th>\n",
       "      <th>doggo</th>\n",
       "      <th>floofer</th>\n",
       "      <th>pupper</th>\n",
       "      <th>puppo</th>\n",
       "    </tr>\n",
       "  </thead>\n",
       "  <tbody>\n",
       "    <tr>\n",
       "      <th>1594</th>\n",
       "      <td>686377065986265092</td>\n",
       "      <td>NaN</td>\n",
       "      <td>NaN</td>\n",
       "      <td>2016-01-11 02:40:19 +0000</td>\n",
       "      <td>&lt;a href=\"http://twitter.com/download/iphone\" r...</td>\n",
       "      <td>Meet Birf. He thinks he's gone blind. 10/10 ve...</td>\n",
       "      <td>NaN</td>\n",
       "      <td>NaN</td>\n",
       "      <td>NaN</td>\n",
       "      <td>https://twitter.com/dog_rates/status/686377065...</td>\n",
       "      <td>10</td>\n",
       "      <td>10</td>\n",
       "      <td>Birf</td>\n",
       "      <td>None</td>\n",
       "      <td>None</td>\n",
       "      <td>pupper</td>\n",
       "      <td>None</td>\n",
       "    </tr>\n",
       "    <tr>\n",
       "      <th>2104</th>\n",
       "      <td>670668383499735048</td>\n",
       "      <td>NaN</td>\n",
       "      <td>NaN</td>\n",
       "      <td>2015-11-28 18:19:37 +0000</td>\n",
       "      <td>&lt;a href=\"http://twitter.com/download/iphone\" r...</td>\n",
       "      <td>This is Phineas. He's a magical dog. Only appe...</td>\n",
       "      <td>NaN</td>\n",
       "      <td>NaN</td>\n",
       "      <td>NaN</td>\n",
       "      <td>https://twitter.com/dog_rates/status/670668383...</td>\n",
       "      <td>10</td>\n",
       "      <td>10</td>\n",
       "      <td>Phineas</td>\n",
       "      <td>None</td>\n",
       "      <td>None</td>\n",
       "      <td>None</td>\n",
       "      <td>None</td>\n",
       "    </tr>\n",
       "    <tr>\n",
       "      <th>509</th>\n",
       "      <td>812466873996607488</td>\n",
       "      <td>NaN</td>\n",
       "      <td>NaN</td>\n",
       "      <td>2016-12-24 01:16:12 +0000</td>\n",
       "      <td>&lt;a href=\"http://twitter.com/download/iphone\" r...</td>\n",
       "      <td>This is Mary. She's desperately trying to recr...</td>\n",
       "      <td>NaN</td>\n",
       "      <td>NaN</td>\n",
       "      <td>NaN</td>\n",
       "      <td>https://twitter.com/dog_rates/status/812466873...</td>\n",
       "      <td>12</td>\n",
       "      <td>10</td>\n",
       "      <td>Mary</td>\n",
       "      <td>None</td>\n",
       "      <td>None</td>\n",
       "      <td>None</td>\n",
       "      <td>None</td>\n",
       "    </tr>\n",
       "    <tr>\n",
       "      <th>426</th>\n",
       "      <td>821407182352777218</td>\n",
       "      <td>NaN</td>\n",
       "      <td>NaN</td>\n",
       "      <td>2017-01-17 17:21:47 +0000</td>\n",
       "      <td>&lt;a href=\"http://twitter.com/download/iphone\" r...</td>\n",
       "      <td>This is Sundance. He's a doggo drummer. Even s...</td>\n",
       "      <td>NaN</td>\n",
       "      <td>NaN</td>\n",
       "      <td>NaN</td>\n",
       "      <td>https://twitter.com/dog_rates/status/821407182...</td>\n",
       "      <td>14</td>\n",
       "      <td>10</td>\n",
       "      <td>Sundance</td>\n",
       "      <td>doggo</td>\n",
       "      <td>None</td>\n",
       "      <td>None</td>\n",
       "      <td>None</td>\n",
       "    </tr>\n",
       "    <tr>\n",
       "      <th>1017</th>\n",
       "      <td>746872823977771008</td>\n",
       "      <td>NaN</td>\n",
       "      <td>NaN</td>\n",
       "      <td>2016-06-26 01:08:52 +0000</td>\n",
       "      <td>&lt;a href=\"http://twitter.com/download/iphone\" r...</td>\n",
       "      <td>This is a carrot. We only rate dogs. Please on...</td>\n",
       "      <td>NaN</td>\n",
       "      <td>NaN</td>\n",
       "      <td>NaN</td>\n",
       "      <td>https://twitter.com/dog_rates/status/746872823...</td>\n",
       "      <td>11</td>\n",
       "      <td>10</td>\n",
       "      <td>a</td>\n",
       "      <td>None</td>\n",
       "      <td>None</td>\n",
       "      <td>None</td>\n",
       "      <td>None</td>\n",
       "    </tr>\n",
       "  </tbody>\n",
       "</table>\n",
       "</div>"
      ],
      "text/plain": [
       "                tweet_id  in_reply_to_status_id  in_reply_to_user_id  \\\n",
       "1594  686377065986265092                    NaN                  NaN   \n",
       "2104  670668383499735048                    NaN                  NaN   \n",
       "509   812466873996607488                    NaN                  NaN   \n",
       "426   821407182352777218                    NaN                  NaN   \n",
       "1017  746872823977771008                    NaN                  NaN   \n",
       "\n",
       "                      timestamp  \\\n",
       "1594  2016-01-11 02:40:19 +0000   \n",
       "2104  2015-11-28 18:19:37 +0000   \n",
       "509   2016-12-24 01:16:12 +0000   \n",
       "426   2017-01-17 17:21:47 +0000   \n",
       "1017  2016-06-26 01:08:52 +0000   \n",
       "\n",
       "                                                 source  \\\n",
       "1594  <a href=\"http://twitter.com/download/iphone\" r...   \n",
       "2104  <a href=\"http://twitter.com/download/iphone\" r...   \n",
       "509   <a href=\"http://twitter.com/download/iphone\" r...   \n",
       "426   <a href=\"http://twitter.com/download/iphone\" r...   \n",
       "1017  <a href=\"http://twitter.com/download/iphone\" r...   \n",
       "\n",
       "                                                   text  retweeted_status_id  \\\n",
       "1594  Meet Birf. He thinks he's gone blind. 10/10 ve...                  NaN   \n",
       "2104  This is Phineas. He's a magical dog. Only appe...                  NaN   \n",
       "509   This is Mary. She's desperately trying to recr...                  NaN   \n",
       "426   This is Sundance. He's a doggo drummer. Even s...                  NaN   \n",
       "1017  This is a carrot. We only rate dogs. Please on...                  NaN   \n",
       "\n",
       "      retweeted_status_user_id retweeted_status_timestamp  \\\n",
       "1594                       NaN                        NaN   \n",
       "2104                       NaN                        NaN   \n",
       "509                        NaN                        NaN   \n",
       "426                        NaN                        NaN   \n",
       "1017                       NaN                        NaN   \n",
       "\n",
       "                                          expanded_urls  rating_numerator  \\\n",
       "1594  https://twitter.com/dog_rates/status/686377065...                10   \n",
       "2104  https://twitter.com/dog_rates/status/670668383...                10   \n",
       "509   https://twitter.com/dog_rates/status/812466873...                12   \n",
       "426   https://twitter.com/dog_rates/status/821407182...                14   \n",
       "1017  https://twitter.com/dog_rates/status/746872823...                11   \n",
       "\n",
       "      rating_denominator      name  doggo floofer  pupper puppo  \n",
       "1594                  10      Birf   None    None  pupper  None  \n",
       "2104                  10   Phineas   None    None    None  None  \n",
       "509                   10      Mary   None    None    None  None  \n",
       "426                   10  Sundance  doggo    None    None  None  \n",
       "1017                  10         a   None    None    None  None  "
      ]
     },
     "execution_count": 12,
     "metadata": {},
     "output_type": "execute_result"
    }
   ],
   "source": [
    "df_twitter.sample(5)"
   ]
  },
  {
   "cell_type": "code",
   "execution_count": 13,
   "metadata": {},
   "outputs": [
    {
     "data": {
      "text/html": [
       "<div>\n",
       "<style scoped>\n",
       "    .dataframe tbody tr th:only-of-type {\n",
       "        vertical-align: middle;\n",
       "    }\n",
       "\n",
       "    .dataframe tbody tr th {\n",
       "        vertical-align: top;\n",
       "    }\n",
       "\n",
       "    .dataframe thead th {\n",
       "        text-align: right;\n",
       "    }\n",
       "</style>\n",
       "<table border=\"1\" class=\"dataframe\">\n",
       "  <thead>\n",
       "    <tr style=\"text-align: right;\">\n",
       "      <th></th>\n",
       "      <th>tweet_id</th>\n",
       "      <th>in_reply_to_status_id</th>\n",
       "      <th>in_reply_to_user_id</th>\n",
       "      <th>timestamp</th>\n",
       "      <th>source</th>\n",
       "      <th>text</th>\n",
       "      <th>retweeted_status_id</th>\n",
       "      <th>retweeted_status_user_id</th>\n",
       "      <th>retweeted_status_timestamp</th>\n",
       "      <th>expanded_urls</th>\n",
       "      <th>rating_numerator</th>\n",
       "      <th>rating_denominator</th>\n",
       "      <th>name</th>\n",
       "      <th>doggo</th>\n",
       "      <th>floofer</th>\n",
       "      <th>pupper</th>\n",
       "      <th>puppo</th>\n",
       "    </tr>\n",
       "  </thead>\n",
       "  <tbody>\n",
       "    <tr>\n",
       "      <th>2351</th>\n",
       "      <td>666049248165822465</td>\n",
       "      <td>NaN</td>\n",
       "      <td>NaN</td>\n",
       "      <td>2015-11-16 00:24:50 +0000</td>\n",
       "      <td>&lt;a href=\"http://twitter.com/download/iphone\" r...</td>\n",
       "      <td>Here we have a 1949 1st generation vulpix. Enj...</td>\n",
       "      <td>NaN</td>\n",
       "      <td>NaN</td>\n",
       "      <td>NaN</td>\n",
       "      <td>https://twitter.com/dog_rates/status/666049248...</td>\n",
       "      <td>5</td>\n",
       "      <td>10</td>\n",
       "      <td>None</td>\n",
       "      <td>None</td>\n",
       "      <td>None</td>\n",
       "      <td>None</td>\n",
       "      <td>None</td>\n",
       "    </tr>\n",
       "    <tr>\n",
       "      <th>2352</th>\n",
       "      <td>666044226329800704</td>\n",
       "      <td>NaN</td>\n",
       "      <td>NaN</td>\n",
       "      <td>2015-11-16 00:04:52 +0000</td>\n",
       "      <td>&lt;a href=\"http://twitter.com/download/iphone\" r...</td>\n",
       "      <td>This is a purebred Piers Morgan. Loves to Netf...</td>\n",
       "      <td>NaN</td>\n",
       "      <td>NaN</td>\n",
       "      <td>NaN</td>\n",
       "      <td>https://twitter.com/dog_rates/status/666044226...</td>\n",
       "      <td>6</td>\n",
       "      <td>10</td>\n",
       "      <td>a</td>\n",
       "      <td>None</td>\n",
       "      <td>None</td>\n",
       "      <td>None</td>\n",
       "      <td>None</td>\n",
       "    </tr>\n",
       "    <tr>\n",
       "      <th>2353</th>\n",
       "      <td>666033412701032449</td>\n",
       "      <td>NaN</td>\n",
       "      <td>NaN</td>\n",
       "      <td>2015-11-15 23:21:54 +0000</td>\n",
       "      <td>&lt;a href=\"http://twitter.com/download/iphone\" r...</td>\n",
       "      <td>Here is a very happy pup. Big fan of well-main...</td>\n",
       "      <td>NaN</td>\n",
       "      <td>NaN</td>\n",
       "      <td>NaN</td>\n",
       "      <td>https://twitter.com/dog_rates/status/666033412...</td>\n",
       "      <td>9</td>\n",
       "      <td>10</td>\n",
       "      <td>a</td>\n",
       "      <td>None</td>\n",
       "      <td>None</td>\n",
       "      <td>None</td>\n",
       "      <td>None</td>\n",
       "    </tr>\n",
       "    <tr>\n",
       "      <th>2354</th>\n",
       "      <td>666029285002620928</td>\n",
       "      <td>NaN</td>\n",
       "      <td>NaN</td>\n",
       "      <td>2015-11-15 23:05:30 +0000</td>\n",
       "      <td>&lt;a href=\"http://twitter.com/download/iphone\" r...</td>\n",
       "      <td>This is a western brown Mitsubishi terrier. Up...</td>\n",
       "      <td>NaN</td>\n",
       "      <td>NaN</td>\n",
       "      <td>NaN</td>\n",
       "      <td>https://twitter.com/dog_rates/status/666029285...</td>\n",
       "      <td>7</td>\n",
       "      <td>10</td>\n",
       "      <td>a</td>\n",
       "      <td>None</td>\n",
       "      <td>None</td>\n",
       "      <td>None</td>\n",
       "      <td>None</td>\n",
       "    </tr>\n",
       "    <tr>\n",
       "      <th>2355</th>\n",
       "      <td>666020888022790149</td>\n",
       "      <td>NaN</td>\n",
       "      <td>NaN</td>\n",
       "      <td>2015-11-15 22:32:08 +0000</td>\n",
       "      <td>&lt;a href=\"http://twitter.com/download/iphone\" r...</td>\n",
       "      <td>Here we have a Japanese Irish Setter. Lost eye...</td>\n",
       "      <td>NaN</td>\n",
       "      <td>NaN</td>\n",
       "      <td>NaN</td>\n",
       "      <td>https://twitter.com/dog_rates/status/666020888...</td>\n",
       "      <td>8</td>\n",
       "      <td>10</td>\n",
       "      <td>None</td>\n",
       "      <td>None</td>\n",
       "      <td>None</td>\n",
       "      <td>None</td>\n",
       "      <td>None</td>\n",
       "    </tr>\n",
       "  </tbody>\n",
       "</table>\n",
       "</div>"
      ],
      "text/plain": [
       "                tweet_id  in_reply_to_status_id  in_reply_to_user_id  \\\n",
       "2351  666049248165822465                    NaN                  NaN   \n",
       "2352  666044226329800704                    NaN                  NaN   \n",
       "2353  666033412701032449                    NaN                  NaN   \n",
       "2354  666029285002620928                    NaN                  NaN   \n",
       "2355  666020888022790149                    NaN                  NaN   \n",
       "\n",
       "                      timestamp  \\\n",
       "2351  2015-11-16 00:24:50 +0000   \n",
       "2352  2015-11-16 00:04:52 +0000   \n",
       "2353  2015-11-15 23:21:54 +0000   \n",
       "2354  2015-11-15 23:05:30 +0000   \n",
       "2355  2015-11-15 22:32:08 +0000   \n",
       "\n",
       "                                                 source  \\\n",
       "2351  <a href=\"http://twitter.com/download/iphone\" r...   \n",
       "2352  <a href=\"http://twitter.com/download/iphone\" r...   \n",
       "2353  <a href=\"http://twitter.com/download/iphone\" r...   \n",
       "2354  <a href=\"http://twitter.com/download/iphone\" r...   \n",
       "2355  <a href=\"http://twitter.com/download/iphone\" r...   \n",
       "\n",
       "                                                   text  retweeted_status_id  \\\n",
       "2351  Here we have a 1949 1st generation vulpix. Enj...                  NaN   \n",
       "2352  This is a purebred Piers Morgan. Loves to Netf...                  NaN   \n",
       "2353  Here is a very happy pup. Big fan of well-main...                  NaN   \n",
       "2354  This is a western brown Mitsubishi terrier. Up...                  NaN   \n",
       "2355  Here we have a Japanese Irish Setter. Lost eye...                  NaN   \n",
       "\n",
       "      retweeted_status_user_id retweeted_status_timestamp  \\\n",
       "2351                       NaN                        NaN   \n",
       "2352                       NaN                        NaN   \n",
       "2353                       NaN                        NaN   \n",
       "2354                       NaN                        NaN   \n",
       "2355                       NaN                        NaN   \n",
       "\n",
       "                                          expanded_urls  rating_numerator  \\\n",
       "2351  https://twitter.com/dog_rates/status/666049248...                 5   \n",
       "2352  https://twitter.com/dog_rates/status/666044226...                 6   \n",
       "2353  https://twitter.com/dog_rates/status/666033412...                 9   \n",
       "2354  https://twitter.com/dog_rates/status/666029285...                 7   \n",
       "2355  https://twitter.com/dog_rates/status/666020888...                 8   \n",
       "\n",
       "      rating_denominator  name doggo floofer pupper puppo  \n",
       "2351                  10  None  None    None   None  None  \n",
       "2352                  10     a  None    None   None  None  \n",
       "2353                  10     a  None    None   None  None  \n",
       "2354                  10     a  None    None   None  None  \n",
       "2355                  10  None  None    None   None  None  "
      ]
     },
     "execution_count": 13,
     "metadata": {},
     "output_type": "execute_result"
    }
   ],
   "source": [
    "df_twitter.tail()"
   ]
  },
  {
   "cell_type": "code",
   "execution_count": 14,
   "metadata": {},
   "outputs": [
    {
     "data": {
      "text/html": [
       "<div>\n",
       "<style scoped>\n",
       "    .dataframe tbody tr th:only-of-type {\n",
       "        vertical-align: middle;\n",
       "    }\n",
       "\n",
       "    .dataframe tbody tr th {\n",
       "        vertical-align: top;\n",
       "    }\n",
       "\n",
       "    .dataframe thead th {\n",
       "        text-align: right;\n",
       "    }\n",
       "</style>\n",
       "<table border=\"1\" class=\"dataframe\">\n",
       "  <thead>\n",
       "    <tr style=\"text-align: right;\">\n",
       "      <th></th>\n",
       "      <th>tweet_id</th>\n",
       "      <th>in_reply_to_status_id</th>\n",
       "      <th>in_reply_to_user_id</th>\n",
       "      <th>timestamp</th>\n",
       "      <th>source</th>\n",
       "      <th>text</th>\n",
       "      <th>retweeted_status_id</th>\n",
       "      <th>retweeted_status_user_id</th>\n",
       "      <th>retweeted_status_timestamp</th>\n",
       "      <th>expanded_urls</th>\n",
       "      <th>rating_numerator</th>\n",
       "      <th>rating_denominator</th>\n",
       "      <th>name</th>\n",
       "      <th>doggo</th>\n",
       "      <th>floofer</th>\n",
       "      <th>pupper</th>\n",
       "      <th>puppo</th>\n",
       "    </tr>\n",
       "  </thead>\n",
       "  <tbody>\n",
       "    <tr>\n",
       "      <th>0</th>\n",
       "      <td>892420643555336193</td>\n",
       "      <td>NaN</td>\n",
       "      <td>NaN</td>\n",
       "      <td>2017-08-01 16:23:56 +0000</td>\n",
       "      <td>&lt;a href=\"http://twitter.com/download/iphone\" r...</td>\n",
       "      <td>This is Phineas. He's a mystical boy. Only eve...</td>\n",
       "      <td>NaN</td>\n",
       "      <td>NaN</td>\n",
       "      <td>NaN</td>\n",
       "      <td>https://twitter.com/dog_rates/status/892420643...</td>\n",
       "      <td>13</td>\n",
       "      <td>10</td>\n",
       "      <td>Phineas</td>\n",
       "      <td>None</td>\n",
       "      <td>None</td>\n",
       "      <td>None</td>\n",
       "      <td>None</td>\n",
       "    </tr>\n",
       "    <tr>\n",
       "      <th>1</th>\n",
       "      <td>892177421306343426</td>\n",
       "      <td>NaN</td>\n",
       "      <td>NaN</td>\n",
       "      <td>2017-08-01 00:17:27 +0000</td>\n",
       "      <td>&lt;a href=\"http://twitter.com/download/iphone\" r...</td>\n",
       "      <td>This is Tilly. She's just checking pup on you....</td>\n",
       "      <td>NaN</td>\n",
       "      <td>NaN</td>\n",
       "      <td>NaN</td>\n",
       "      <td>https://twitter.com/dog_rates/status/892177421...</td>\n",
       "      <td>13</td>\n",
       "      <td>10</td>\n",
       "      <td>Tilly</td>\n",
       "      <td>None</td>\n",
       "      <td>None</td>\n",
       "      <td>None</td>\n",
       "      <td>None</td>\n",
       "    </tr>\n",
       "    <tr>\n",
       "      <th>2</th>\n",
       "      <td>891815181378084864</td>\n",
       "      <td>NaN</td>\n",
       "      <td>NaN</td>\n",
       "      <td>2017-07-31 00:18:03 +0000</td>\n",
       "      <td>&lt;a href=\"http://twitter.com/download/iphone\" r...</td>\n",
       "      <td>This is Archie. He is a rare Norwegian Pouncin...</td>\n",
       "      <td>NaN</td>\n",
       "      <td>NaN</td>\n",
       "      <td>NaN</td>\n",
       "      <td>https://twitter.com/dog_rates/status/891815181...</td>\n",
       "      <td>12</td>\n",
       "      <td>10</td>\n",
       "      <td>Archie</td>\n",
       "      <td>None</td>\n",
       "      <td>None</td>\n",
       "      <td>None</td>\n",
       "      <td>None</td>\n",
       "    </tr>\n",
       "    <tr>\n",
       "      <th>3</th>\n",
       "      <td>891689557279858688</td>\n",
       "      <td>NaN</td>\n",
       "      <td>NaN</td>\n",
       "      <td>2017-07-30 15:58:51 +0000</td>\n",
       "      <td>&lt;a href=\"http://twitter.com/download/iphone\" r...</td>\n",
       "      <td>This is Darla. She commenced a snooze mid meal...</td>\n",
       "      <td>NaN</td>\n",
       "      <td>NaN</td>\n",
       "      <td>NaN</td>\n",
       "      <td>https://twitter.com/dog_rates/status/891689557...</td>\n",
       "      <td>13</td>\n",
       "      <td>10</td>\n",
       "      <td>Darla</td>\n",
       "      <td>None</td>\n",
       "      <td>None</td>\n",
       "      <td>None</td>\n",
       "      <td>None</td>\n",
       "    </tr>\n",
       "    <tr>\n",
       "      <th>4</th>\n",
       "      <td>891327558926688256</td>\n",
       "      <td>NaN</td>\n",
       "      <td>NaN</td>\n",
       "      <td>2017-07-29 16:00:24 +0000</td>\n",
       "      <td>&lt;a href=\"http://twitter.com/download/iphone\" r...</td>\n",
       "      <td>This is Franklin. He would like you to stop ca...</td>\n",
       "      <td>NaN</td>\n",
       "      <td>NaN</td>\n",
       "      <td>NaN</td>\n",
       "      <td>https://twitter.com/dog_rates/status/891327558...</td>\n",
       "      <td>12</td>\n",
       "      <td>10</td>\n",
       "      <td>Franklin</td>\n",
       "      <td>None</td>\n",
       "      <td>None</td>\n",
       "      <td>None</td>\n",
       "      <td>None</td>\n",
       "    </tr>\n",
       "  </tbody>\n",
       "</table>\n",
       "</div>"
      ],
      "text/plain": [
       "             tweet_id  in_reply_to_status_id  in_reply_to_user_id  \\\n",
       "0  892420643555336193                    NaN                  NaN   \n",
       "1  892177421306343426                    NaN                  NaN   \n",
       "2  891815181378084864                    NaN                  NaN   \n",
       "3  891689557279858688                    NaN                  NaN   \n",
       "4  891327558926688256                    NaN                  NaN   \n",
       "\n",
       "                   timestamp  \\\n",
       "0  2017-08-01 16:23:56 +0000   \n",
       "1  2017-08-01 00:17:27 +0000   \n",
       "2  2017-07-31 00:18:03 +0000   \n",
       "3  2017-07-30 15:58:51 +0000   \n",
       "4  2017-07-29 16:00:24 +0000   \n",
       "\n",
       "                                              source  \\\n",
       "0  <a href=\"http://twitter.com/download/iphone\" r...   \n",
       "1  <a href=\"http://twitter.com/download/iphone\" r...   \n",
       "2  <a href=\"http://twitter.com/download/iphone\" r...   \n",
       "3  <a href=\"http://twitter.com/download/iphone\" r...   \n",
       "4  <a href=\"http://twitter.com/download/iphone\" r...   \n",
       "\n",
       "                                                text  retweeted_status_id  \\\n",
       "0  This is Phineas. He's a mystical boy. Only eve...                  NaN   \n",
       "1  This is Tilly. She's just checking pup on you....                  NaN   \n",
       "2  This is Archie. He is a rare Norwegian Pouncin...                  NaN   \n",
       "3  This is Darla. She commenced a snooze mid meal...                  NaN   \n",
       "4  This is Franklin. He would like you to stop ca...                  NaN   \n",
       "\n",
       "   retweeted_status_user_id retweeted_status_timestamp  \\\n",
       "0                       NaN                        NaN   \n",
       "1                       NaN                        NaN   \n",
       "2                       NaN                        NaN   \n",
       "3                       NaN                        NaN   \n",
       "4                       NaN                        NaN   \n",
       "\n",
       "                                       expanded_urls  rating_numerator  \\\n",
       "0  https://twitter.com/dog_rates/status/892420643...                13   \n",
       "1  https://twitter.com/dog_rates/status/892177421...                13   \n",
       "2  https://twitter.com/dog_rates/status/891815181...                12   \n",
       "3  https://twitter.com/dog_rates/status/891689557...                13   \n",
       "4  https://twitter.com/dog_rates/status/891327558...                12   \n",
       "\n",
       "   rating_denominator      name doggo floofer pupper puppo  \n",
       "0                  10   Phineas  None    None   None  None  \n",
       "1                  10     Tilly  None    None   None  None  \n",
       "2                  10    Archie  None    None   None  None  \n",
       "3                  10     Darla  None    None   None  None  \n",
       "4                  10  Franklin  None    None   None  None  "
      ]
     },
     "execution_count": 14,
     "metadata": {},
     "output_type": "execute_result"
    }
   ],
   "source": [
    "df_twitter.head()"
   ]
  },
  {
   "cell_type": "code",
   "execution_count": 15,
   "metadata": {},
   "outputs": [
    {
     "name": "stdout",
     "output_type": "stream",
     "text": [
      "<class 'pandas.core.frame.DataFrame'>\n",
      "RangeIndex: 2356 entries, 0 to 2355\n",
      "Data columns (total 17 columns):\n",
      " #   Column                      Non-Null Count  Dtype  \n",
      "---  ------                      --------------  -----  \n",
      " 0   tweet_id                    2356 non-null   int64  \n",
      " 1   in_reply_to_status_id       78 non-null     float64\n",
      " 2   in_reply_to_user_id         78 non-null     float64\n",
      " 3   timestamp                   2356 non-null   object \n",
      " 4   source                      2356 non-null   object \n",
      " 5   text                        2356 non-null   object \n",
      " 6   retweeted_status_id         181 non-null    float64\n",
      " 7   retweeted_status_user_id    181 non-null    float64\n",
      " 8   retweeted_status_timestamp  181 non-null    object \n",
      " 9   expanded_urls               2297 non-null   object \n",
      " 10  rating_numerator            2356 non-null   int64  \n",
      " 11  rating_denominator          2356 non-null   int64  \n",
      " 12  name                        2356 non-null   object \n",
      " 13  doggo                       2356 non-null   object \n",
      " 14  floofer                     2356 non-null   object \n",
      " 15  pupper                      2356 non-null   object \n",
      " 16  puppo                       2356 non-null   object \n",
      "dtypes: float64(4), int64(3), object(10)\n",
      "memory usage: 313.0+ KB\n"
     ]
    }
   ],
   "source": [
    "#tweet_id is int64\n",
    "#78 reply tweets to be removed\n",
    "#retweeted_status approximately 181 should be removed.\n",
    "#Any tweets with missing expanded_urls shold be removed.\n",
    "\n",
    "df_twitter.info()"
   ]
  },
  {
   "cell_type": "code",
   "execution_count": 16,
   "metadata": {},
   "outputs": [
    {
     "data": {
      "text/html": [
       "<div>\n",
       "<style scoped>\n",
       "    .dataframe tbody tr th:only-of-type {\n",
       "        vertical-align: middle;\n",
       "    }\n",
       "\n",
       "    .dataframe tbody tr th {\n",
       "        vertical-align: top;\n",
       "    }\n",
       "\n",
       "    .dataframe thead th {\n",
       "        text-align: right;\n",
       "    }\n",
       "</style>\n",
       "<table border=\"1\" class=\"dataframe\">\n",
       "  <thead>\n",
       "    <tr style=\"text-align: right;\">\n",
       "      <th></th>\n",
       "      <th>tweet_id</th>\n",
       "      <th>in_reply_to_status_id</th>\n",
       "      <th>in_reply_to_user_id</th>\n",
       "      <th>retweeted_status_id</th>\n",
       "      <th>retweeted_status_user_id</th>\n",
       "      <th>rating_numerator</th>\n",
       "      <th>rating_denominator</th>\n",
       "    </tr>\n",
       "  </thead>\n",
       "  <tbody>\n",
       "    <tr>\n",
       "      <th>count</th>\n",
       "      <td>2.356000e+03</td>\n",
       "      <td>7.800000e+01</td>\n",
       "      <td>7.800000e+01</td>\n",
       "      <td>1.810000e+02</td>\n",
       "      <td>1.810000e+02</td>\n",
       "      <td>2356.000000</td>\n",
       "      <td>2356.000000</td>\n",
       "    </tr>\n",
       "    <tr>\n",
       "      <th>mean</th>\n",
       "      <td>7.427716e+17</td>\n",
       "      <td>7.455079e+17</td>\n",
       "      <td>2.014171e+16</td>\n",
       "      <td>7.720400e+17</td>\n",
       "      <td>1.241698e+16</td>\n",
       "      <td>13.126486</td>\n",
       "      <td>10.455433</td>\n",
       "    </tr>\n",
       "    <tr>\n",
       "      <th>std</th>\n",
       "      <td>6.856705e+16</td>\n",
       "      <td>7.582492e+16</td>\n",
       "      <td>1.252797e+17</td>\n",
       "      <td>6.236928e+16</td>\n",
       "      <td>9.599254e+16</td>\n",
       "      <td>45.876648</td>\n",
       "      <td>6.745237</td>\n",
       "    </tr>\n",
       "    <tr>\n",
       "      <th>min</th>\n",
       "      <td>6.660209e+17</td>\n",
       "      <td>6.658147e+17</td>\n",
       "      <td>1.185634e+07</td>\n",
       "      <td>6.661041e+17</td>\n",
       "      <td>7.832140e+05</td>\n",
       "      <td>0.000000</td>\n",
       "      <td>0.000000</td>\n",
       "    </tr>\n",
       "    <tr>\n",
       "      <th>25%</th>\n",
       "      <td>6.783989e+17</td>\n",
       "      <td>6.757419e+17</td>\n",
       "      <td>3.086374e+08</td>\n",
       "      <td>7.186315e+17</td>\n",
       "      <td>4.196984e+09</td>\n",
       "      <td>10.000000</td>\n",
       "      <td>10.000000</td>\n",
       "    </tr>\n",
       "    <tr>\n",
       "      <th>50%</th>\n",
       "      <td>7.196279e+17</td>\n",
       "      <td>7.038708e+17</td>\n",
       "      <td>4.196984e+09</td>\n",
       "      <td>7.804657e+17</td>\n",
       "      <td>4.196984e+09</td>\n",
       "      <td>11.000000</td>\n",
       "      <td>10.000000</td>\n",
       "    </tr>\n",
       "    <tr>\n",
       "      <th>75%</th>\n",
       "      <td>7.993373e+17</td>\n",
       "      <td>8.257804e+17</td>\n",
       "      <td>4.196984e+09</td>\n",
       "      <td>8.203146e+17</td>\n",
       "      <td>4.196984e+09</td>\n",
       "      <td>12.000000</td>\n",
       "      <td>10.000000</td>\n",
       "    </tr>\n",
       "    <tr>\n",
       "      <th>max</th>\n",
       "      <td>8.924206e+17</td>\n",
       "      <td>8.862664e+17</td>\n",
       "      <td>8.405479e+17</td>\n",
       "      <td>8.874740e+17</td>\n",
       "      <td>7.874618e+17</td>\n",
       "      <td>1776.000000</td>\n",
       "      <td>170.000000</td>\n",
       "    </tr>\n",
       "  </tbody>\n",
       "</table>\n",
       "</div>"
      ],
      "text/plain": [
       "           tweet_id  in_reply_to_status_id  in_reply_to_user_id  \\\n",
       "count  2.356000e+03           7.800000e+01         7.800000e+01   \n",
       "mean   7.427716e+17           7.455079e+17         2.014171e+16   \n",
       "std    6.856705e+16           7.582492e+16         1.252797e+17   \n",
       "min    6.660209e+17           6.658147e+17         1.185634e+07   \n",
       "25%    6.783989e+17           6.757419e+17         3.086374e+08   \n",
       "50%    7.196279e+17           7.038708e+17         4.196984e+09   \n",
       "75%    7.993373e+17           8.257804e+17         4.196984e+09   \n",
       "max    8.924206e+17           8.862664e+17         8.405479e+17   \n",
       "\n",
       "       retweeted_status_id  retweeted_status_user_id  rating_numerator  \\\n",
       "count         1.810000e+02              1.810000e+02       2356.000000   \n",
       "mean          7.720400e+17              1.241698e+16         13.126486   \n",
       "std           6.236928e+16              9.599254e+16         45.876648   \n",
       "min           6.661041e+17              7.832140e+05          0.000000   \n",
       "25%           7.186315e+17              4.196984e+09         10.000000   \n",
       "50%           7.804657e+17              4.196984e+09         11.000000   \n",
       "75%           8.203146e+17              4.196984e+09         12.000000   \n",
       "max           8.874740e+17              7.874618e+17       1776.000000   \n",
       "\n",
       "       rating_denominator  \n",
       "count         2356.000000  \n",
       "mean            10.455433  \n",
       "std              6.745237  \n",
       "min              0.000000  \n",
       "25%             10.000000  \n",
       "50%             10.000000  \n",
       "75%             10.000000  \n",
       "max            170.000000  "
      ]
     },
     "execution_count": 16,
     "metadata": {},
     "output_type": "execute_result"
    }
   ],
   "source": [
    "df_twitter.describe()"
   ]
  },
  {
   "cell_type": "code",
   "execution_count": 17,
   "metadata": {},
   "outputs": [
    {
     "data": {
      "text/plain": [
       "None       745\n",
       "a           55\n",
       "Charlie     12\n",
       "Cooper      11\n",
       "Lucy        11\n",
       "          ... \n",
       "Tonks        1\n",
       "light        1\n",
       "Edgar        1\n",
       "Champ        1\n",
       "Mo           1\n",
       "Name: name, Length: 957, dtype: int64"
      ]
     },
     "execution_count": 17,
     "metadata": {},
     "output_type": "execute_result"
    }
   ],
   "source": [
    "df_twitter.name.value_counts()"
   ]
  },
  {
   "cell_type": "code",
   "execution_count": 18,
   "metadata": {},
   "outputs": [
    {
     "data": {
      "text/html": [
       "<div>\n",
       "<style scoped>\n",
       "    .dataframe tbody tr th:only-of-type {\n",
       "        vertical-align: middle;\n",
       "    }\n",
       "\n",
       "    .dataframe tbody tr th {\n",
       "        vertical-align: top;\n",
       "    }\n",
       "\n",
       "    .dataframe thead th {\n",
       "        text-align: right;\n",
       "    }\n",
       "</style>\n",
       "<table border=\"1\" class=\"dataframe\">\n",
       "  <thead>\n",
       "    <tr style=\"text-align: right;\">\n",
       "      <th></th>\n",
       "      <th>tweet_id</th>\n",
       "      <th>in_reply_to_status_id</th>\n",
       "      <th>in_reply_to_user_id</th>\n",
       "      <th>timestamp</th>\n",
       "      <th>source</th>\n",
       "      <th>text</th>\n",
       "      <th>retweeted_status_id</th>\n",
       "      <th>retweeted_status_user_id</th>\n",
       "      <th>retweeted_status_timestamp</th>\n",
       "      <th>expanded_urls</th>\n",
       "      <th>rating_numerator</th>\n",
       "      <th>rating_denominator</th>\n",
       "      <th>name</th>\n",
       "      <th>doggo</th>\n",
       "      <th>floofer</th>\n",
       "      <th>pupper</th>\n",
       "      <th>puppo</th>\n",
       "    </tr>\n",
       "  </thead>\n",
       "  <tbody>\n",
       "  </tbody>\n",
       "</table>\n",
       "</div>"
      ],
      "text/plain": [
       "Empty DataFrame\n",
       "Columns: [tweet_id, in_reply_to_status_id, in_reply_to_user_id, timestamp, source, text, retweeted_status_id, retweeted_status_user_id, retweeted_status_timestamp, expanded_urls, rating_numerator, rating_denominator, name, doggo, floofer, pupper, puppo]\n",
       "Index: []"
      ]
     },
     "execution_count": 18,
     "metadata": {},
     "output_type": "execute_result"
    }
   ],
   "source": [
    "#No duplicated Tweet IDs\n",
    "df_twitter[df_twitter.tweet_id.duplicated()]"
   ]
  },
  {
   "cell_type": "code",
   "execution_count": 19,
   "metadata": {},
   "outputs": [
    {
     "data": {
      "text/plain": [
       "0"
      ]
     },
     "execution_count": 19,
     "metadata": {},
     "output_type": "execute_result"
    }
   ],
   "source": [
    "df_twitter.tweet_id.isnull().sum()"
   ]
  },
  {
   "cell_type": "code",
   "execution_count": 20,
   "metadata": {},
   "outputs": [
    {
     "data": {
      "text/plain": [
       "tweet_id                      2356\n",
       "in_reply_to_status_id           77\n",
       "in_reply_to_user_id             31\n",
       "timestamp                     2356\n",
       "source                           4\n",
       "text                          2356\n",
       "retweeted_status_id            181\n",
       "retweeted_status_user_id        25\n",
       "retweeted_status_timestamp     181\n",
       "expanded_urls                 2218\n",
       "rating_numerator                40\n",
       "rating_denominator              18\n",
       "name                           957\n",
       "doggo                            2\n",
       "floofer                          2\n",
       "pupper                           2\n",
       "puppo                            2\n",
       "dtype: int64"
      ]
     },
     "execution_count": 20,
     "metadata": {},
     "output_type": "execute_result"
    }
   ],
   "source": [
    "df_twitter.nunique()"
   ]
  },
  {
   "cell_type": "code",
   "execution_count": 21,
   "metadata": {},
   "outputs": [
    {
     "data": {
      "text/html": [
       "<div>\n",
       "<style scoped>\n",
       "    .dataframe tbody tr th:only-of-type {\n",
       "        vertical-align: middle;\n",
       "    }\n",
       "\n",
       "    .dataframe tbody tr th {\n",
       "        vertical-align: top;\n",
       "    }\n",
       "\n",
       "    .dataframe thead th {\n",
       "        text-align: right;\n",
       "    }\n",
       "</style>\n",
       "<table border=\"1\" class=\"dataframe\">\n",
       "  <thead>\n",
       "    <tr style=\"text-align: right;\">\n",
       "      <th></th>\n",
       "      <th>tweet_id</th>\n",
       "      <th>retweet_count</th>\n",
       "      <th>favorite_count</th>\n",
       "    </tr>\n",
       "  </thead>\n",
       "  <tbody>\n",
       "    <tr>\n",
       "      <th>0</th>\n",
       "      <td>892420643555336193</td>\n",
       "      <td>7323</td>\n",
       "      <td>34902</td>\n",
       "    </tr>\n",
       "    <tr>\n",
       "      <th>1</th>\n",
       "      <td>892177421306343426</td>\n",
       "      <td>5468</td>\n",
       "      <td>30227</td>\n",
       "    </tr>\n",
       "    <tr>\n",
       "      <th>2</th>\n",
       "      <td>891815181378084864</td>\n",
       "      <td>3616</td>\n",
       "      <td>22753</td>\n",
       "    </tr>\n",
       "    <tr>\n",
       "      <th>3</th>\n",
       "      <td>891689557279858688</td>\n",
       "      <td>7516</td>\n",
       "      <td>38174</td>\n",
       "    </tr>\n",
       "    <tr>\n",
       "      <th>4</th>\n",
       "      <td>891327558926688256</td>\n",
       "      <td>8074</td>\n",
       "      <td>36444</td>\n",
       "    </tr>\n",
       "  </tbody>\n",
       "</table>\n",
       "</div>"
      ],
      "text/plain": [
       "             tweet_id  retweet_count  favorite_count\n",
       "0  892420643555336193           7323           34902\n",
       "1  892177421306343426           5468           30227\n",
       "2  891815181378084864           3616           22753\n",
       "3  891689557279858688           7516           38174\n",
       "4  891327558926688256           8074           36444"
      ]
     },
     "execution_count": 21,
     "metadata": {},
     "output_type": "execute_result"
    }
   ],
   "source": [
    "twitter_json.head(5)"
   ]
  },
  {
   "cell_type": "code",
   "execution_count": 22,
   "metadata": {},
   "outputs": [
    {
     "name": "stdout",
     "output_type": "stream",
     "text": [
      "<class 'pandas.core.frame.DataFrame'>\n",
      "RangeIndex: 877 entries, 0 to 876\n",
      "Data columns (total 3 columns):\n",
      " #   Column          Non-Null Count  Dtype\n",
      "---  ------          --------------  -----\n",
      " 0   tweet_id        877 non-null    int64\n",
      " 1   retweet_count   877 non-null    int64\n",
      " 2   favorite_count  877 non-null    int64\n",
      "dtypes: int64(3)\n",
      "memory usage: 20.7 KB\n"
     ]
    }
   ],
   "source": [
    "#tweet_id should be turned into a string\n",
    "twitter_json.info()"
   ]
  },
  {
   "cell_type": "code",
   "execution_count": 23,
   "metadata": {},
   "outputs": [
    {
     "data": {
      "text/html": [
       "<div>\n",
       "<style scoped>\n",
       "    .dataframe tbody tr th:only-of-type {\n",
       "        vertical-align: middle;\n",
       "    }\n",
       "\n",
       "    .dataframe tbody tr th {\n",
       "        vertical-align: top;\n",
       "    }\n",
       "\n",
       "    .dataframe thead th {\n",
       "        text-align: right;\n",
       "    }\n",
       "</style>\n",
       "<table border=\"1\" class=\"dataframe\">\n",
       "  <thead>\n",
       "    <tr style=\"text-align: right;\">\n",
       "      <th></th>\n",
       "      <th>tweet_id</th>\n",
       "      <th>retweet_count</th>\n",
       "      <th>favorite_count</th>\n",
       "    </tr>\n",
       "  </thead>\n",
       "  <tbody>\n",
       "    <tr>\n",
       "      <th>count</th>\n",
       "      <td>8.770000e+02</td>\n",
       "      <td>877.000000</td>\n",
       "      <td>877.000000</td>\n",
       "    </tr>\n",
       "    <tr>\n",
       "      <th>mean</th>\n",
       "      <td>8.200861e+17</td>\n",
       "      <td>4524.550741</td>\n",
       "      <td>13383.279361</td>\n",
       "    </tr>\n",
       "    <tr>\n",
       "      <th>std</th>\n",
       "      <td>3.693118e+16</td>\n",
       "      <td>5097.210015</td>\n",
       "      <td>14060.217488</td>\n",
       "    </tr>\n",
       "    <tr>\n",
       "      <th>min</th>\n",
       "      <td>7.588287e+17</td>\n",
       "      <td>1.000000</td>\n",
       "      <td>0.000000</td>\n",
       "    </tr>\n",
       "    <tr>\n",
       "      <th>25%</th>\n",
       "      <td>7.895309e+17</td>\n",
       "      <td>1883.000000</td>\n",
       "      <td>5045.000000</td>\n",
       "    </tr>\n",
       "    <tr>\n",
       "      <th>50%</th>\n",
       "      <td>8.185365e+17</td>\n",
       "      <td>3100.000000</td>\n",
       "      <td>10221.000000</td>\n",
       "    </tr>\n",
       "    <tr>\n",
       "      <th>75%</th>\n",
       "      <td>8.482137e+17</td>\n",
       "      <td>5326.000000</td>\n",
       "      <td>18820.000000</td>\n",
       "    </tr>\n",
       "    <tr>\n",
       "      <th>max</th>\n",
       "      <td>8.924206e+17</td>\n",
       "      <td>53919.000000</td>\n",
       "      <td>128322.000000</td>\n",
       "    </tr>\n",
       "  </tbody>\n",
       "</table>\n",
       "</div>"
      ],
      "text/plain": [
       "           tweet_id  retweet_count  favorite_count\n",
       "count  8.770000e+02     877.000000      877.000000\n",
       "mean   8.200861e+17    4524.550741    13383.279361\n",
       "std    3.693118e+16    5097.210015    14060.217488\n",
       "min    7.588287e+17       1.000000        0.000000\n",
       "25%    7.895309e+17    1883.000000     5045.000000\n",
       "50%    8.185365e+17    3100.000000    10221.000000\n",
       "75%    8.482137e+17    5326.000000    18820.000000\n",
       "max    8.924206e+17   53919.000000   128322.000000"
      ]
     },
     "execution_count": 23,
     "metadata": {},
     "output_type": "execute_result"
    }
   ],
   "source": [
    "twitter_json.describe()"
   ]
  },
  {
   "cell_type": "code",
   "execution_count": 24,
   "metadata": {},
   "outputs": [
    {
     "data": {
      "text/plain": [
       "0"
      ]
     },
     "execution_count": 24,
     "metadata": {},
     "output_type": "execute_result"
    }
   ],
   "source": [
    "twitter_json.duplicated().sum()"
   ]
  },
  {
   "cell_type": "code",
   "execution_count": 25,
   "metadata": {},
   "outputs": [
    {
     "data": {
      "text/html": [
       "<div>\n",
       "<style scoped>\n",
       "    .dataframe tbody tr th:only-of-type {\n",
       "        vertical-align: middle;\n",
       "    }\n",
       "\n",
       "    .dataframe tbody tr th {\n",
       "        vertical-align: top;\n",
       "    }\n",
       "\n",
       "    .dataframe thead th {\n",
       "        text-align: right;\n",
       "    }\n",
       "</style>\n",
       "<table border=\"1\" class=\"dataframe\">\n",
       "  <thead>\n",
       "    <tr style=\"text-align: right;\">\n",
       "      <th></th>\n",
       "      <th>tweet_id</th>\n",
       "      <th>jpg_url</th>\n",
       "      <th>img_num</th>\n",
       "      <th>p1</th>\n",
       "      <th>p1_conf</th>\n",
       "      <th>p1_dog</th>\n",
       "      <th>p2</th>\n",
       "      <th>p2_conf</th>\n",
       "      <th>p2_dog</th>\n",
       "      <th>p3</th>\n",
       "      <th>p3_conf</th>\n",
       "      <th>p3_dog</th>\n",
       "    </tr>\n",
       "  </thead>\n",
       "  <tbody>\n",
       "    <tr>\n",
       "      <th>0</th>\n",
       "      <td>666020888022790149</td>\n",
       "      <td>https://pbs.twimg.com/media/CT4udn0WwAA0aMy.jpg</td>\n",
       "      <td>1</td>\n",
       "      <td>Welsh_springer_spaniel</td>\n",
       "      <td>0.465074</td>\n",
       "      <td>True</td>\n",
       "      <td>collie</td>\n",
       "      <td>0.156665</td>\n",
       "      <td>True</td>\n",
       "      <td>Shetland_sheepdog</td>\n",
       "      <td>0.061428</td>\n",
       "      <td>True</td>\n",
       "    </tr>\n",
       "    <tr>\n",
       "      <th>1</th>\n",
       "      <td>666029285002620928</td>\n",
       "      <td>https://pbs.twimg.com/media/CT42GRgUYAA5iDo.jpg</td>\n",
       "      <td>1</td>\n",
       "      <td>redbone</td>\n",
       "      <td>0.506826</td>\n",
       "      <td>True</td>\n",
       "      <td>miniature_pinscher</td>\n",
       "      <td>0.074192</td>\n",
       "      <td>True</td>\n",
       "      <td>Rhodesian_ridgeback</td>\n",
       "      <td>0.072010</td>\n",
       "      <td>True</td>\n",
       "    </tr>\n",
       "    <tr>\n",
       "      <th>2</th>\n",
       "      <td>666033412701032449</td>\n",
       "      <td>https://pbs.twimg.com/media/CT4521TWwAEvMyu.jpg</td>\n",
       "      <td>1</td>\n",
       "      <td>German_shepherd</td>\n",
       "      <td>0.596461</td>\n",
       "      <td>True</td>\n",
       "      <td>malinois</td>\n",
       "      <td>0.138584</td>\n",
       "      <td>True</td>\n",
       "      <td>bloodhound</td>\n",
       "      <td>0.116197</td>\n",
       "      <td>True</td>\n",
       "    </tr>\n",
       "    <tr>\n",
       "      <th>3</th>\n",
       "      <td>666044226329800704</td>\n",
       "      <td>https://pbs.twimg.com/media/CT5Dr8HUEAA-lEu.jpg</td>\n",
       "      <td>1</td>\n",
       "      <td>Rhodesian_ridgeback</td>\n",
       "      <td>0.408143</td>\n",
       "      <td>True</td>\n",
       "      <td>redbone</td>\n",
       "      <td>0.360687</td>\n",
       "      <td>True</td>\n",
       "      <td>miniature_pinscher</td>\n",
       "      <td>0.222752</td>\n",
       "      <td>True</td>\n",
       "    </tr>\n",
       "    <tr>\n",
       "      <th>4</th>\n",
       "      <td>666049248165822465</td>\n",
       "      <td>https://pbs.twimg.com/media/CT5IQmsXIAAKY4A.jpg</td>\n",
       "      <td>1</td>\n",
       "      <td>miniature_pinscher</td>\n",
       "      <td>0.560311</td>\n",
       "      <td>True</td>\n",
       "      <td>Rottweiler</td>\n",
       "      <td>0.243682</td>\n",
       "      <td>True</td>\n",
       "      <td>Doberman</td>\n",
       "      <td>0.154629</td>\n",
       "      <td>True</td>\n",
       "    </tr>\n",
       "  </tbody>\n",
       "</table>\n",
       "</div>"
      ],
      "text/plain": [
       "             tweet_id                                          jpg_url  \\\n",
       "0  666020888022790149  https://pbs.twimg.com/media/CT4udn0WwAA0aMy.jpg   \n",
       "1  666029285002620928  https://pbs.twimg.com/media/CT42GRgUYAA5iDo.jpg   \n",
       "2  666033412701032449  https://pbs.twimg.com/media/CT4521TWwAEvMyu.jpg   \n",
       "3  666044226329800704  https://pbs.twimg.com/media/CT5Dr8HUEAA-lEu.jpg   \n",
       "4  666049248165822465  https://pbs.twimg.com/media/CT5IQmsXIAAKY4A.jpg   \n",
       "\n",
       "   img_num                      p1   p1_conf  p1_dog                  p2  \\\n",
       "0        1  Welsh_springer_spaniel  0.465074    True              collie   \n",
       "1        1                 redbone  0.506826    True  miniature_pinscher   \n",
       "2        1         German_shepherd  0.596461    True            malinois   \n",
       "3        1     Rhodesian_ridgeback  0.408143    True             redbone   \n",
       "4        1      miniature_pinscher  0.560311    True          Rottweiler   \n",
       "\n",
       "    p2_conf  p2_dog                   p3   p3_conf  p3_dog  \n",
       "0  0.156665    True    Shetland_sheepdog  0.061428    True  \n",
       "1  0.074192    True  Rhodesian_ridgeback  0.072010    True  \n",
       "2  0.138584    True           bloodhound  0.116197    True  \n",
       "3  0.360687    True   miniature_pinscher  0.222752    True  \n",
       "4  0.243682    True             Doberman  0.154629    True  "
      ]
     },
     "execution_count": 25,
     "metadata": {},
     "output_type": "execute_result"
    }
   ],
   "source": [
    "image_predictions.head(5)"
   ]
  },
  {
   "cell_type": "code",
   "execution_count": 26,
   "metadata": {},
   "outputs": [
    {
     "data": {
      "text/html": [
       "<div>\n",
       "<style scoped>\n",
       "    .dataframe tbody tr th:only-of-type {\n",
       "        vertical-align: middle;\n",
       "    }\n",
       "\n",
       "    .dataframe tbody tr th {\n",
       "        vertical-align: top;\n",
       "    }\n",
       "\n",
       "    .dataframe thead th {\n",
       "        text-align: right;\n",
       "    }\n",
       "</style>\n",
       "<table border=\"1\" class=\"dataframe\">\n",
       "  <thead>\n",
       "    <tr style=\"text-align: right;\">\n",
       "      <th></th>\n",
       "      <th>tweet_id</th>\n",
       "      <th>jpg_url</th>\n",
       "      <th>img_num</th>\n",
       "      <th>p1</th>\n",
       "      <th>p1_conf</th>\n",
       "      <th>p1_dog</th>\n",
       "      <th>p2</th>\n",
       "      <th>p2_conf</th>\n",
       "      <th>p2_dog</th>\n",
       "      <th>p3</th>\n",
       "      <th>p3_conf</th>\n",
       "      <th>p3_dog</th>\n",
       "    </tr>\n",
       "  </thead>\n",
       "  <tbody>\n",
       "    <tr>\n",
       "      <th>871</th>\n",
       "      <td>697943111201378304</td>\n",
       "      <td>https://pbs.twimg.com/media/Ca-XjfiUsAAUa8f.jpg</td>\n",
       "      <td>1</td>\n",
       "      <td>Great_Dane</td>\n",
       "      <td>0.126924</td>\n",
       "      <td>True</td>\n",
       "      <td>Greater_Swiss_Mountain_dog</td>\n",
       "      <td>0.110037</td>\n",
       "      <td>True</td>\n",
       "      <td>German_short-haired_pointer</td>\n",
       "      <td>0.090816</td>\n",
       "      <td>True</td>\n",
       "    </tr>\n",
       "    <tr>\n",
       "      <th>1057</th>\n",
       "      <td>714631576617938945</td>\n",
       "      <td>https://pbs.twimg.com/media/CerhoBWWAAA5eLL.jpg</td>\n",
       "      <td>1</td>\n",
       "      <td>meerkat</td>\n",
       "      <td>0.143497</td>\n",
       "      <td>False</td>\n",
       "      <td>weasel</td>\n",
       "      <td>0.117402</td>\n",
       "      <td>False</td>\n",
       "      <td>black-footed_ferret</td>\n",
       "      <td>0.099933</td>\n",
       "      <td>False</td>\n",
       "    </tr>\n",
       "    <tr>\n",
       "      <th>415</th>\n",
       "      <td>674014384960745472</td>\n",
       "      <td>https://pbs.twimg.com/media/CVqUgTIUAAUA8Jr.jpg</td>\n",
       "      <td>1</td>\n",
       "      <td>Pembroke</td>\n",
       "      <td>0.742320</td>\n",
       "      <td>True</td>\n",
       "      <td>Cardigan</td>\n",
       "      <td>0.084937</td>\n",
       "      <td>True</td>\n",
       "      <td>Eskimo_dog</td>\n",
       "      <td>0.068321</td>\n",
       "      <td>True</td>\n",
       "    </tr>\n",
       "    <tr>\n",
       "      <th>566</th>\n",
       "      <td>678334497360859136</td>\n",
       "      <td>https://pbs.twimg.com/media/CWntoDVWcAEl3NB.jpg</td>\n",
       "      <td>1</td>\n",
       "      <td>Norfolk_terrier</td>\n",
       "      <td>0.378643</td>\n",
       "      <td>True</td>\n",
       "      <td>golden_retriever</td>\n",
       "      <td>0.095594</td>\n",
       "      <td>True</td>\n",
       "      <td>kelpie</td>\n",
       "      <td>0.085309</td>\n",
       "      <td>True</td>\n",
       "    </tr>\n",
       "    <tr>\n",
       "      <th>1625</th>\n",
       "      <td>803773340896923648</td>\n",
       "      <td>https://pbs.twimg.com/media/CyeTku-XcAALkBd.jpg</td>\n",
       "      <td>2</td>\n",
       "      <td>miniature_pinscher</td>\n",
       "      <td>0.817066</td>\n",
       "      <td>True</td>\n",
       "      <td>redbone</td>\n",
       "      <td>0.059707</td>\n",
       "      <td>True</td>\n",
       "      <td>Irish_terrier</td>\n",
       "      <td>0.034195</td>\n",
       "      <td>True</td>\n",
       "    </tr>\n",
       "  </tbody>\n",
       "</table>\n",
       "</div>"
      ],
      "text/plain": [
       "                tweet_id                                          jpg_url  \\\n",
       "871   697943111201378304  https://pbs.twimg.com/media/Ca-XjfiUsAAUa8f.jpg   \n",
       "1057  714631576617938945  https://pbs.twimg.com/media/CerhoBWWAAA5eLL.jpg   \n",
       "415   674014384960745472  https://pbs.twimg.com/media/CVqUgTIUAAUA8Jr.jpg   \n",
       "566   678334497360859136  https://pbs.twimg.com/media/CWntoDVWcAEl3NB.jpg   \n",
       "1625  803773340896923648  https://pbs.twimg.com/media/CyeTku-XcAALkBd.jpg   \n",
       "\n",
       "      img_num                  p1   p1_conf  p1_dog  \\\n",
       "871         1          Great_Dane  0.126924    True   \n",
       "1057        1             meerkat  0.143497   False   \n",
       "415         1            Pembroke  0.742320    True   \n",
       "566         1     Norfolk_terrier  0.378643    True   \n",
       "1625        2  miniature_pinscher  0.817066    True   \n",
       "\n",
       "                              p2   p2_conf  p2_dog  \\\n",
       "871   Greater_Swiss_Mountain_dog  0.110037    True   \n",
       "1057                      weasel  0.117402   False   \n",
       "415                     Cardigan  0.084937    True   \n",
       "566             golden_retriever  0.095594    True   \n",
       "1625                     redbone  0.059707    True   \n",
       "\n",
       "                               p3   p3_conf  p3_dog  \n",
       "871   German_short-haired_pointer  0.090816    True  \n",
       "1057          black-footed_ferret  0.099933   False  \n",
       "415                    Eskimo_dog  0.068321    True  \n",
       "566                        kelpie  0.085309    True  \n",
       "1625                Irish_terrier  0.034195    True  "
      ]
     },
     "execution_count": 26,
     "metadata": {},
     "output_type": "execute_result"
    }
   ],
   "source": [
    "image_predictions.sample(5)"
   ]
  },
  {
   "cell_type": "code",
   "execution_count": 27,
   "metadata": {},
   "outputs": [
    {
     "data": {
      "text/plain": [
       "golden_retriever      150\n",
       "Labrador_retriever    100\n",
       "Pembroke               89\n",
       "Chihuahua              83\n",
       "pug                    57\n",
       "                     ... \n",
       "nail                    1\n",
       "crash_helmet            1\n",
       "electric_fan            1\n",
       "clumber                 1\n",
       "robin                   1\n",
       "Name: p1, Length: 378, dtype: int64"
      ]
     },
     "execution_count": 27,
     "metadata": {},
     "output_type": "execute_result"
    }
   ],
   "source": [
    "image_predictions.p1.value_counts()"
   ]
  },
  {
   "cell_type": "code",
   "execution_count": 28,
   "metadata": {},
   "outputs": [
    {
     "data": {
      "text/plain": [
       "0"
      ]
     },
     "execution_count": 28,
     "metadata": {},
     "output_type": "execute_result"
    }
   ],
   "source": [
    "image_predictions.duplicated().sum()"
   ]
  },
  {
   "cell_type": "code",
   "execution_count": 29,
   "metadata": {},
   "outputs": [
    {
     "data": {
      "text/plain": [
       "tweet_id    0\n",
       "jpg_url     0\n",
       "img_num     0\n",
       "p1          0\n",
       "p1_conf     0\n",
       "p1_dog      0\n",
       "p2          0\n",
       "p2_conf     0\n",
       "p2_dog      0\n",
       "p3          0\n",
       "p3_conf     0\n",
       "p3_dog      0\n",
       "dtype: int64"
      ]
     },
     "execution_count": 29,
     "metadata": {},
     "output_type": "execute_result"
    }
   ],
   "source": [
    "image_predictions.isnull().sum()"
   ]
  },
  {
   "cell_type": "code",
   "execution_count": 30,
   "metadata": {},
   "outputs": [
    {
     "name": "stdout",
     "output_type": "stream",
     "text": [
      "<class 'pandas.core.frame.DataFrame'>\n",
      "RangeIndex: 2075 entries, 0 to 2074\n",
      "Data columns (total 12 columns):\n",
      " #   Column    Non-Null Count  Dtype  \n",
      "---  ------    --------------  -----  \n",
      " 0   tweet_id  2075 non-null   int64  \n",
      " 1   jpg_url   2075 non-null   object \n",
      " 2   img_num   2075 non-null   int64  \n",
      " 3   p1        2075 non-null   object \n",
      " 4   p1_conf   2075 non-null   float64\n",
      " 5   p1_dog    2075 non-null   bool   \n",
      " 6   p2        2075 non-null   object \n",
      " 7   p2_conf   2075 non-null   float64\n",
      " 8   p2_dog    2075 non-null   bool   \n",
      " 9   p3        2075 non-null   object \n",
      " 10  p3_conf   2075 non-null   float64\n",
      " 11  p3_dog    2075 non-null   bool   \n",
      "dtypes: bool(3), float64(3), int64(2), object(4)\n",
      "memory usage: 152.1+ KB\n"
     ]
    }
   ],
   "source": [
    "#tweet_id should be changed into a string\n",
    "\n",
    "image_predictions.info()"
   ]
  },
  {
   "cell_type": "code",
   "execution_count": 31,
   "metadata": {},
   "outputs": [
    {
     "data": {
      "text/html": [
       "<div>\n",
       "<style scoped>\n",
       "    .dataframe tbody tr th:only-of-type {\n",
       "        vertical-align: middle;\n",
       "    }\n",
       "\n",
       "    .dataframe tbody tr th {\n",
       "        vertical-align: top;\n",
       "    }\n",
       "\n",
       "    .dataframe thead th {\n",
       "        text-align: right;\n",
       "    }\n",
       "</style>\n",
       "<table border=\"1\" class=\"dataframe\">\n",
       "  <thead>\n",
       "    <tr style=\"text-align: right;\">\n",
       "      <th></th>\n",
       "      <th>tweet_id</th>\n",
       "      <th>img_num</th>\n",
       "      <th>p1_conf</th>\n",
       "      <th>p2_conf</th>\n",
       "      <th>p3_conf</th>\n",
       "    </tr>\n",
       "  </thead>\n",
       "  <tbody>\n",
       "    <tr>\n",
       "      <th>count</th>\n",
       "      <td>2.075000e+03</td>\n",
       "      <td>2075.000000</td>\n",
       "      <td>2075.000000</td>\n",
       "      <td>2.075000e+03</td>\n",
       "      <td>2.075000e+03</td>\n",
       "    </tr>\n",
       "    <tr>\n",
       "      <th>mean</th>\n",
       "      <td>7.384514e+17</td>\n",
       "      <td>1.203855</td>\n",
       "      <td>0.594548</td>\n",
       "      <td>1.345886e-01</td>\n",
       "      <td>6.032417e-02</td>\n",
       "    </tr>\n",
       "    <tr>\n",
       "      <th>std</th>\n",
       "      <td>6.785203e+16</td>\n",
       "      <td>0.561875</td>\n",
       "      <td>0.271174</td>\n",
       "      <td>1.006657e-01</td>\n",
       "      <td>5.090593e-02</td>\n",
       "    </tr>\n",
       "    <tr>\n",
       "      <th>min</th>\n",
       "      <td>6.660209e+17</td>\n",
       "      <td>1.000000</td>\n",
       "      <td>0.044333</td>\n",
       "      <td>1.011300e-08</td>\n",
       "      <td>1.740170e-10</td>\n",
       "    </tr>\n",
       "    <tr>\n",
       "      <th>25%</th>\n",
       "      <td>6.764835e+17</td>\n",
       "      <td>1.000000</td>\n",
       "      <td>0.364412</td>\n",
       "      <td>5.388625e-02</td>\n",
       "      <td>1.622240e-02</td>\n",
       "    </tr>\n",
       "    <tr>\n",
       "      <th>50%</th>\n",
       "      <td>7.119988e+17</td>\n",
       "      <td>1.000000</td>\n",
       "      <td>0.588230</td>\n",
       "      <td>1.181810e-01</td>\n",
       "      <td>4.944380e-02</td>\n",
       "    </tr>\n",
       "    <tr>\n",
       "      <th>75%</th>\n",
       "      <td>7.932034e+17</td>\n",
       "      <td>1.000000</td>\n",
       "      <td>0.843855</td>\n",
       "      <td>1.955655e-01</td>\n",
       "      <td>9.180755e-02</td>\n",
       "    </tr>\n",
       "    <tr>\n",
       "      <th>max</th>\n",
       "      <td>8.924206e+17</td>\n",
       "      <td>4.000000</td>\n",
       "      <td>1.000000</td>\n",
       "      <td>4.880140e-01</td>\n",
       "      <td>2.734190e-01</td>\n",
       "    </tr>\n",
       "  </tbody>\n",
       "</table>\n",
       "</div>"
      ],
      "text/plain": [
       "           tweet_id      img_num      p1_conf       p2_conf       p3_conf\n",
       "count  2.075000e+03  2075.000000  2075.000000  2.075000e+03  2.075000e+03\n",
       "mean   7.384514e+17     1.203855     0.594548  1.345886e-01  6.032417e-02\n",
       "std    6.785203e+16     0.561875     0.271174  1.006657e-01  5.090593e-02\n",
       "min    6.660209e+17     1.000000     0.044333  1.011300e-08  1.740170e-10\n",
       "25%    6.764835e+17     1.000000     0.364412  5.388625e-02  1.622240e-02\n",
       "50%    7.119988e+17     1.000000     0.588230  1.181810e-01  4.944380e-02\n",
       "75%    7.932034e+17     1.000000     0.843855  1.955655e-01  9.180755e-02\n",
       "max    8.924206e+17     4.000000     1.000000  4.880140e-01  2.734190e-01"
      ]
     },
     "execution_count": 31,
     "metadata": {},
     "output_type": "execute_result"
    }
   ],
   "source": [
    "image_predictions.describe()"
   ]
  },
  {
   "cell_type": "markdown",
   "metadata": {},
   "source": [
    "# <u> 3.0 Data Cleaning </u> #\n",
    "<a id = \"clean\"> </a>\n",
    "\n",
    "Each step described in the `Assess` section should be defined, coded and tested for data cleaning\n"
   ]
  },
  {
   "cell_type": "code",
   "execution_count": 32,
   "metadata": {},
   "outputs": [],
   "source": [
    "#A copy was made of the original df in case of any errors were made\n",
    "df_twitter_test = df_twitter.copy()\n",
    "image_predictions_test = image_predictions.copy()\n",
    "twitter_json_test = twitter_json.copy()"
   ]
  },
  {
   "cell_type": "markdown",
   "metadata": {},
   "source": [
    "### (1) Define - Tweet IDs to be converted into Strings"
   ]
  },
  {
   "cell_type": "markdown",
   "metadata": {},
   "source": [
    "The tweet IDs for all three databases should be converted to string."
   ]
  },
  {
   "cell_type": "markdown",
   "metadata": {},
   "source": [
    "#### Code"
   ]
  },
  {
   "cell_type": "code",
   "execution_count": 33,
   "metadata": {},
   "outputs": [],
   "source": [
    "df_twitter_test.tweet_id = df_twitter.tweet_id.astype(str)\n",
    "image_predictions_test.tweet_id = image_predictions.tweet_id.astype(str)\n",
    "twitter_json_test.tweet_id = twitter_json.tweet_id.astype(str)"
   ]
  },
  {
   "cell_type": "markdown",
   "metadata": {},
   "source": [
    "#### Test"
   ]
  },
  {
   "cell_type": "code",
   "execution_count": 34,
   "metadata": {},
   "outputs": [
    {
     "data": {
      "text/plain": [
       "dtype('int64')"
      ]
     },
     "execution_count": 34,
     "metadata": {},
     "output_type": "execute_result"
    }
   ],
   "source": [
    "df_twitter.tweet_id.dtypes\n",
    "image_predictions.tweet_id.dtypes"
   ]
  },
  {
   "cell_type": "markdown",
   "metadata": {},
   "source": [
    "### (2) Define - Convert timestamp\n",
    "\n",
    "Convert the timestamp into the datetime format, for easier analysis of that type of data"
   ]
  },
  {
   "cell_type": "markdown",
   "metadata": {},
   "source": [
    "#### Code"
   ]
  },
  {
   "cell_type": "code",
   "execution_count": 35,
   "metadata": {},
   "outputs": [],
   "source": [
    "df_twitter_test.timestamp =  pd.to_datetime(df_twitter.timestamp)"
   ]
  },
  {
   "cell_type": "markdown",
   "metadata": {},
   "source": [
    "#### Test"
   ]
  },
  {
   "cell_type": "code",
   "execution_count": 36,
   "metadata": {},
   "outputs": [
    {
     "data": {
      "text/plain": [
       "datetime64[ns, UTC]"
      ]
     },
     "execution_count": 36,
     "metadata": {},
     "output_type": "execute_result"
    }
   ],
   "source": [
    "df_twitter_test.timestamp.dtype"
   ]
  },
  {
   "cell_type": "markdown",
   "metadata": {},
   "source": [
    "#### (3)/(4)/(5) Define - Remove any tweets using the \"retweeted_status_id\"  and \"in_reply_to_status_id\". These columns will also need to be removed"
   ]
  },
  {
   "cell_type": "markdown",
   "metadata": {},
   "source": [
    " Remove any of the tweets that were retweeted using the \"retweeted_status_id\"  or replies using the in_reply_to_status_id. These columns will then be removed these columns from the dataframe."
   ]
  },
  {
   "cell_type": "markdown",
   "metadata": {},
   "source": [
    "#### Code"
   ]
  },
  {
   "cell_type": "code",
   "execution_count": 37,
   "metadata": {},
   "outputs": [
    {
     "name": "stdout",
     "output_type": "stream",
     "text": [
      "<class 'pandas.core.frame.DataFrame'>\n",
      "RangeIndex: 2356 entries, 0 to 2355\n",
      "Data columns (total 17 columns):\n",
      " #   Column                      Non-Null Count  Dtype              \n",
      "---  ------                      --------------  -----              \n",
      " 0   tweet_id                    2356 non-null   object             \n",
      " 1   in_reply_to_status_id       78 non-null     float64            \n",
      " 2   in_reply_to_user_id         78 non-null     float64            \n",
      " 3   timestamp                   2356 non-null   datetime64[ns, UTC]\n",
      " 4   source                      2356 non-null   object             \n",
      " 5   text                        2356 non-null   object             \n",
      " 6   retweeted_status_id         181 non-null    float64            \n",
      " 7   retweeted_status_user_id    181 non-null    float64            \n",
      " 8   retweeted_status_timestamp  181 non-null    object             \n",
      " 9   expanded_urls               2297 non-null   object             \n",
      " 10  rating_numerator            2356 non-null   int64              \n",
      " 11  rating_denominator          2356 non-null   int64              \n",
      " 12  name                        2356 non-null   object             \n",
      " 13  doggo                       2356 non-null   object             \n",
      " 14  floofer                     2356 non-null   object             \n",
      " 15  pupper                      2356 non-null   object             \n",
      " 16  puppo                       2356 non-null   object             \n",
      "dtypes: datetime64[ns, UTC](1), float64(4), int64(2), object(10)\n",
      "memory usage: 313.0+ KB\n"
     ]
    }
   ],
   "source": [
    "df_twitter_test.info()"
   ]
  },
  {
   "cell_type": "code",
   "execution_count": 38,
   "metadata": {},
   "outputs": [],
   "source": [
    "df_twitter_test = df_twitter_test[df_twitter_test['retweeted_status_id'].isnull()]\n",
    "df_twitter_test = df_twitter_test[df_twitter_test['in_reply_to_status_id'].isnull()]"
   ]
  },
  {
   "cell_type": "code",
   "execution_count": 39,
   "metadata": {},
   "outputs": [],
   "source": [
    "#Drop these columns after removing the specified entries from our list\n",
    "df_twitter_test.drop(['in_reply_to_status_id', 'in_reply_to_user_id', 'retweeted_status_id','retweeted_status_user_id','retweeted_status_timestamp'],axis = 1, inplace = True)"
   ]
  },
  {
   "cell_type": "markdown",
   "metadata": {},
   "source": [
    "#### Test"
   ]
  },
  {
   "cell_type": "code",
   "execution_count": 40,
   "metadata": {},
   "outputs": [
    {
     "name": "stdout",
     "output_type": "stream",
     "text": [
      "<class 'pandas.core.frame.DataFrame'>\n",
      "Int64Index: 2097 entries, 0 to 2355\n",
      "Data columns (total 12 columns):\n",
      " #   Column              Non-Null Count  Dtype              \n",
      "---  ------              --------------  -----              \n",
      " 0   tweet_id            2097 non-null   object             \n",
      " 1   timestamp           2097 non-null   datetime64[ns, UTC]\n",
      " 2   source              2097 non-null   object             \n",
      " 3   text                2097 non-null   object             \n",
      " 4   expanded_urls       2094 non-null   object             \n",
      " 5   rating_numerator    2097 non-null   int64              \n",
      " 6   rating_denominator  2097 non-null   int64              \n",
      " 7   name                2097 non-null   object             \n",
      " 8   doggo               2097 non-null   object             \n",
      " 9   floofer             2097 non-null   object             \n",
      " 10  pupper              2097 non-null   object             \n",
      " 11  puppo               2097 non-null   object             \n",
      "dtypes: datetime64[ns, UTC](1), int64(2), object(9)\n",
      "memory usage: 213.0+ KB\n"
     ]
    }
   ],
   "source": [
    "df_twitter_test.info()"
   ]
  },
  {
   "cell_type": "markdown",
   "metadata": {},
   "source": [
    "### (6) Define - Some of the tweets do not have dog names - Any lowercase name will be replaced by NaN"
   ]
  },
  {
   "cell_type": "markdown",
   "metadata": {},
   "source": [
    "Some of the tweet names were not parsed correctly, and as such are strings of \"a\", \"the\" or \"an\". These value strings for the purposes of analysis using dog names, should be converted into NaN. From some quick review of the names, some of the names were mis-identified from the string \"This is 'NAME'\" which would sometimes come up as \"This is a...\" or \"This is an...\". As such many of the names are lowercase \"a\" and \"an\" which should be removed, as well as none to null values so they are not misconstrued in the analysis using the \"Name\" column.\n",
    "\n",
    "To update this programatically, any lowercase name will be replaced by NaN."
   ]
  },
  {
   "cell_type": "markdown",
   "metadata": {},
   "source": [
    "#### Code"
   ]
  },
  {
   "cell_type": "code",
   "execution_count": 41,
   "metadata": {},
   "outputs": [],
   "source": [
    "import numpy as np"
   ]
  },
  {
   "cell_type": "code",
   "execution_count": 42,
   "metadata": {},
   "outputs": [],
   "source": [
    "#Converts all lowercase names (non applicable ones) to NaN values\n",
    "mask = df_twitter_test.name.str.islower()\n",
    "column_name = 'name'\n",
    "df_twitter_test.loc[mask, column_name] = np.nan"
   ]
  },
  {
   "cell_type": "markdown",
   "metadata": {},
   "source": [
    "dfm_twitter_test.loc[df_twitter_test.dog_type == 'doggopuppo'] = 'doggo, pupper'"
   ]
  },
  {
   "cell_type": "code",
   "execution_count": 43,
   "metadata": {},
   "outputs": [
    {
     "name": "stdout",
     "output_type": "stream",
     "text": [
      "<class 'pandas.core.frame.DataFrame'>\n",
      "Int64Index: 2097 entries, 0 to 2355\n",
      "Data columns (total 12 columns):\n",
      " #   Column              Non-Null Count  Dtype              \n",
      "---  ------              --------------  -----              \n",
      " 0   tweet_id            2097 non-null   object             \n",
      " 1   timestamp           2097 non-null   datetime64[ns, UTC]\n",
      " 2   source              2097 non-null   object             \n",
      " 3   text                2097 non-null   object             \n",
      " 4   expanded_urls       2094 non-null   object             \n",
      " 5   rating_numerator    2097 non-null   int64              \n",
      " 6   rating_denominator  2097 non-null   int64              \n",
      " 7   name                1993 non-null   object             \n",
      " 8   doggo               2097 non-null   object             \n",
      " 9   floofer             2097 non-null   object             \n",
      " 10  pupper              2097 non-null   object             \n",
      " 11  puppo               2097 non-null   object             \n",
      "dtypes: datetime64[ns, UTC](1), int64(2), object(9)\n",
      "memory usage: 213.0+ KB\n"
     ]
    }
   ],
   "source": [
    "df_twitter_test.info()"
   ]
  },
  {
   "cell_type": "markdown",
   "metadata": {},
   "source": [
    "#### Test"
   ]
  },
  {
   "cell_type": "code",
   "execution_count": 44,
   "metadata": {},
   "outputs": [
    {
     "data": {
      "text/plain": [
       "None         603\n",
       "Lucy          11\n",
       "Charlie       11\n",
       "Oliver        10\n",
       "Cooper        10\n",
       "            ... \n",
       "Snickers       1\n",
       "Schnitzel      1\n",
       "Clybe          1\n",
       "Fabio          1\n",
       "Mo             1\n",
       "Name: name, Length: 930, dtype: int64"
      ]
     },
     "execution_count": 44,
     "metadata": {},
     "output_type": "execute_result"
    }
   ],
   "source": [
    "df_twitter_test.name.value_counts()"
   ]
  },
  {
   "cell_type": "markdown",
   "metadata": {},
   "source": [
    "### (7) Define -Tweet ID 666287406224695000 has a rating of 1/2, which was mis-interpreted from the tweet, it should instead be 9/10."
   ]
  },
  {
   "cell_type": "markdown",
   "metadata": {},
   "source": [
    "Tweet ID 666287406224695000 has a rating of 1/2, which was mis-interpreted from the tweet, it should instead be 9/10."
   ]
  },
  {
   "cell_type": "markdown",
   "metadata": {},
   "source": [
    "#### Code"
   ]
  },
  {
   "cell_type": "code",
   "execution_count": 45,
   "metadata": {},
   "outputs": [
    {
     "data": {
      "text/html": [
       "<div>\n",
       "<style scoped>\n",
       "    .dataframe tbody tr th:only-of-type {\n",
       "        vertical-align: middle;\n",
       "    }\n",
       "\n",
       "    .dataframe tbody tr th {\n",
       "        vertical-align: top;\n",
       "    }\n",
       "\n",
       "    .dataframe thead th {\n",
       "        text-align: right;\n",
       "    }\n",
       "</style>\n",
       "<table border=\"1\" class=\"dataframe\">\n",
       "  <thead>\n",
       "    <tr style=\"text-align: right;\">\n",
       "      <th></th>\n",
       "      <th>tweet_id</th>\n",
       "      <th>timestamp</th>\n",
       "      <th>source</th>\n",
       "      <th>text</th>\n",
       "      <th>expanded_urls</th>\n",
       "      <th>rating_numerator</th>\n",
       "      <th>rating_denominator</th>\n",
       "      <th>name</th>\n",
       "      <th>doggo</th>\n",
       "      <th>floofer</th>\n",
       "      <th>pupper</th>\n",
       "      <th>puppo</th>\n",
       "    </tr>\n",
       "  </thead>\n",
       "  <tbody>\n",
       "    <tr>\n",
       "      <th>1869</th>\n",
       "      <td>675153376133427200</td>\n",
       "      <td>2015-12-11 03:21:23+00:00</td>\n",
       "      <td>&lt;a href=\"http://twitter.com/download/iphone\" r...</td>\n",
       "      <td>What kind of person sends in a picture without...</td>\n",
       "      <td>https://twitter.com/dog_rates/status/675153376...</td>\n",
       "      <td>1</td>\n",
       "      <td>10</td>\n",
       "      <td>None</td>\n",
       "      <td>None</td>\n",
       "      <td>None</td>\n",
       "      <td>None</td>\n",
       "      <td>None</td>\n",
       "    </tr>\n",
       "    <tr>\n",
       "      <th>2091</th>\n",
       "      <td>670783437142401025</td>\n",
       "      <td>2015-11-29 01:56:48+00:00</td>\n",
       "      <td>&lt;a href=\"http://twitter.com/download/iphone\" r...</td>\n",
       "      <td>Flamboyant pup here. Probably poisonous. Won't...</td>\n",
       "      <td>https://twitter.com/dog_rates/status/670783437...</td>\n",
       "      <td>1</td>\n",
       "      <td>10</td>\n",
       "      <td>None</td>\n",
       "      <td>None</td>\n",
       "      <td>None</td>\n",
       "      <td>None</td>\n",
       "      <td>None</td>\n",
       "    </tr>\n",
       "    <tr>\n",
       "      <th>2261</th>\n",
       "      <td>667549055577362432</td>\n",
       "      <td>2015-11-20 03:44:31+00:00</td>\n",
       "      <td>&lt;a href=\"http://twitter.com\" rel=\"nofollow\"&gt;Tw...</td>\n",
       "      <td>Never seen dog like this. Breathes heavy. Tilt...</td>\n",
       "      <td>https://twitter.com/dog_rates/status/667549055...</td>\n",
       "      <td>1</td>\n",
       "      <td>10</td>\n",
       "      <td>None</td>\n",
       "      <td>None</td>\n",
       "      <td>None</td>\n",
       "      <td>None</td>\n",
       "      <td>None</td>\n",
       "    </tr>\n",
       "    <tr>\n",
       "      <th>2335</th>\n",
       "      <td>666287406224695296</td>\n",
       "      <td>2015-11-16 16:11:11+00:00</td>\n",
       "      <td>&lt;a href=\"http://twitter.com/download/iphone\" r...</td>\n",
       "      <td>This is an Albanian 3 1/2 legged  Episcopalian...</td>\n",
       "      <td>https://twitter.com/dog_rates/status/666287406...</td>\n",
       "      <td>1</td>\n",
       "      <td>2</td>\n",
       "      <td>NaN</td>\n",
       "      <td>None</td>\n",
       "      <td>None</td>\n",
       "      <td>None</td>\n",
       "      <td>None</td>\n",
       "    </tr>\n",
       "    <tr>\n",
       "      <th>2338</th>\n",
       "      <td>666104133288665088</td>\n",
       "      <td>2015-11-16 04:02:55+00:00</td>\n",
       "      <td>&lt;a href=\"http://twitter.com/download/iphone\" r...</td>\n",
       "      <td>Not familiar with this breed. No tail (weird)....</td>\n",
       "      <td>https://twitter.com/dog_rates/status/666104133...</td>\n",
       "      <td>1</td>\n",
       "      <td>10</td>\n",
       "      <td>None</td>\n",
       "      <td>None</td>\n",
       "      <td>None</td>\n",
       "      <td>None</td>\n",
       "      <td>None</td>\n",
       "    </tr>\n",
       "  </tbody>\n",
       "</table>\n",
       "</div>"
      ],
      "text/plain": [
       "                tweet_id                 timestamp  \\\n",
       "1869  675153376133427200 2015-12-11 03:21:23+00:00   \n",
       "2091  670783437142401025 2015-11-29 01:56:48+00:00   \n",
       "2261  667549055577362432 2015-11-20 03:44:31+00:00   \n",
       "2335  666287406224695296 2015-11-16 16:11:11+00:00   \n",
       "2338  666104133288665088 2015-11-16 04:02:55+00:00   \n",
       "\n",
       "                                                 source  \\\n",
       "1869  <a href=\"http://twitter.com/download/iphone\" r...   \n",
       "2091  <a href=\"http://twitter.com/download/iphone\" r...   \n",
       "2261  <a href=\"http://twitter.com\" rel=\"nofollow\">Tw...   \n",
       "2335  <a href=\"http://twitter.com/download/iphone\" r...   \n",
       "2338  <a href=\"http://twitter.com/download/iphone\" r...   \n",
       "\n",
       "                                                   text  \\\n",
       "1869  What kind of person sends in a picture without...   \n",
       "2091  Flamboyant pup here. Probably poisonous. Won't...   \n",
       "2261  Never seen dog like this. Breathes heavy. Tilt...   \n",
       "2335  This is an Albanian 3 1/2 legged  Episcopalian...   \n",
       "2338  Not familiar with this breed. No tail (weird)....   \n",
       "\n",
       "                                          expanded_urls  rating_numerator  \\\n",
       "1869  https://twitter.com/dog_rates/status/675153376...                 1   \n",
       "2091  https://twitter.com/dog_rates/status/670783437...                 1   \n",
       "2261  https://twitter.com/dog_rates/status/667549055...                 1   \n",
       "2335  https://twitter.com/dog_rates/status/666287406...                 1   \n",
       "2338  https://twitter.com/dog_rates/status/666104133...                 1   \n",
       "\n",
       "      rating_denominator  name doggo floofer pupper puppo  \n",
       "1869                  10  None  None    None   None  None  \n",
       "2091                  10  None  None    None   None  None  \n",
       "2261                  10  None  None    None   None  None  \n",
       "2335                   2   NaN  None    None   None  None  \n",
       "2338                  10  None  None    None   None  None  "
      ]
     },
     "execution_count": 45,
     "metadata": {},
     "output_type": "execute_result"
    }
   ],
   "source": [
    "df_twitter_test.query('rating_numerator == 1')"
   ]
  },
  {
   "cell_type": "code",
   "execution_count": 46,
   "metadata": {},
   "outputs": [
    {
     "data": {
      "text/plain": [
       "tweet_id                                             666287406224695296\n",
       "timestamp                                     2015-11-16 16:11:11+00:00\n",
       "source                <a href=\"http://twitter.com/download/iphone\" r...\n",
       "text                  This is an Albanian 3 1/2 legged  Episcopalian...\n",
       "expanded_urls         https://twitter.com/dog_rates/status/666287406...\n",
       "rating_numerator                                                      1\n",
       "rating_denominator                                                    2\n",
       "name                                                                NaN\n",
       "doggo                                                              None\n",
       "floofer                                                            None\n",
       "pupper                                                             None\n",
       "puppo                                                              None\n",
       "Name: 2335, dtype: object"
      ]
     },
     "execution_count": 46,
     "metadata": {},
     "output_type": "execute_result"
    }
   ],
   "source": [
    "df_twitter_test.loc[2335]"
   ]
  },
  {
   "cell_type": "code",
   "execution_count": 47,
   "metadata": {},
   "outputs": [],
   "source": [
    "df_twitter_test.loc[2335, 'rating_numerator']= 9\n",
    "df_twitter_test.loc[2335, 'rating_denominator'] = 10"
   ]
  },
  {
   "cell_type": "markdown",
   "metadata": {},
   "source": [
    "#### Test"
   ]
  },
  {
   "cell_type": "code",
   "execution_count": 48,
   "metadata": {},
   "outputs": [
    {
     "data": {
      "text/plain": [
       "tweet_id                                             666287406224695296\n",
       "timestamp                                     2015-11-16 16:11:11+00:00\n",
       "source                <a href=\"http://twitter.com/download/iphone\" r...\n",
       "text                  This is an Albanian 3 1/2 legged  Episcopalian...\n",
       "expanded_urls         https://twitter.com/dog_rates/status/666287406...\n",
       "rating_numerator                                                      9\n",
       "rating_denominator                                                   10\n",
       "name                                                                NaN\n",
       "doggo                                                              None\n",
       "floofer                                                            None\n",
       "pupper                                                             None\n",
       "puppo                                                              None\n",
       "Name: 2335, dtype: object"
      ]
     },
     "execution_count": 48,
     "metadata": {},
     "output_type": "execute_result"
    }
   ],
   "source": [
    "df_twitter_test.loc[2335]"
   ]
  },
  {
   "cell_type": "markdown",
   "metadata": {},
   "source": [
    "## Tidiness ##"
   ]
  },
  {
   "cell_type": "markdown",
   "metadata": {},
   "source": [
    "Two tidiness issues identified:\n",
    "\n",
    "<ul> 1) The dog types are separated in four different columns, when they can be under one column called: Dog Types </ul>\n",
    "<ul> 2) Since we are not keeping tweets without images, we can combined the enhanced twitter archive tables with the image predictions table using the tweet_id, aswell as the JSON table."
   ]
  },
  {
   "cell_type": "markdown",
   "metadata": {},
   "source": [
    "### (1) Define - Combine JSON table and Images Predictions Table"
   ]
  },
  {
   "cell_type": "markdown",
   "metadata": {},
   "source": [
    "The JSON and Image Predictions table can be combined using the pandas merge function (pd.merge, using an inner left join). We want to combine the image_predictions and twitter_json into the df_twitter_test database."
   ]
  },
  {
   "cell_type": "markdown",
   "metadata": {},
   "source": [
    "#### Code"
   ]
  },
  {
   "cell_type": "code",
   "execution_count": 49,
   "metadata": {},
   "outputs": [],
   "source": [
    "df_twitter_test = pd.merge(df_twitter_test, image_predictions_test, on = 'tweet_id', how = 'left')"
   ]
  },
  {
   "cell_type": "code",
   "execution_count": 50,
   "metadata": {},
   "outputs": [
    {
     "data": {
      "text/html": [
       "<div>\n",
       "<style scoped>\n",
       "    .dataframe tbody tr th:only-of-type {\n",
       "        vertical-align: middle;\n",
       "    }\n",
       "\n",
       "    .dataframe tbody tr th {\n",
       "        vertical-align: top;\n",
       "    }\n",
       "\n",
       "    .dataframe thead th {\n",
       "        text-align: right;\n",
       "    }\n",
       "</style>\n",
       "<table border=\"1\" class=\"dataframe\">\n",
       "  <thead>\n",
       "    <tr style=\"text-align: right;\">\n",
       "      <th></th>\n",
       "      <th>tweet_id</th>\n",
       "      <th>timestamp</th>\n",
       "      <th>source</th>\n",
       "      <th>text</th>\n",
       "      <th>expanded_urls</th>\n",
       "      <th>rating_numerator</th>\n",
       "      <th>rating_denominator</th>\n",
       "      <th>name</th>\n",
       "      <th>doggo</th>\n",
       "      <th>floofer</th>\n",
       "      <th>...</th>\n",
       "      <th>img_num</th>\n",
       "      <th>p1</th>\n",
       "      <th>p1_conf</th>\n",
       "      <th>p1_dog</th>\n",
       "      <th>p2</th>\n",
       "      <th>p2_conf</th>\n",
       "      <th>p2_dog</th>\n",
       "      <th>p3</th>\n",
       "      <th>p3_conf</th>\n",
       "      <th>p3_dog</th>\n",
       "    </tr>\n",
       "  </thead>\n",
       "  <tbody>\n",
       "    <tr>\n",
       "      <th>1629</th>\n",
       "      <td>675145476954566656</td>\n",
       "      <td>2015-12-11 02:49:59+00:00</td>\n",
       "      <td>&lt;a href=\"http://twitter.com/download/iphone\" r...</td>\n",
       "      <td>What an honor. 3 dogs here. Blond one is clear...</td>\n",
       "      <td>https://twitter.com/dog_rates/status/675145476...</td>\n",
       "      <td>9</td>\n",
       "      <td>10</td>\n",
       "      <td>None</td>\n",
       "      <td>None</td>\n",
       "      <td>None</td>\n",
       "      <td>...</td>\n",
       "      <td>1.0</td>\n",
       "      <td>Labrador_retriever</td>\n",
       "      <td>0.458746</td>\n",
       "      <td>True</td>\n",
       "      <td>Great_Dane</td>\n",
       "      <td>0.235504</td>\n",
       "      <td>True</td>\n",
       "      <td>Staffordshire_bullterrier</td>\n",
       "      <td>0.116864</td>\n",
       "      <td>True</td>\n",
       "    </tr>\n",
       "    <tr>\n",
       "      <th>22</th>\n",
       "      <td>887473957103951883</td>\n",
       "      <td>2017-07-19 00:47:34+00:00</td>\n",
       "      <td>&lt;a href=\"http://twitter.com/download/iphone\" r...</td>\n",
       "      <td>This is Canela. She attempted some fancy porch...</td>\n",
       "      <td>https://twitter.com/dog_rates/status/887473957...</td>\n",
       "      <td>13</td>\n",
       "      <td>10</td>\n",
       "      <td>Canela</td>\n",
       "      <td>None</td>\n",
       "      <td>None</td>\n",
       "      <td>...</td>\n",
       "      <td>2.0</td>\n",
       "      <td>Pembroke</td>\n",
       "      <td>0.809197</td>\n",
       "      <td>True</td>\n",
       "      <td>Rhodesian_ridgeback</td>\n",
       "      <td>0.054950</td>\n",
       "      <td>True</td>\n",
       "      <td>beagle</td>\n",
       "      <td>0.038915</td>\n",
       "      <td>True</td>\n",
       "    </tr>\n",
       "    <tr>\n",
       "      <th>1882</th>\n",
       "      <td>670061506722140161</td>\n",
       "      <td>2015-11-27 02:08:07+00:00</td>\n",
       "      <td>&lt;a href=\"http://twitter.com/download/iphone\" r...</td>\n",
       "      <td>This is Liam. He has a particular set of skill...</td>\n",
       "      <td>https://twitter.com/dog_rates/status/670061506...</td>\n",
       "      <td>11</td>\n",
       "      <td>10</td>\n",
       "      <td>Liam</td>\n",
       "      <td>None</td>\n",
       "      <td>None</td>\n",
       "      <td>...</td>\n",
       "      <td>1.0</td>\n",
       "      <td>Italian_greyhound</td>\n",
       "      <td>0.329339</td>\n",
       "      <td>True</td>\n",
       "      <td>American_Staffordshire_terrier</td>\n",
       "      <td>0.305294</td>\n",
       "      <td>True</td>\n",
       "      <td>whippet</td>\n",
       "      <td>0.111686</td>\n",
       "      <td>True</td>\n",
       "    </tr>\n",
       "    <tr>\n",
       "      <th>15</th>\n",
       "      <td>889278841981685760</td>\n",
       "      <td>2017-07-24 00:19:32+00:00</td>\n",
       "      <td>&lt;a href=\"http://twitter.com/download/iphone\" r...</td>\n",
       "      <td>This is Oliver. You're witnessing one of his m...</td>\n",
       "      <td>https://twitter.com/dog_rates/status/889278841...</td>\n",
       "      <td>13</td>\n",
       "      <td>10</td>\n",
       "      <td>Oliver</td>\n",
       "      <td>None</td>\n",
       "      <td>None</td>\n",
       "      <td>...</td>\n",
       "      <td>1.0</td>\n",
       "      <td>whippet</td>\n",
       "      <td>0.626152</td>\n",
       "      <td>True</td>\n",
       "      <td>borzoi</td>\n",
       "      <td>0.194742</td>\n",
       "      <td>True</td>\n",
       "      <td>Saluki</td>\n",
       "      <td>0.027351</td>\n",
       "      <td>True</td>\n",
       "    </tr>\n",
       "    <tr>\n",
       "      <th>629</th>\n",
       "      <td>770787852854652928</td>\n",
       "      <td>2016-08-31 00:58:39+00:00</td>\n",
       "      <td>&lt;a href=\"http://twitter.com/download/iphone\" r...</td>\n",
       "      <td>This is Winston. His tongue has gone rogue. Do...</td>\n",
       "      <td>https://twitter.com/dog_rates/status/770787852...</td>\n",
       "      <td>10</td>\n",
       "      <td>10</td>\n",
       "      <td>Winston</td>\n",
       "      <td>None</td>\n",
       "      <td>None</td>\n",
       "      <td>...</td>\n",
       "      <td>1.0</td>\n",
       "      <td>Bernese_mountain_dog</td>\n",
       "      <td>0.787812</td>\n",
       "      <td>True</td>\n",
       "      <td>Greater_Swiss_Mountain_dog</td>\n",
       "      <td>0.163946</td>\n",
       "      <td>True</td>\n",
       "      <td>EntleBucher</td>\n",
       "      <td>0.020293</td>\n",
       "      <td>True</td>\n",
       "    </tr>\n",
       "  </tbody>\n",
       "</table>\n",
       "<p>5 rows × 23 columns</p>\n",
       "</div>"
      ],
      "text/plain": [
       "                tweet_id                 timestamp  \\\n",
       "1629  675145476954566656 2015-12-11 02:49:59+00:00   \n",
       "22    887473957103951883 2017-07-19 00:47:34+00:00   \n",
       "1882  670061506722140161 2015-11-27 02:08:07+00:00   \n",
       "15    889278841981685760 2017-07-24 00:19:32+00:00   \n",
       "629   770787852854652928 2016-08-31 00:58:39+00:00   \n",
       "\n",
       "                                                 source  \\\n",
       "1629  <a href=\"http://twitter.com/download/iphone\" r...   \n",
       "22    <a href=\"http://twitter.com/download/iphone\" r...   \n",
       "1882  <a href=\"http://twitter.com/download/iphone\" r...   \n",
       "15    <a href=\"http://twitter.com/download/iphone\" r...   \n",
       "629   <a href=\"http://twitter.com/download/iphone\" r...   \n",
       "\n",
       "                                                   text  \\\n",
       "1629  What an honor. 3 dogs here. Blond one is clear...   \n",
       "22    This is Canela. She attempted some fancy porch...   \n",
       "1882  This is Liam. He has a particular set of skill...   \n",
       "15    This is Oliver. You're witnessing one of his m...   \n",
       "629   This is Winston. His tongue has gone rogue. Do...   \n",
       "\n",
       "                                          expanded_urls  rating_numerator  \\\n",
       "1629  https://twitter.com/dog_rates/status/675145476...                 9   \n",
       "22    https://twitter.com/dog_rates/status/887473957...                13   \n",
       "1882  https://twitter.com/dog_rates/status/670061506...                11   \n",
       "15    https://twitter.com/dog_rates/status/889278841...                13   \n",
       "629   https://twitter.com/dog_rates/status/770787852...                10   \n",
       "\n",
       "      rating_denominator     name doggo floofer  ... img_num  \\\n",
       "1629                  10     None  None    None  ...     1.0   \n",
       "22                    10   Canela  None    None  ...     2.0   \n",
       "1882                  10     Liam  None    None  ...     1.0   \n",
       "15                    10   Oliver  None    None  ...     1.0   \n",
       "629                   10  Winston  None    None  ...     1.0   \n",
       "\n",
       "                        p1   p1_conf  p1_dog                              p2  \\\n",
       "1629    Labrador_retriever  0.458746    True                      Great_Dane   \n",
       "22                Pembroke  0.809197    True             Rhodesian_ridgeback   \n",
       "1882     Italian_greyhound  0.329339    True  American_Staffordshire_terrier   \n",
       "15                 whippet  0.626152    True                          borzoi   \n",
       "629   Bernese_mountain_dog  0.787812    True      Greater_Swiss_Mountain_dog   \n",
       "\n",
       "       p2_conf p2_dog                         p3   p3_conf p3_dog  \n",
       "1629  0.235504   True  Staffordshire_bullterrier  0.116864   True  \n",
       "22    0.054950   True                     beagle  0.038915   True  \n",
       "1882  0.305294   True                    whippet  0.111686   True  \n",
       "15    0.194742   True                     Saluki  0.027351   True  \n",
       "629   0.163946   True                EntleBucher  0.020293   True  \n",
       "\n",
       "[5 rows x 23 columns]"
      ]
     },
     "execution_count": 50,
     "metadata": {},
     "output_type": "execute_result"
    }
   ],
   "source": [
    "df_twitter_test.sample(5)"
   ]
  },
  {
   "cell_type": "code",
   "execution_count": 51,
   "metadata": {},
   "outputs": [],
   "source": [
    "df_twitter_test = pd.merge(df_twitter_test, twitter_json_test, on = 'tweet_id', how = 'left')"
   ]
  },
  {
   "cell_type": "markdown",
   "metadata": {},
   "source": [
    "#### Test"
   ]
  },
  {
   "cell_type": "code",
   "execution_count": 52,
   "metadata": {},
   "outputs": [
    {
     "name": "stdout",
     "output_type": "stream",
     "text": [
      "<class 'pandas.core.frame.DataFrame'>\n",
      "Int64Index: 2097 entries, 0 to 2096\n",
      "Data columns (total 25 columns):\n",
      " #   Column              Non-Null Count  Dtype              \n",
      "---  ------              --------------  -----              \n",
      " 0   tweet_id            2097 non-null   object             \n",
      " 1   timestamp           2097 non-null   datetime64[ns, UTC]\n",
      " 2   source              2097 non-null   object             \n",
      " 3   text                2097 non-null   object             \n",
      " 4   expanded_urls       2094 non-null   object             \n",
      " 5   rating_numerator    2097 non-null   int64              \n",
      " 6   rating_denominator  2097 non-null   int64              \n",
      " 7   name                1993 non-null   object             \n",
      " 8   doggo               2097 non-null   object             \n",
      " 9   floofer             2097 non-null   object             \n",
      " 10  pupper              2097 non-null   object             \n",
      " 11  puppo               2097 non-null   object             \n",
      " 12  jpg_url             1971 non-null   object             \n",
      " 13  img_num             1971 non-null   float64            \n",
      " 14  p1                  1971 non-null   object             \n",
      " 15  p1_conf             1971 non-null   float64            \n",
      " 16  p1_dog              1971 non-null   object             \n",
      " 17  p2                  1971 non-null   object             \n",
      " 18  p2_conf             1971 non-null   float64            \n",
      " 19  p2_dog              1971 non-null   object             \n",
      " 20  p3                  1971 non-null   object             \n",
      " 21  p3_conf             1971 non-null   float64            \n",
      " 22  p3_dog              1971 non-null   object             \n",
      " 23  retweet_count       693 non-null    float64            \n",
      " 24  favorite_count      693 non-null    float64            \n",
      "dtypes: datetime64[ns, UTC](1), float64(6), int64(2), object(16)\n",
      "memory usage: 426.0+ KB\n"
     ]
    }
   ],
   "source": [
    "df_twitter_test.info()"
   ]
  },
  {
   "cell_type": "markdown",
   "metadata": {},
   "source": [
    "### (2) Define - Dog types are separated in four different columns"
   ]
  },
  {
   "cell_type": "markdown",
   "metadata": {},
   "source": [
    "All of the dog types are currently in four different columnes. Each of these columns can be in one combined column called \"Dog Types\". Each \"None\" string will be convereted into an empty string using the pandas replace function to combine the various columns more easily."
   ]
  },
  {
   "cell_type": "markdown",
   "metadata": {},
   "source": [
    "#### Code"
   ]
  },
  {
   "cell_type": "code",
   "execution_count": 53,
   "metadata": {},
   "outputs": [],
   "source": [
    "df_twitter_test.doggo.replace(\"None\", '', inplace = True)\n",
    "df_twitter_test.floofer.replace(\"None\", '', inplace = True)\n",
    "df_twitter_test.pupper.replace(\"None\", '', inplace = True)\n",
    "df_twitter_test.puppo.replace(\"None\", '', inplace = True)"
   ]
  },
  {
   "cell_type": "code",
   "execution_count": 54,
   "metadata": {},
   "outputs": [
    {
     "data": {
      "text/html": [
       "<div>\n",
       "<style scoped>\n",
       "    .dataframe tbody tr th:only-of-type {\n",
       "        vertical-align: middle;\n",
       "    }\n",
       "\n",
       "    .dataframe tbody tr th {\n",
       "        vertical-align: top;\n",
       "    }\n",
       "\n",
       "    .dataframe thead th {\n",
       "        text-align: right;\n",
       "    }\n",
       "</style>\n",
       "<table border=\"1\" class=\"dataframe\">\n",
       "  <thead>\n",
       "    <tr style=\"text-align: right;\">\n",
       "      <th></th>\n",
       "      <th>tweet_id</th>\n",
       "      <th>timestamp</th>\n",
       "      <th>source</th>\n",
       "      <th>text</th>\n",
       "      <th>expanded_urls</th>\n",
       "      <th>rating_numerator</th>\n",
       "      <th>rating_denominator</th>\n",
       "      <th>name</th>\n",
       "      <th>doggo</th>\n",
       "      <th>floofer</th>\n",
       "      <th>...</th>\n",
       "      <th>p1_conf</th>\n",
       "      <th>p1_dog</th>\n",
       "      <th>p2</th>\n",
       "      <th>p2_conf</th>\n",
       "      <th>p2_dog</th>\n",
       "      <th>p3</th>\n",
       "      <th>p3_conf</th>\n",
       "      <th>p3_dog</th>\n",
       "      <th>retweet_count</th>\n",
       "      <th>favorite_count</th>\n",
       "    </tr>\n",
       "  </thead>\n",
       "  <tbody>\n",
       "    <tr>\n",
       "      <th>1018</th>\n",
       "      <td>712668654853337088</td>\n",
       "      <td>2016-03-23 15:53:42+00:00</td>\n",
       "      <td>&lt;a href=\"http://twitter.com/download/iphone\" r...</td>\n",
       "      <td>Say hello to Sunny and Roxy. They pull things ...</td>\n",
       "      <td>https://twitter.com/dog_rates/status/712668654...</td>\n",
       "      <td>10</td>\n",
       "      <td>10</td>\n",
       "      <td>Sunny</td>\n",
       "      <td></td>\n",
       "      <td></td>\n",
       "      <td>...</td>\n",
       "      <td>0.829058</td>\n",
       "      <td>True</td>\n",
       "      <td>golden_retriever</td>\n",
       "      <td>0.038664</td>\n",
       "      <td>True</td>\n",
       "      <td>Chihuahua</td>\n",
       "      <td>0.026221</td>\n",
       "      <td>True</td>\n",
       "      <td>NaN</td>\n",
       "      <td>NaN</td>\n",
       "    </tr>\n",
       "    <tr>\n",
       "      <th>1651</th>\n",
       "      <td>674670581682434048</td>\n",
       "      <td>2015-12-09 19:22:56+00:00</td>\n",
       "      <td>&lt;a href=\"http://twitter.com/download/iphone\" r...</td>\n",
       "      <td>Meet Jeb &amp;amp; Bush. Jeb is somehow stuck in t...</td>\n",
       "      <td>https://twitter.com/dog_rates/status/674670581...</td>\n",
       "      <td>9</td>\n",
       "      <td>10</td>\n",
       "      <td>Jeb</td>\n",
       "      <td></td>\n",
       "      <td></td>\n",
       "      <td>...</td>\n",
       "      <td>0.180079</td>\n",
       "      <td>True</td>\n",
       "      <td>Eskimo_dog</td>\n",
       "      <td>0.178033</td>\n",
       "      <td>True</td>\n",
       "      <td>Siberian_husky</td>\n",
       "      <td>0.077966</td>\n",
       "      <td>True</td>\n",
       "      <td>NaN</td>\n",
       "      <td>NaN</td>\n",
       "    </tr>\n",
       "    <tr>\n",
       "      <th>1168</th>\n",
       "      <td>700143752053182464</td>\n",
       "      <td>2016-02-18 02:24:13+00:00</td>\n",
       "      <td>&lt;a href=\"http://twitter.com/download/iphone\" r...</td>\n",
       "      <td>When it's Janet from accounting's birthday but...</td>\n",
       "      <td>https://twitter.com/dog_rates/status/700143752...</td>\n",
       "      <td>10</td>\n",
       "      <td>10</td>\n",
       "      <td>None</td>\n",
       "      <td></td>\n",
       "      <td></td>\n",
       "      <td>...</td>\n",
       "      <td>0.532460</td>\n",
       "      <td>True</td>\n",
       "      <td>crossword_puzzle</td>\n",
       "      <td>0.103796</td>\n",
       "      <td>False</td>\n",
       "      <td>binder</td>\n",
       "      <td>0.100371</td>\n",
       "      <td>False</td>\n",
       "      <td>NaN</td>\n",
       "      <td>NaN</td>\n",
       "    </tr>\n",
       "    <tr>\n",
       "      <th>239</th>\n",
       "      <td>836380477523124226</td>\n",
       "      <td>2017-02-28 01:00:19+00:00</td>\n",
       "      <td>&lt;a href=\"http://twitter.com/download/iphone\" r...</td>\n",
       "      <td>This is Ava. She just blasted off. Streamline ...</td>\n",
       "      <td>https://twitter.com/dog_rates/status/836380477...</td>\n",
       "      <td>12</td>\n",
       "      <td>10</td>\n",
       "      <td>Ava</td>\n",
       "      <td></td>\n",
       "      <td></td>\n",
       "      <td>...</td>\n",
       "      <td>0.082489</td>\n",
       "      <td>False</td>\n",
       "      <td>sliding_door</td>\n",
       "      <td>0.061017</td>\n",
       "      <td>False</td>\n",
       "      <td>grand_piano</td>\n",
       "      <td>0.055086</td>\n",
       "      <td>False</td>\n",
       "      <td>2864.0</td>\n",
       "      <td>14332.0</td>\n",
       "    </tr>\n",
       "    <tr>\n",
       "      <th>1165</th>\n",
       "      <td>700462010979500032</td>\n",
       "      <td>2016-02-18 23:28:52+00:00</td>\n",
       "      <td>&lt;a href=\"http://twitter.com/download/iphone\" r...</td>\n",
       "      <td>This is Murphy. He's a mini golden retriever. ...</td>\n",
       "      <td>https://twitter.com/dog_rates/status/700462010...</td>\n",
       "      <td>6</td>\n",
       "      <td>10</td>\n",
       "      <td>Murphy</td>\n",
       "      <td></td>\n",
       "      <td></td>\n",
       "      <td>...</td>\n",
       "      <td>0.678651</td>\n",
       "      <td>False</td>\n",
       "      <td>Pomeranian</td>\n",
       "      <td>0.110268</td>\n",
       "      <td>True</td>\n",
       "      <td>Angora</td>\n",
       "      <td>0.104139</td>\n",
       "      <td>False</td>\n",
       "      <td>NaN</td>\n",
       "      <td>NaN</td>\n",
       "    </tr>\n",
       "  </tbody>\n",
       "</table>\n",
       "<p>5 rows × 25 columns</p>\n",
       "</div>"
      ],
      "text/plain": [
       "                tweet_id                 timestamp  \\\n",
       "1018  712668654853337088 2016-03-23 15:53:42+00:00   \n",
       "1651  674670581682434048 2015-12-09 19:22:56+00:00   \n",
       "1168  700143752053182464 2016-02-18 02:24:13+00:00   \n",
       "239   836380477523124226 2017-02-28 01:00:19+00:00   \n",
       "1165  700462010979500032 2016-02-18 23:28:52+00:00   \n",
       "\n",
       "                                                 source  \\\n",
       "1018  <a href=\"http://twitter.com/download/iphone\" r...   \n",
       "1651  <a href=\"http://twitter.com/download/iphone\" r...   \n",
       "1168  <a href=\"http://twitter.com/download/iphone\" r...   \n",
       "239   <a href=\"http://twitter.com/download/iphone\" r...   \n",
       "1165  <a href=\"http://twitter.com/download/iphone\" r...   \n",
       "\n",
       "                                                   text  \\\n",
       "1018  Say hello to Sunny and Roxy. They pull things ...   \n",
       "1651  Meet Jeb &amp; Bush. Jeb is somehow stuck in t...   \n",
       "1168  When it's Janet from accounting's birthday but...   \n",
       "239   This is Ava. She just blasted off. Streamline ...   \n",
       "1165  This is Murphy. He's a mini golden retriever. ...   \n",
       "\n",
       "                                          expanded_urls  rating_numerator  \\\n",
       "1018  https://twitter.com/dog_rates/status/712668654...                10   \n",
       "1651  https://twitter.com/dog_rates/status/674670581...                 9   \n",
       "1168  https://twitter.com/dog_rates/status/700143752...                10   \n",
       "239   https://twitter.com/dog_rates/status/836380477...                12   \n",
       "1165  https://twitter.com/dog_rates/status/700462010...                 6   \n",
       "\n",
       "      rating_denominator    name doggo floofer  ...   p1_conf p1_dog  \\\n",
       "1018                  10   Sunny                ...  0.829058   True   \n",
       "1651                  10     Jeb                ...  0.180079   True   \n",
       "1168                  10    None                ...  0.532460   True   \n",
       "239                   10     Ava                ...  0.082489  False   \n",
       "1165                  10  Murphy                ...  0.678651  False   \n",
       "\n",
       "                    p2   p2_conf p2_dog              p3   p3_conf p3_dog  \\\n",
       "1018  golden_retriever  0.038664   True       Chihuahua  0.026221   True   \n",
       "1651        Eskimo_dog  0.178033   True  Siberian_husky  0.077966   True   \n",
       "1168  crossword_puzzle  0.103796  False          binder  0.100371  False   \n",
       "239       sliding_door  0.061017  False     grand_piano  0.055086  False   \n",
       "1165        Pomeranian  0.110268   True          Angora  0.104139  False   \n",
       "\n",
       "      retweet_count favorite_count  \n",
       "1018            NaN            NaN  \n",
       "1651            NaN            NaN  \n",
       "1168            NaN            NaN  \n",
       "239          2864.0        14332.0  \n",
       "1165            NaN            NaN  \n",
       "\n",
       "[5 rows x 25 columns]"
      ]
     },
     "execution_count": 54,
     "metadata": {},
     "output_type": "execute_result"
    }
   ],
   "source": [
    "df_twitter_test.sample(5)"
   ]
  },
  {
   "cell_type": "code",
   "execution_count": 55,
   "metadata": {},
   "outputs": [
    {
     "data": {
      "text/plain": [
       "tweet_id                                             803638050916102144\n",
       "timestamp                                     2016-11-29 16:33:36+00:00\n",
       "source                <a href=\"http://twitter.com/download/iphone\" r...\n",
       "text                  Pupper hath acquire enemy. 13/10 https://t.co/...\n",
       "expanded_urls         https://twitter.com/dog_rates/status/803638050...\n",
       "rating_numerator                                                     13\n",
       "rating_denominator                                                   10\n",
       "name                                                               None\n",
       "doggo                                                                  \n",
       "floofer                                                                \n",
       "pupper                                                           pupper\n",
       "puppo                                                                  \n",
       "jpg_url               https://pbs.twimg.com/ext_tw_video_thumb/80363...\n",
       "img_num                                                               1\n",
       "p1                                                   Labrador_retriever\n",
       "p1_conf                                                        0.372776\n",
       "p1_dog                                                             True\n",
       "p2                                                     golden_retriever\n",
       "p2_conf                                                        0.343666\n",
       "p2_dog                                                             True\n",
       "p3                                                       Great_Pyrenees\n",
       "p3_conf                                                       0.0672423\n",
       "p3_dog                                                             True\n",
       "retweet_count                                                      4055\n",
       "favorite_count                                                    10760\n",
       "Name: 434, dtype: object"
      ]
     },
     "execution_count": 55,
     "metadata": {},
     "output_type": "execute_result"
    }
   ],
   "source": [
    "df_twitter_test.iloc[434]"
   ]
  },
  {
   "cell_type": "code",
   "execution_count": 56,
   "metadata": {},
   "outputs": [],
   "source": [
    "df_twitter_test['dog_type'] = df_twitter_test['doggo'] + df_twitter_test['floofer'] + df_twitter_test['pupper'] + df_twitter_test['puppo']"
   ]
  },
  {
   "cell_type": "code",
   "execution_count": 57,
   "metadata": {},
   "outputs": [
    {
     "data": {
      "text/plain": [
       "         2014\n",
       "doggo      83\n",
       "Name: doggo, dtype: int64"
      ]
     },
     "execution_count": 57,
     "metadata": {},
     "output_type": "execute_result"
    }
   ],
   "source": [
    "df_twitter_test.doggo.value_counts()"
   ]
  },
  {
   "cell_type": "code",
   "execution_count": 58,
   "metadata": {},
   "outputs": [
    {
     "data": {
      "text/plain": [
       "           2087\n",
       "floofer      10\n",
       "Name: floofer, dtype: int64"
      ]
     },
     "execution_count": 58,
     "metadata": {},
     "output_type": "execute_result"
    }
   ],
   "source": [
    "df_twitter_test.floofer.value_counts()"
   ]
  },
  {
   "cell_type": "code",
   "execution_count": 59,
   "metadata": {},
   "outputs": [
    {
     "data": {
      "text/plain": [
       "          1867\n",
       "pupper     230\n",
       "Name: pupper, dtype: int64"
      ]
     },
     "execution_count": 59,
     "metadata": {},
     "output_type": "execute_result"
    }
   ],
   "source": [
    "df_twitter_test.pupper.value_counts()"
   ]
  },
  {
   "cell_type": "code",
   "execution_count": 60,
   "metadata": {},
   "outputs": [
    {
     "data": {
      "text/plain": [
       "         2073\n",
       "puppo      24\n",
       "Name: puppo, dtype: int64"
      ]
     },
     "execution_count": 60,
     "metadata": {},
     "output_type": "execute_result"
    }
   ],
   "source": [
    "df_twitter_test.puppo.value_counts()"
   ]
  },
  {
   "cell_type": "code",
   "execution_count": 61,
   "metadata": {},
   "outputs": [
    {
     "data": {
      "text/plain": [
       "                1761\n",
       "pupper           221\n",
       "doggo             72\n",
       "puppo             23\n",
       "doggopupper        9\n",
       "floofer            9\n",
       "doggofloofer       1\n",
       "doggopuppo         1\n",
       "Name: dog_type, dtype: int64"
      ]
     },
     "execution_count": 61,
     "metadata": {},
     "output_type": "execute_result"
    }
   ],
   "source": [
    "df_twitter_test.dog_type.value_counts()"
   ]
  },
  {
   "cell_type": "code",
   "execution_count": 62,
   "metadata": {},
   "outputs": [],
   "source": [
    "# Convert doggopupper, doggofloofer and doggopuppo to the proper names\n",
    "df_twitter_test.loc[df_twitter_test.dog_type == 'doggopupper', 'dog_type'] = 'doggo, pupper'\n",
    "df_twitter_test.loc[df_twitter_test.dog_type == 'doggofloofer', 'dog_type'] = 'doggo, floofer'\n",
    "df_twitter_test.loc[df_twitter_test.dog_type == 'doggopuppo', 'dog_type'] = 'doggo, puppo'"
   ]
  },
  {
   "cell_type": "code",
   "execution_count": 63,
   "metadata": {},
   "outputs": [],
   "source": [
    "df_twitter_test.drop(['doggo', 'floofer', 'pupper', 'puppo'], axis=1, inplace = True)"
   ]
  },
  {
   "cell_type": "markdown",
   "metadata": {},
   "source": [
    "#### Test"
   ]
  },
  {
   "cell_type": "code",
   "execution_count": 64,
   "metadata": {},
   "outputs": [
    {
     "data": {
      "text/html": [
       "<div>\n",
       "<style scoped>\n",
       "    .dataframe tbody tr th:only-of-type {\n",
       "        vertical-align: middle;\n",
       "    }\n",
       "\n",
       "    .dataframe tbody tr th {\n",
       "        vertical-align: top;\n",
       "    }\n",
       "\n",
       "    .dataframe thead th {\n",
       "        text-align: right;\n",
       "    }\n",
       "</style>\n",
       "<table border=\"1\" class=\"dataframe\">\n",
       "  <thead>\n",
       "    <tr style=\"text-align: right;\">\n",
       "      <th></th>\n",
       "      <th>tweet_id</th>\n",
       "      <th>timestamp</th>\n",
       "      <th>source</th>\n",
       "      <th>text</th>\n",
       "      <th>expanded_urls</th>\n",
       "      <th>rating_numerator</th>\n",
       "      <th>rating_denominator</th>\n",
       "      <th>name</th>\n",
       "      <th>jpg_url</th>\n",
       "      <th>img_num</th>\n",
       "      <th>...</th>\n",
       "      <th>p1_dog</th>\n",
       "      <th>p2</th>\n",
       "      <th>p2_conf</th>\n",
       "      <th>p2_dog</th>\n",
       "      <th>p3</th>\n",
       "      <th>p3_conf</th>\n",
       "      <th>p3_dog</th>\n",
       "      <th>retweet_count</th>\n",
       "      <th>favorite_count</th>\n",
       "      <th>dog_type</th>\n",
       "    </tr>\n",
       "  </thead>\n",
       "  <tbody>\n",
       "    <tr>\n",
       "      <th>472</th>\n",
       "      <td>795464331001561088</td>\n",
       "      <td>2016-11-07 03:14:10+00:00</td>\n",
       "      <td>&lt;a href=\"http://twitter.com/download/iphone\" r...</td>\n",
       "      <td>Elder doggo does a splash. Both 13/10 incredib...</td>\n",
       "      <td>https://twitter.com/dog_rates/status/795464331...</td>\n",
       "      <td>13</td>\n",
       "      <td>10</td>\n",
       "      <td>None</td>\n",
       "      <td>https://pbs.twimg.com/ext_tw_video_thumb/79546...</td>\n",
       "      <td>1.0</td>\n",
       "      <td>...</td>\n",
       "      <td>True</td>\n",
       "      <td>Chesapeake_Bay_retriever</td>\n",
       "      <td>0.157927</td>\n",
       "      <td>True</td>\n",
       "      <td>soft-coated_wheaten_terrier</td>\n",
       "      <td>0.124684</td>\n",
       "      <td>True</td>\n",
       "      <td>22975.0</td>\n",
       "      <td>48607.0</td>\n",
       "      <td>doggo</td>\n",
       "    </tr>\n",
       "    <tr>\n",
       "      <th>2041</th>\n",
       "      <td>667062181243039745</td>\n",
       "      <td>2015-11-18 19:29:52+00:00</td>\n",
       "      <td>&lt;a href=\"http://twitter.com/download/iphone\" r...</td>\n",
       "      <td>This is Keet. He is a Floridian Amukamara. Abs...</td>\n",
       "      <td>https://twitter.com/dog_rates/status/667062181...</td>\n",
       "      <td>10</td>\n",
       "      <td>10</td>\n",
       "      <td>Keet</td>\n",
       "      <td>https://pbs.twimg.com/media/CUHhgvHUAAA4aB0.jpg</td>\n",
       "      <td>1.0</td>\n",
       "      <td>...</td>\n",
       "      <td>True</td>\n",
       "      <td>vizsla</td>\n",
       "      <td>0.090998</td>\n",
       "      <td>True</td>\n",
       "      <td>kelpie</td>\n",
       "      <td>0.022956</td>\n",
       "      <td>True</td>\n",
       "      <td>NaN</td>\n",
       "      <td>NaN</td>\n",
       "      <td></td>\n",
       "    </tr>\n",
       "    <tr>\n",
       "      <th>1282</th>\n",
       "      <td>691321916024623104</td>\n",
       "      <td>2016-01-24 18:09:23+00:00</td>\n",
       "      <td>&lt;a href=\"http://twitter.com/download/iphone\" r...</td>\n",
       "      <td>This is Molly. She's a Peruvian Niddlewog. Lov...</td>\n",
       "      <td>https://twitter.com/dog_rates/status/691321916...</td>\n",
       "      <td>11</td>\n",
       "      <td>10</td>\n",
       "      <td>Molly</td>\n",
       "      <td>https://pbs.twimg.com/media/CZgRmk0UcAAxeuQ.jpg</td>\n",
       "      <td>1.0</td>\n",
       "      <td>...</td>\n",
       "      <td>True</td>\n",
       "      <td>German_shepherd</td>\n",
       "      <td>0.207897</td>\n",
       "      <td>True</td>\n",
       "      <td>kelpie</td>\n",
       "      <td>0.094353</td>\n",
       "      <td>True</td>\n",
       "      <td>NaN</td>\n",
       "      <td>NaN</td>\n",
       "      <td></td>\n",
       "    </tr>\n",
       "    <tr>\n",
       "      <th>15</th>\n",
       "      <td>889278841981685760</td>\n",
       "      <td>2017-07-24 00:19:32+00:00</td>\n",
       "      <td>&lt;a href=\"http://twitter.com/download/iphone\" r...</td>\n",
       "      <td>This is Oliver. You're witnessing one of his m...</td>\n",
       "      <td>https://twitter.com/dog_rates/status/889278841...</td>\n",
       "      <td>13</td>\n",
       "      <td>10</td>\n",
       "      <td>Oliver</td>\n",
       "      <td>https://pbs.twimg.com/ext_tw_video_thumb/88927...</td>\n",
       "      <td>1.0</td>\n",
       "      <td>...</td>\n",
       "      <td>True</td>\n",
       "      <td>borzoi</td>\n",
       "      <td>0.194742</td>\n",
       "      <td>True</td>\n",
       "      <td>Saluki</td>\n",
       "      <td>0.027351</td>\n",
       "      <td>True</td>\n",
       "      <td>4628.0</td>\n",
       "      <td>22810.0</td>\n",
       "      <td></td>\n",
       "    </tr>\n",
       "    <tr>\n",
       "      <th>1459</th>\n",
       "      <td>681231109724700672</td>\n",
       "      <td>2015-12-27 21:52:07+00:00</td>\n",
       "      <td>&lt;a href=\"http://twitter.com/download/iphone\" r...</td>\n",
       "      <td>I just love this pic. 11/10 this pupper is goi...</td>\n",
       "      <td>https://twitter.com/dog_rates/status/681231109...</td>\n",
       "      <td>11</td>\n",
       "      <td>10</td>\n",
       "      <td>None</td>\n",
       "      <td>https://pbs.twimg.com/media/CXQ4EwQWwAEVaUf.jpg</td>\n",
       "      <td>1.0</td>\n",
       "      <td>...</td>\n",
       "      <td>True</td>\n",
       "      <td>cocker_spaniel</td>\n",
       "      <td>0.345646</td>\n",
       "      <td>True</td>\n",
       "      <td>Airedale</td>\n",
       "      <td>0.147912</td>\n",
       "      <td>True</td>\n",
       "      <td>NaN</td>\n",
       "      <td>NaN</td>\n",
       "      <td>pupper</td>\n",
       "    </tr>\n",
       "  </tbody>\n",
       "</table>\n",
       "<p>5 rows × 22 columns</p>\n",
       "</div>"
      ],
      "text/plain": [
       "                tweet_id                 timestamp  \\\n",
       "472   795464331001561088 2016-11-07 03:14:10+00:00   \n",
       "2041  667062181243039745 2015-11-18 19:29:52+00:00   \n",
       "1282  691321916024623104 2016-01-24 18:09:23+00:00   \n",
       "15    889278841981685760 2017-07-24 00:19:32+00:00   \n",
       "1459  681231109724700672 2015-12-27 21:52:07+00:00   \n",
       "\n",
       "                                                 source  \\\n",
       "472   <a href=\"http://twitter.com/download/iphone\" r...   \n",
       "2041  <a href=\"http://twitter.com/download/iphone\" r...   \n",
       "1282  <a href=\"http://twitter.com/download/iphone\" r...   \n",
       "15    <a href=\"http://twitter.com/download/iphone\" r...   \n",
       "1459  <a href=\"http://twitter.com/download/iphone\" r...   \n",
       "\n",
       "                                                   text  \\\n",
       "472   Elder doggo does a splash. Both 13/10 incredib...   \n",
       "2041  This is Keet. He is a Floridian Amukamara. Abs...   \n",
       "1282  This is Molly. She's a Peruvian Niddlewog. Lov...   \n",
       "15    This is Oliver. You're witnessing one of his m...   \n",
       "1459  I just love this pic. 11/10 this pupper is goi...   \n",
       "\n",
       "                                          expanded_urls  rating_numerator  \\\n",
       "472   https://twitter.com/dog_rates/status/795464331...                13   \n",
       "2041  https://twitter.com/dog_rates/status/667062181...                10   \n",
       "1282  https://twitter.com/dog_rates/status/691321916...                11   \n",
       "15    https://twitter.com/dog_rates/status/889278841...                13   \n",
       "1459  https://twitter.com/dog_rates/status/681231109...                11   \n",
       "\n",
       "      rating_denominator    name  \\\n",
       "472                   10    None   \n",
       "2041                  10    Keet   \n",
       "1282                  10   Molly   \n",
       "15                    10  Oliver   \n",
       "1459                  10    None   \n",
       "\n",
       "                                                jpg_url  img_num  ... p1_dog  \\\n",
       "472   https://pbs.twimg.com/ext_tw_video_thumb/79546...      1.0  ...   True   \n",
       "2041    https://pbs.twimg.com/media/CUHhgvHUAAA4aB0.jpg      1.0  ...   True   \n",
       "1282    https://pbs.twimg.com/media/CZgRmk0UcAAxeuQ.jpg      1.0  ...   True   \n",
       "15    https://pbs.twimg.com/ext_tw_video_thumb/88927...      1.0  ...   True   \n",
       "1459    https://pbs.twimg.com/media/CXQ4EwQWwAEVaUf.jpg      1.0  ...   True   \n",
       "\n",
       "                            p2   p2_conf p2_dog                           p3  \\\n",
       "472   Chesapeake_Bay_retriever  0.157927   True  soft-coated_wheaten_terrier   \n",
       "2041                    vizsla  0.090998   True                       kelpie   \n",
       "1282           German_shepherd  0.207897   True                       kelpie   \n",
       "15                      borzoi  0.194742   True                       Saluki   \n",
       "1459            cocker_spaniel  0.345646   True                     Airedale   \n",
       "\n",
       "       p3_conf p3_dog  retweet_count favorite_count  dog_type  \n",
       "472   0.124684   True        22975.0        48607.0     doggo  \n",
       "2041  0.022956   True            NaN            NaN            \n",
       "1282  0.094353   True            NaN            NaN            \n",
       "15    0.027351   True         4628.0        22810.0            \n",
       "1459  0.147912   True            NaN            NaN    pupper  \n",
       "\n",
       "[5 rows x 22 columns]"
      ]
     },
     "execution_count": 64,
     "metadata": {},
     "output_type": "execute_result"
    }
   ],
   "source": [
    "df_twitter_test.sample(5)"
   ]
  },
  {
   "cell_type": "markdown",
   "metadata": {},
   "source": [
    "## Final Master Twitter_Archive_Master.csv File ##\n",
    "\n",
    "The final cleaned file was converetd into a csv file called 'twitter_archive_master.csv'."
   ]
  },
  {
   "cell_type": "code",
   "execution_count": 65,
   "metadata": {},
   "outputs": [],
   "source": [
    "#Convert the dataframe into a final csv file called \"twitter_archive_master.csv\"\n",
    "df_twitter_test.to_csv('twitter_archive_master.csv', index = False)  "
   ]
  },
  {
   "cell_type": "code",
   "execution_count": 66,
   "metadata": {},
   "outputs": [
    {
     "name": "stdout",
     "output_type": "stream",
     "text": [
      "<class 'pandas.core.frame.DataFrame'>\n",
      "Int64Index: 2097 entries, 0 to 2096\n",
      "Data columns (total 22 columns):\n",
      " #   Column              Non-Null Count  Dtype              \n",
      "---  ------              --------------  -----              \n",
      " 0   tweet_id            2097 non-null   object             \n",
      " 1   timestamp           2097 non-null   datetime64[ns, UTC]\n",
      " 2   source              2097 non-null   object             \n",
      " 3   text                2097 non-null   object             \n",
      " 4   expanded_urls       2094 non-null   object             \n",
      " 5   rating_numerator    2097 non-null   int64              \n",
      " 6   rating_denominator  2097 non-null   int64              \n",
      " 7   name                1993 non-null   object             \n",
      " 8   jpg_url             1971 non-null   object             \n",
      " 9   img_num             1971 non-null   float64            \n",
      " 10  p1                  1971 non-null   object             \n",
      " 11  p1_conf             1971 non-null   float64            \n",
      " 12  p1_dog              1971 non-null   object             \n",
      " 13  p2                  1971 non-null   object             \n",
      " 14  p2_conf             1971 non-null   float64            \n",
      " 15  p2_dog              1971 non-null   object             \n",
      " 16  p3                  1971 non-null   object             \n",
      " 17  p3_conf             1971 non-null   float64            \n",
      " 18  p3_dog              1971 non-null   object             \n",
      " 19  retweet_count       693 non-null    float64            \n",
      " 20  favorite_count      693 non-null    float64            \n",
      " 21  dog_type            2097 non-null   object             \n",
      "dtypes: datetime64[ns, UTC](1), float64(6), int64(2), object(13)\n",
      "memory usage: 376.8+ KB\n"
     ]
    }
   ],
   "source": [
    "df_twitter_test.info()"
   ]
  },
  {
   "cell_type": "markdown",
   "metadata": {},
   "source": [
    "# <u> 4.0 Analysis </u>\n",
    "<a id = \"analysis\"> </a>"
   ]
  },
  {
   "cell_type": "markdown",
   "metadata": {},
   "source": [
    "The following code is performing analysis on the WeRateDogs database and some of the data presented:\n",
    "\n",
    "<ul> 1) Dog Types </ul> \n",
    "<ul> 2) Common Dog Breeds </ul>\n",
    "<ul> 3) Common Dog Names </ul>\n",
    "<ul> 4) Analysis of the Numerator </ul>\n",
    "<ul> 5) Retweet Count and Favorite Count </ul>\n",
    "\n",
    "The explanation of each analysis and some of visualizations can be found in the separate \"Act Report\" PDF file.\n"
   ]
  },
  {
   "cell_type": "code",
   "execution_count": 67,
   "metadata": {},
   "outputs": [],
   "source": [
    "import matplotlib.pyplot as plt"
   ]
  },
  {
   "cell_type": "code",
   "execution_count": 68,
   "metadata": {},
   "outputs": [
    {
     "name": "stdout",
     "output_type": "stream",
     "text": [
      "<class 'pandas.core.frame.DataFrame'>\n",
      "Int64Index: 2097 entries, 0 to 2096\n",
      "Data columns (total 22 columns):\n",
      " #   Column              Non-Null Count  Dtype              \n",
      "---  ------              --------------  -----              \n",
      " 0   tweet_id            2097 non-null   object             \n",
      " 1   timestamp           2097 non-null   datetime64[ns, UTC]\n",
      " 2   source              2097 non-null   object             \n",
      " 3   text                2097 non-null   object             \n",
      " 4   expanded_urls       2094 non-null   object             \n",
      " 5   rating_numerator    2097 non-null   int64              \n",
      " 6   rating_denominator  2097 non-null   int64              \n",
      " 7   name                1993 non-null   object             \n",
      " 8   jpg_url             1971 non-null   object             \n",
      " 9   img_num             1971 non-null   float64            \n",
      " 10  p1                  1971 non-null   object             \n",
      " 11  p1_conf             1971 non-null   float64            \n",
      " 12  p1_dog              1971 non-null   object             \n",
      " 13  p2                  1971 non-null   object             \n",
      " 14  p2_conf             1971 non-null   float64            \n",
      " 15  p2_dog              1971 non-null   object             \n",
      " 16  p3                  1971 non-null   object             \n",
      " 17  p3_conf             1971 non-null   float64            \n",
      " 18  p3_dog              1971 non-null   object             \n",
      " 19  retweet_count       693 non-null    float64            \n",
      " 20  favorite_count      693 non-null    float64            \n",
      " 21  dog_type            2097 non-null   object             \n",
      "dtypes: datetime64[ns, UTC](1), float64(6), int64(2), object(13)\n",
      "memory usage: 376.8+ KB\n"
     ]
    }
   ],
   "source": [
    "df_twitter_test.info()"
   ]
  },
  {
   "cell_type": "code",
   "execution_count": 69,
   "metadata": {},
   "outputs": [
    {
     "data": {
      "text/html": [
       "<div>\n",
       "<style scoped>\n",
       "    .dataframe tbody tr th:only-of-type {\n",
       "        vertical-align: middle;\n",
       "    }\n",
       "\n",
       "    .dataframe tbody tr th {\n",
       "        vertical-align: top;\n",
       "    }\n",
       "\n",
       "    .dataframe thead th {\n",
       "        text-align: right;\n",
       "    }\n",
       "</style>\n",
       "<table border=\"1\" class=\"dataframe\">\n",
       "  <thead>\n",
       "    <tr style=\"text-align: right;\">\n",
       "      <th></th>\n",
       "      <th>rating_numerator</th>\n",
       "      <th>rating_denominator</th>\n",
       "      <th>img_num</th>\n",
       "      <th>p1_conf</th>\n",
       "      <th>p2_conf</th>\n",
       "      <th>p3_conf</th>\n",
       "      <th>retweet_count</th>\n",
       "      <th>favorite_count</th>\n",
       "    </tr>\n",
       "  </thead>\n",
       "  <tbody>\n",
       "    <tr>\n",
       "      <th>count</th>\n",
       "      <td>2097.000000</td>\n",
       "      <td>2097.000000</td>\n",
       "      <td>1971.000000</td>\n",
       "      <td>1971.000000</td>\n",
       "      <td>1.971000e+03</td>\n",
       "      <td>1.971000e+03</td>\n",
       "      <td>693.000000</td>\n",
       "      <td>693.000000</td>\n",
       "    </tr>\n",
       "    <tr>\n",
       "      <th>mean</th>\n",
       "      <td>12.193133</td>\n",
       "      <td>10.452551</td>\n",
       "      <td>1.201928</td>\n",
       "      <td>0.594558</td>\n",
       "      <td>1.345850e-01</td>\n",
       "      <td>6.016556e-02</td>\n",
       "      <td>4404.897547</td>\n",
       "      <td>16802.847042</td>\n",
       "    </tr>\n",
       "    <tr>\n",
       "      <th>std</th>\n",
       "      <td>40.364316</td>\n",
       "      <td>6.642505</td>\n",
       "      <td>0.559020</td>\n",
       "      <td>0.272126</td>\n",
       "      <td>1.010527e-01</td>\n",
       "      <td>5.094156e-02</td>\n",
       "      <td>4964.051876</td>\n",
       "      <td>13913.104826</td>\n",
       "    </tr>\n",
       "    <tr>\n",
       "      <th>min</th>\n",
       "      <td>0.000000</td>\n",
       "      <td>7.000000</td>\n",
       "      <td>1.000000</td>\n",
       "      <td>0.044333</td>\n",
       "      <td>1.011300e-08</td>\n",
       "      <td>1.740170e-10</td>\n",
       "      <td>146.000000</td>\n",
       "      <td>842.000000</td>\n",
       "    </tr>\n",
       "    <tr>\n",
       "      <th>25%</th>\n",
       "      <td>10.000000</td>\n",
       "      <td>10.000000</td>\n",
       "      <td>1.000000</td>\n",
       "      <td>0.363091</td>\n",
       "      <td>5.339800e-02</td>\n",
       "      <td>1.608055e-02</td>\n",
       "      <td>1950.000000</td>\n",
       "      <td>8333.000000</td>\n",
       "    </tr>\n",
       "    <tr>\n",
       "      <th>50%</th>\n",
       "      <td>11.000000</td>\n",
       "      <td>10.000000</td>\n",
       "      <td>1.000000</td>\n",
       "      <td>0.587764</td>\n",
       "      <td>1.173970e-01</td>\n",
       "      <td>4.944380e-02</td>\n",
       "      <td>3000.000000</td>\n",
       "      <td>12871.000000</td>\n",
       "    </tr>\n",
       "    <tr>\n",
       "      <th>75%</th>\n",
       "      <td>12.000000</td>\n",
       "      <td>10.000000</td>\n",
       "      <td>1.000000</td>\n",
       "      <td>0.847827</td>\n",
       "      <td>1.955655e-01</td>\n",
       "      <td>9.153815e-02</td>\n",
       "      <td>4781.000000</td>\n",
       "      <td>20808.000000</td>\n",
       "    </tr>\n",
       "    <tr>\n",
       "      <th>max</th>\n",
       "      <td>1776.000000</td>\n",
       "      <td>170.000000</td>\n",
       "      <td>4.000000</td>\n",
       "      <td>1.000000</td>\n",
       "      <td>4.880140e-01</td>\n",
       "      <td>2.734190e-01</td>\n",
       "      <td>53919.000000</td>\n",
       "      <td>128322.000000</td>\n",
       "    </tr>\n",
       "  </tbody>\n",
       "</table>\n",
       "</div>"
      ],
      "text/plain": [
       "       rating_numerator  rating_denominator      img_num      p1_conf  \\\n",
       "count       2097.000000         2097.000000  1971.000000  1971.000000   \n",
       "mean          12.193133           10.452551     1.201928     0.594558   \n",
       "std           40.364316            6.642505     0.559020     0.272126   \n",
       "min            0.000000            7.000000     1.000000     0.044333   \n",
       "25%           10.000000           10.000000     1.000000     0.363091   \n",
       "50%           11.000000           10.000000     1.000000     0.587764   \n",
       "75%           12.000000           10.000000     1.000000     0.847827   \n",
       "max         1776.000000          170.000000     4.000000     1.000000   \n",
       "\n",
       "            p2_conf       p3_conf  retweet_count  favorite_count  \n",
       "count  1.971000e+03  1.971000e+03     693.000000      693.000000  \n",
       "mean   1.345850e-01  6.016556e-02    4404.897547    16802.847042  \n",
       "std    1.010527e-01  5.094156e-02    4964.051876    13913.104826  \n",
       "min    1.011300e-08  1.740170e-10     146.000000      842.000000  \n",
       "25%    5.339800e-02  1.608055e-02    1950.000000     8333.000000  \n",
       "50%    1.173970e-01  4.944380e-02    3000.000000    12871.000000  \n",
       "75%    1.955655e-01  9.153815e-02    4781.000000    20808.000000  \n",
       "max    4.880140e-01  2.734190e-01   53919.000000   128322.000000  "
      ]
     },
     "execution_count": 69,
     "metadata": {},
     "output_type": "execute_result"
    }
   ],
   "source": [
    "df_twitter_test.describe()"
   ]
  },
  {
   "cell_type": "markdown",
   "metadata": {},
   "source": [
    "### 1) Dog Types\n",
    "\n",
    "Analysis of the different dog type based on the \"Dogtionary\" types."
   ]
  },
  {
   "cell_type": "code",
   "execution_count": 70,
   "metadata": {},
   "outputs": [
    {
     "data": {
      "text/plain": [
       "                  1761\n",
       "pupper             221\n",
       "doggo               72\n",
       "puppo               23\n",
       "doggo, pupper        9\n",
       "floofer              9\n",
       "doggo, floofer       1\n",
       "doggo, puppo         1\n",
       "Name: dog_type, dtype: int64"
      ]
     },
     "execution_count": 70,
     "metadata": {},
     "output_type": "execute_result"
    }
   ],
   "source": [
    "df_twitter_test.dog_type.value_counts()"
   ]
  },
  {
   "cell_type": "code",
   "execution_count": 71,
   "metadata": {},
   "outputs": [
    {
     "data": {
      "text/plain": [
       "Text(0.5, 0, 'Number of Dog Types')"
      ]
     },
     "execution_count": 71,
     "metadata": {},
     "output_type": "execute_result"
    },
    {
     "data": {
      "image/png": "[encoded data removed]",
      "text/plain": [
       "<Figure size 360x360 with 1 Axes>"
      ]
     },
     "metadata": {
      "needs_background": "light"
     },
     "output_type": "display_data"
    }
   ],
   "source": [
    "df_twitter_test.dog_type.value_counts().sort_values()[:-1].plot(kind = 'barh',figsize = (5,5));\n",
    "plt.title('Dog Type')\n",
    "plt.xlabel('Number of Dog Types')"
   ]
  },
  {
   "cell_type": "markdown",
   "metadata": {},
   "source": [
    "### 2) Common Dog Breeds\n",
    "\n",
    "Using the value counts from the p1 test, we can identify common dog breeds that were identified from the neural network. For simplicity only true matches from the P1 column were used to identify common dog breeds. A bar graph was used to plot the various types of dogs and to see the most common ones at the top."
   ]
  },
  {
   "cell_type": "code",
   "execution_count": 72,
   "metadata": {},
   "outputs": [
    {
     "data": {
      "text/plain": [
       "golden_retriever      137\n",
       "Labrador_retriever     94\n",
       "Pembroke               88\n",
       "Chihuahua              78\n",
       "pug                    54\n",
       "                     ... \n",
       "crane                   1\n",
       "pedestal                1\n",
       "rotisserie              1\n",
       "earthstar               1\n",
       "cash_machine            1\n",
       "Name: p1, Length: 373, dtype: int64"
      ]
     },
     "execution_count": 72,
     "metadata": {},
     "output_type": "execute_result"
    }
   ],
   "source": [
    "df_twitter_test.p1.value_counts()"
   ]
  },
  {
   "cell_type": "code",
   "execution_count": 73,
   "metadata": {},
   "outputs": [
    {
     "data": {
      "text/plain": [
       "golden_retriever      137\n",
       "Labrador_retriever     94\n",
       "Pembroke               88\n",
       "Chihuahua              78\n",
       "pug                    54\n",
       "                     ... \n",
       "clumber                 1\n",
       "groenendael             1\n",
       "standard_schnauzer      1\n",
       "EntleBucher             1\n",
       "silky_terrier           1\n",
       "Name: p1, Length: 111, dtype: int64"
      ]
     },
     "execution_count": 73,
     "metadata": {},
     "output_type": "execute_result"
    }
   ],
   "source": [
    "#A query was used to only grab the true dog types.\n",
    "p1_filter = df_twitter_test.query('p1_dog == True')\n",
    "p1_filter.p1.value_counts()"
   ]
  },
  {
   "cell_type": "code",
   "execution_count": 74,
   "metadata": {
    "scrolled": true
   },
   "outputs": [
    {
     "data": {
      "text/plain": [
       "Text(0, 0.5, 'Number of occurances')"
      ]
     },
     "execution_count": 74,
     "metadata": {},
     "output_type": "execute_result"
    },
    {
     "data": {
      "image/png": "[encoded data removed]",
      "text/plain": [
       "<Figure size 720x720 with 1 Axes>"
      ]
     },
     "metadata": {
      "needs_background": "light"
     },
     "output_type": "display_data"
    }
   ],
   "source": [
    "p1_filter.p1.value_counts().sort_values(ascending = False)[:10].plot(kind = 'barh',figsize = (10,10));\n",
    "plt.title('Top 10 Predicted Dog Breeds')\n",
    "plt.xlabel('Dog Breed')\n",
    "plt.ylabel('Number of occurances')"
   ]
  },
  {
   "cell_type": "markdown",
   "metadata": {},
   "source": [
    "### 3) Common Dog Names\n",
    "\n",
    "Check the common dog names using value_counts."
   ]
  },
  {
   "cell_type": "code",
   "execution_count": 75,
   "metadata": {},
   "outputs": [
    {
     "data": {
      "text/plain": [
       "None         603\n",
       "Lucy          11\n",
       "Charlie       11\n",
       "Oliver        10\n",
       "Cooper        10\n",
       "            ... \n",
       "Snickers       1\n",
       "Schnitzel      1\n",
       "Clybe          1\n",
       "Fabio          1\n",
       "Mo             1\n",
       "Name: name, Length: 930, dtype: int64"
      ]
     },
     "execution_count": 75,
     "metadata": {},
     "output_type": "execute_result"
    }
   ],
   "source": [
    "df_twitter_test.name.value_counts()"
   ]
  },
  {
   "cell_type": "code",
   "execution_count": 76,
   "metadata": {},
   "outputs": [
    {
     "data": {
      "image/png": "[encoded data removed]",
      "text/plain": [
       "<Figure size 720x720 with 1 Axes>"
      ]
     },
     "metadata": {
      "needs_background": "light"
     },
     "output_type": "display_data"
    }
   ],
   "source": [
    "#This excludes None names\n",
    "df_twitter_test.name.value_counts().sort_values(ascending = False)[1:11].plot(kind = 'barh',figsize = (10,10));\n",
    "plt.title('Top 10 Dog Names from Database');\n",
    "plt.xlabel('Dog Name');\n",
    "plt.ylabel('Number of Occurances');"
   ]
  },
  {
   "cell_type": "markdown",
   "metadata": {},
   "source": [
    "### 4) Analysis of the Numerator\n",
    "\n",
    "Some analysis was done to understand the range and frequency of the un-orthodox numerator system used on the WeRateDog's twitter page."
   ]
  },
  {
   "cell_type": "code",
   "execution_count": 77,
   "metadata": {},
   "outputs": [
    {
     "data": {
      "text/html": [
       "<div>\n",
       "<style scoped>\n",
       "    .dataframe tbody tr th:only-of-type {\n",
       "        vertical-align: middle;\n",
       "    }\n",
       "\n",
       "    .dataframe tbody tr th {\n",
       "        vertical-align: top;\n",
       "    }\n",
       "\n",
       "    .dataframe thead th {\n",
       "        text-align: right;\n",
       "    }\n",
       "</style>\n",
       "<table border=\"1\" class=\"dataframe\">\n",
       "  <thead>\n",
       "    <tr style=\"text-align: right;\">\n",
       "      <th></th>\n",
       "      <th>rating_numerator</th>\n",
       "      <th>rating_denominator</th>\n",
       "      <th>img_num</th>\n",
       "      <th>p1_conf</th>\n",
       "      <th>p2_conf</th>\n",
       "      <th>p3_conf</th>\n",
       "      <th>retweet_count</th>\n",
       "      <th>favorite_count</th>\n",
       "    </tr>\n",
       "  </thead>\n",
       "  <tbody>\n",
       "    <tr>\n",
       "      <th>count</th>\n",
       "      <td>2097.000000</td>\n",
       "      <td>2097.000000</td>\n",
       "      <td>1971.000000</td>\n",
       "      <td>1971.000000</td>\n",
       "      <td>1.971000e+03</td>\n",
       "      <td>1.971000e+03</td>\n",
       "      <td>693.000000</td>\n",
       "      <td>693.000000</td>\n",
       "    </tr>\n",
       "    <tr>\n",
       "      <th>mean</th>\n",
       "      <td>12.193133</td>\n",
       "      <td>10.452551</td>\n",
       "      <td>1.201928</td>\n",
       "      <td>0.594558</td>\n",
       "      <td>1.345850e-01</td>\n",
       "      <td>6.016556e-02</td>\n",
       "      <td>4404.897547</td>\n",
       "      <td>16802.847042</td>\n",
       "    </tr>\n",
       "    <tr>\n",
       "      <th>std</th>\n",
       "      <td>40.364316</td>\n",
       "      <td>6.642505</td>\n",
       "      <td>0.559020</td>\n",
       "      <td>0.272126</td>\n",
       "      <td>1.010527e-01</td>\n",
       "      <td>5.094156e-02</td>\n",
       "      <td>4964.051876</td>\n",
       "      <td>13913.104826</td>\n",
       "    </tr>\n",
       "    <tr>\n",
       "      <th>min</th>\n",
       "      <td>0.000000</td>\n",
       "      <td>7.000000</td>\n",
       "      <td>1.000000</td>\n",
       "      <td>0.044333</td>\n",
       "      <td>1.011300e-08</td>\n",
       "      <td>1.740170e-10</td>\n",
       "      <td>146.000000</td>\n",
       "      <td>842.000000</td>\n",
       "    </tr>\n",
       "    <tr>\n",
       "      <th>25%</th>\n",
       "      <td>10.000000</td>\n",
       "      <td>10.000000</td>\n",
       "      <td>1.000000</td>\n",
       "      <td>0.363091</td>\n",
       "      <td>5.339800e-02</td>\n",
       "      <td>1.608055e-02</td>\n",
       "      <td>1950.000000</td>\n",
       "      <td>8333.000000</td>\n",
       "    </tr>\n",
       "    <tr>\n",
       "      <th>50%</th>\n",
       "      <td>11.000000</td>\n",
       "      <td>10.000000</td>\n",
       "      <td>1.000000</td>\n",
       "      <td>0.587764</td>\n",
       "      <td>1.173970e-01</td>\n",
       "      <td>4.944380e-02</td>\n",
       "      <td>3000.000000</td>\n",
       "      <td>12871.000000</td>\n",
       "    </tr>\n",
       "    <tr>\n",
       "      <th>75%</th>\n",
       "      <td>12.000000</td>\n",
       "      <td>10.000000</td>\n",
       "      <td>1.000000</td>\n",
       "      <td>0.847827</td>\n",
       "      <td>1.955655e-01</td>\n",
       "      <td>9.153815e-02</td>\n",
       "      <td>4781.000000</td>\n",
       "      <td>20808.000000</td>\n",
       "    </tr>\n",
       "    <tr>\n",
       "      <th>max</th>\n",
       "      <td>1776.000000</td>\n",
       "      <td>170.000000</td>\n",
       "      <td>4.000000</td>\n",
       "      <td>1.000000</td>\n",
       "      <td>4.880140e-01</td>\n",
       "      <td>2.734190e-01</td>\n",
       "      <td>53919.000000</td>\n",
       "      <td>128322.000000</td>\n",
       "    </tr>\n",
       "  </tbody>\n",
       "</table>\n",
       "</div>"
      ],
      "text/plain": [
       "       rating_numerator  rating_denominator      img_num      p1_conf  \\\n",
       "count       2097.000000         2097.000000  1971.000000  1971.000000   \n",
       "mean          12.193133           10.452551     1.201928     0.594558   \n",
       "std           40.364316            6.642505     0.559020     0.272126   \n",
       "min            0.000000            7.000000     1.000000     0.044333   \n",
       "25%           10.000000           10.000000     1.000000     0.363091   \n",
       "50%           11.000000           10.000000     1.000000     0.587764   \n",
       "75%           12.000000           10.000000     1.000000     0.847827   \n",
       "max         1776.000000          170.000000     4.000000     1.000000   \n",
       "\n",
       "            p2_conf       p3_conf  retweet_count  favorite_count  \n",
       "count  1.971000e+03  1.971000e+03     693.000000      693.000000  \n",
       "mean   1.345850e-01  6.016556e-02    4404.897547    16802.847042  \n",
       "std    1.010527e-01  5.094156e-02    4964.051876    13913.104826  \n",
       "min    1.011300e-08  1.740170e-10     146.000000      842.000000  \n",
       "25%    5.339800e-02  1.608055e-02    1950.000000     8333.000000  \n",
       "50%    1.173970e-01  4.944380e-02    3000.000000    12871.000000  \n",
       "75%    1.955655e-01  9.153815e-02    4781.000000    20808.000000  \n",
       "max    4.880140e-01  2.734190e-01   53919.000000   128322.000000  "
      ]
     },
     "execution_count": 77,
     "metadata": {},
     "output_type": "execute_result"
    }
   ],
   "source": [
    "df_twitter_test.describe()"
   ]
  },
  {
   "cell_type": "code",
   "execution_count": 78,
   "metadata": {},
   "outputs": [
    {
     "data": {
      "text/plain": [
       "Text(0, 0.5, 'Frequency of Numerator')"
      ]
     },
     "execution_count": 78,
     "metadata": {},
     "output_type": "execute_result"
    },
    {
     "data": {
      "image/png": "[encoded data removed]",
      "text/plain": [
       "<Figure size 432x288 with 1 Axes>"
      ]
     },
     "metadata": {
      "needs_background": "light"
     },
     "output_type": "display_data"
    }
   ],
   "source": [
    "data = df_twitter_test['rating_numerator']\n",
    "binwidth = 1\n",
    "plt.hist(data, bins = range(min(data), 20 + binwidth, binwidth));\n",
    "plt.title('Histogram of Rating Numerator (Denominator of 10)')\n",
    "plt.xlabel('Numerator Value')\n",
    "plt.ylabel('Frequency of Numerator')"
   ]
  },
  {
   "cell_type": "code",
   "execution_count": 79,
   "metadata": {},
   "outputs": [
    {
     "data": {
      "text/plain": [
       "12      486\n",
       "10      436\n",
       "11      413\n",
       "13      287\n",
       "9       154\n",
       "8        98\n",
       "7        52\n",
       "14       38\n",
       "5        34\n",
       "6        32\n",
       "3        19\n",
       "4        16\n",
       "2         9\n",
       "1         4\n",
       "26        1\n",
       "44        1\n",
       "165       1\n",
       "24        1\n",
       "60        1\n",
       "50        1\n",
       "144       1\n",
       "80        1\n",
       "84        1\n",
       "88        1\n",
       "121       1\n",
       "204       1\n",
       "420       1\n",
       "1776      1\n",
       "27        1\n",
       "45        1\n",
       "75        1\n",
       "99        1\n",
       "0         1\n",
       "Name: rating_numerator, dtype: int64"
      ]
     },
     "execution_count": 79,
     "metadata": {},
     "output_type": "execute_result"
    }
   ],
   "source": [
    "df_twitter_test.rating_numerator.value_counts()"
   ]
  },
  {
   "cell_type": "markdown",
   "metadata": {},
   "source": [
    "### 5) Retweet Count and Favorite Count\n",
    "\n",
    "Histograms and scatter plots were used to understand the correlation between retweet_count and favorite_count on WeRateDog's postings. df.describe() is used to get some statistical information from these numerical variables."
   ]
  },
  {
   "cell_type": "code",
   "execution_count": 80,
   "metadata": {},
   "outputs": [
    {
     "data": {
      "text/html": [
       "<div>\n",
       "<style scoped>\n",
       "    .dataframe tbody tr th:only-of-type {\n",
       "        vertical-align: middle;\n",
       "    }\n",
       "\n",
       "    .dataframe tbody tr th {\n",
       "        vertical-align: top;\n",
       "    }\n",
       "\n",
       "    .dataframe thead th {\n",
       "        text-align: right;\n",
       "    }\n",
       "</style>\n",
       "<table border=\"1\" class=\"dataframe\">\n",
       "  <thead>\n",
       "    <tr style=\"text-align: right;\">\n",
       "      <th></th>\n",
       "      <th>rating_numerator</th>\n",
       "      <th>rating_denominator</th>\n",
       "      <th>img_num</th>\n",
       "      <th>p1_conf</th>\n",
       "      <th>p2_conf</th>\n",
       "      <th>p3_conf</th>\n",
       "      <th>retweet_count</th>\n",
       "      <th>favorite_count</th>\n",
       "    </tr>\n",
       "  </thead>\n",
       "  <tbody>\n",
       "    <tr>\n",
       "      <th>count</th>\n",
       "      <td>2097.000000</td>\n",
       "      <td>2097.000000</td>\n",
       "      <td>1971.000000</td>\n",
       "      <td>1971.000000</td>\n",
       "      <td>1.971000e+03</td>\n",
       "      <td>1.971000e+03</td>\n",
       "      <td>693.000000</td>\n",
       "      <td>693.000000</td>\n",
       "    </tr>\n",
       "    <tr>\n",
       "      <th>mean</th>\n",
       "      <td>12.193133</td>\n",
       "      <td>10.452551</td>\n",
       "      <td>1.201928</td>\n",
       "      <td>0.594558</td>\n",
       "      <td>1.345850e-01</td>\n",
       "      <td>6.016556e-02</td>\n",
       "      <td>4404.897547</td>\n",
       "      <td>16802.847042</td>\n",
       "    </tr>\n",
       "    <tr>\n",
       "      <th>std</th>\n",
       "      <td>40.364316</td>\n",
       "      <td>6.642505</td>\n",
       "      <td>0.559020</td>\n",
       "      <td>0.272126</td>\n",
       "      <td>1.010527e-01</td>\n",
       "      <td>5.094156e-02</td>\n",
       "      <td>4964.051876</td>\n",
       "      <td>13913.104826</td>\n",
       "    </tr>\n",
       "    <tr>\n",
       "      <th>min</th>\n",
       "      <td>0.000000</td>\n",
       "      <td>7.000000</td>\n",
       "      <td>1.000000</td>\n",
       "      <td>0.044333</td>\n",
       "      <td>1.011300e-08</td>\n",
       "      <td>1.740170e-10</td>\n",
       "      <td>146.000000</td>\n",
       "      <td>842.000000</td>\n",
       "    </tr>\n",
       "    <tr>\n",
       "      <th>25%</th>\n",
       "      <td>10.000000</td>\n",
       "      <td>10.000000</td>\n",
       "      <td>1.000000</td>\n",
       "      <td>0.363091</td>\n",
       "      <td>5.339800e-02</td>\n",
       "      <td>1.608055e-02</td>\n",
       "      <td>1950.000000</td>\n",
       "      <td>8333.000000</td>\n",
       "    </tr>\n",
       "    <tr>\n",
       "      <th>50%</th>\n",
       "      <td>11.000000</td>\n",
       "      <td>10.000000</td>\n",
       "      <td>1.000000</td>\n",
       "      <td>0.587764</td>\n",
       "      <td>1.173970e-01</td>\n",
       "      <td>4.944380e-02</td>\n",
       "      <td>3000.000000</td>\n",
       "      <td>12871.000000</td>\n",
       "    </tr>\n",
       "    <tr>\n",
       "      <th>75%</th>\n",
       "      <td>12.000000</td>\n",
       "      <td>10.000000</td>\n",
       "      <td>1.000000</td>\n",
       "      <td>0.847827</td>\n",
       "      <td>1.955655e-01</td>\n",
       "      <td>9.153815e-02</td>\n",
       "      <td>4781.000000</td>\n",
       "      <td>20808.000000</td>\n",
       "    </tr>\n",
       "    <tr>\n",
       "      <th>max</th>\n",
       "      <td>1776.000000</td>\n",
       "      <td>170.000000</td>\n",
       "      <td>4.000000</td>\n",
       "      <td>1.000000</td>\n",
       "      <td>4.880140e-01</td>\n",
       "      <td>2.734190e-01</td>\n",
       "      <td>53919.000000</td>\n",
       "      <td>128322.000000</td>\n",
       "    </tr>\n",
       "  </tbody>\n",
       "</table>\n",
       "</div>"
      ],
      "text/plain": [
       "       rating_numerator  rating_denominator      img_num      p1_conf  \\\n",
       "count       2097.000000         2097.000000  1971.000000  1971.000000   \n",
       "mean          12.193133           10.452551     1.201928     0.594558   \n",
       "std           40.364316            6.642505     0.559020     0.272126   \n",
       "min            0.000000            7.000000     1.000000     0.044333   \n",
       "25%           10.000000           10.000000     1.000000     0.363091   \n",
       "50%           11.000000           10.000000     1.000000     0.587764   \n",
       "75%           12.000000           10.000000     1.000000     0.847827   \n",
       "max         1776.000000          170.000000     4.000000     1.000000   \n",
       "\n",
       "            p2_conf       p3_conf  retweet_count  favorite_count  \n",
       "count  1.971000e+03  1.971000e+03     693.000000      693.000000  \n",
       "mean   1.345850e-01  6.016556e-02    4404.897547    16802.847042  \n",
       "std    1.010527e-01  5.094156e-02    4964.051876    13913.104826  \n",
       "min    1.011300e-08  1.740170e-10     146.000000      842.000000  \n",
       "25%    5.339800e-02  1.608055e-02    1950.000000     8333.000000  \n",
       "50%    1.173970e-01  4.944380e-02    3000.000000    12871.000000  \n",
       "75%    1.955655e-01  9.153815e-02    4781.000000    20808.000000  \n",
       "max    4.880140e-01  2.734190e-01   53919.000000   128322.000000  "
      ]
     },
     "execution_count": 80,
     "metadata": {},
     "output_type": "execute_result"
    }
   ],
   "source": [
    "df_twitter_test.describe()"
   ]
  },
  {
   "cell_type": "code",
   "execution_count": 81,
   "metadata": {},
   "outputs": [
    {
     "data": {
      "image/png": "[encoded data removed]",
      "text/plain": [
       "<Figure size 432x288 with 1 Axes>"
      ]
     },
     "metadata": {
      "needs_background": "light"
     },
     "output_type": "display_data"
    }
   ],
   "source": [
    "df_twitter_test['retweet_count'].hist(bins = [0,1000,2000,3000,4000,5000,6000,7000,8000,9000,10000]);\n",
    "plt.title('Histogram of Retweet Count (Low Retweet Count)')\n",
    "plt.xlabel('Retweet Count per TWeet')\n",
    "plt.ylabel('Number of Tweets at specific Retweet Count');"
   ]
  },
  {
   "cell_type": "code",
   "execution_count": 82,
   "metadata": {},
   "outputs": [
    {
     "data": {
      "image/png": "[encoded data removed]",
      "text/plain": [
       "<Figure size 432x288 with 1 Axes>"
      ]
     },
     "metadata": {
      "needs_background": "light"
     },
     "output_type": "display_data"
    }
   ],
   "source": [
    "df_twitter_test['retweet_count'].hist(bins = [10000,20000,30000,40000,50000]);\n",
    "plt.title('Histogram of Retweet Count (High Retweet Count)')\n",
    "plt.xlabel('Retweet Count per TWeet')\n",
    "plt.ylabel('Number of Tweets at specific Retweet Count');"
   ]
  },
  {
   "cell_type": "code",
   "execution_count": 83,
   "metadata": {},
   "outputs": [
    {
     "data": {
      "image/png": "[encoded data removed]",
      "text/plain": [
       "<Figure size 432x288 with 1 Axes>"
      ]
     },
     "metadata": {
      "needs_background": "light"
     },
     "output_type": "display_data"
    }
   ],
   "source": [
    "#Max retweet count\n",
    "df_twitter_test['favorite_count'].hist(bins = [0,5000,10000,15000,20000,25000,30000,40000,50000]);\n",
    "plt.title('Histogram of Favorite Count ')\n",
    "plt.xlabel('Favorite Count per TWeet')\n",
    "plt.ylabel('Number of Tweets at specific Favorite Count');"
   ]
  },
  {
   "cell_type": "code",
   "execution_count": 84,
   "metadata": {},
   "outputs": [
    {
     "data": {
      "image/png": "[encoded data removed]",
      "text/plain": [
       "<Figure size 360x360 with 1 Axes>"
      ]
     },
     "metadata": {
      "needs_background": "light"
     },
     "output_type": "display_data"
    }
   ],
   "source": [
    "df_twitter_test.plot(x = 'favorite_count', y = 'retweet_count', kind = 'scatter', figsize =(5,5));\n",
    "plt.title('Scatter Plot of Favorite Count Versus Retweet Count')\n",
    "plt.xlabel('Favorite Count')\n",
    "plt.ylabel('Retweet Count');"
   ]
  },
  {
   "cell_type": "code",
   "execution_count": 85,
   "metadata": {},
   "outputs": [
    {
     "data": {
      "image/png": "[encoded data removed]",
      "text/plain": [
       "<Figure size 900x756 with 1 Axes>"
      ]
     },
     "metadata": {},
     "output_type": "display_data"
    }
   ],
   "source": [
    "#Add Trendline\n",
    "import seaborn as sns; sns.set_theme(color_codes = True)\n",
    "ax = df_twitter_test\n",
    "fig, ax = plt.subplots()\n",
    "fig.set_size_inches(12.5, 10.5)\n",
    "sns.regplot(x=\"favorite_count\",\n",
    "            y=\"retweet_count\", \n",
    "            data= df_twitter_test);\n",
    "plt.title('Scatter Plot of Favorite Count Versus Retweet Count')\n",
    "plt.xlabel('Favorite Count')\n",
    "plt.ylabel('Retweet Count');"
   ]
  }
 ],
 "metadata": {
  "kernelspec": {
   "display_name": "Python 3",
   "language": "python",
   "name": "python3"
  },
  "language_info": {
   "codemirror_mode": {
    "name": "ipython",
    "version": 3
   },
   "file_extension": ".py",
   "mimetype": "text/x-python",
   "name": "python",
   "nbconvert_exporter": "python",
   "pygments_lexer": "ipython3",
   "version": "3.8.5"
  }
 },
 "nbformat": 4,
 "nbformat_minor": 4
}
